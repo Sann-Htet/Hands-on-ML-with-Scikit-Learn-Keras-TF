{
  "nbformat": 4,
  "nbformat_minor": 0,
  "metadata": {
    "colab": {
      "name": "05_Chapter5_Support_Vector_Machines.ipynb",
      "provenance": [],
      "collapsed_sections": []
    },
    "kernelspec": {
      "name": "python3",
      "display_name": "Python 3"
    },
    "language_info": {
      "name": "python"
    },
    "accelerator": "GPU"
  },
  "cells": [
    {
      "cell_type": "markdown",
      "source": [
        "# Import libraries"
      ],
      "metadata": {
        "id": "WfYHDBqy8tZR"
      }
    },
    {
      "cell_type": "code",
      "source": [
        "import numpy as np # to manipulate arrays\n",
        "import matplotlib.pyplot as plt # for visualization\n",
        "from sklearn import datasets # to load dataset provided sklern\n",
        "from sklearn.datasets import make_moons # dataset for make_moons\n",
        "from sklearn.pipeline import Pipeline # to create pipeline to combine preprocessing and training\n",
        "from sklearn.svm import LinearSVC # linear support vector classifier\n",
        "from sklearn.svm import LinearSVR # linear support vector regressor\n",
        "from sklearn.svm import SVC # support vector classifier for different kernel tricks\n",
        "from sklearn.svm import SVR # support vector regressor for different kernel tricks\n",
        "from sklearn.preprocessing import StandardScaler # scale the data into standard distribution\n",
        "from sklearn.preprocessing import PolynomialFeatures # to transform the data into higher dimensional dataset\n",
        "from sklearn.datasets import fetch_openml # load mnist dataset provided sklearn\n",
        "from sklearn.datasets import fetch_california_housing # load california housing price dataset\n",
        "from sklearn.metrics import accuracy_score # to evaluate the score of a model\n",
        "from sklearn.metrics import mean_squared_error # evaluation metric for regression problems\n",
        "from sklearn.model_selection import RandomizedSearchCV # to find the best combination of hyperparameters\n",
        "from sklearn.model_selection import train_test_split # to split the dataset for training and testing\n",
        "from scipy.stats import reciprocal, uniform # to get the best random distribution for hyperparameters\n",
        "\n",
        "import warnings\n",
        "warnings.filterwarnings(\"ignore\")"
      ],
      "metadata": {
        "id": "ybnjQym78wpH"
      },
      "execution_count": 36,
      "outputs": []
    },
    {
      "cell_type": "markdown",
      "source": [
        "# Linear SVM Classification"
      ],
      "metadata": {
        "id": "pBMhp4Wq8n7H"
      }
    },
    {
      "cell_type": "code",
      "execution_count": 2,
      "metadata": {
        "colab": {
          "base_uri": "https://localhost:8080/"
        },
        "id": "v6K1hVGt7zHd",
        "outputId": "1f828f6a-273e-434a-b6bf-fff80f8a016b"
      },
      "outputs": [
        {
          "output_type": "execute_result",
          "data": {
            "text/plain": [
              "Pipeline(steps=[('std_scaler', StandardScaler()),\n",
              "                ('linear_svc', LinearSVC(C=1, loss='hinge'))])"
            ]
          },
          "metadata": {},
          "execution_count": 2
        }
      ],
      "source": [
        "iris = datasets.load_iris()\n",
        "X = iris[\"data\"][:, (2, 3)] # petal length and petal width\n",
        "y = (iris[\"target\"] == 2).astype(np.int) # Iris virginica\n",
        "svm_clf = Pipeline([\n",
        "                     (\"std_scaler\", StandardScaler()),\n",
        "                    (\"linear_svc\", LinearSVC(C=1, loss=\"hinge\"))\n",
        "])\n",
        "svm_clf.fit(X, y)"
      ]
    },
    {
      "cell_type": "code",
      "source": [
        "svm_clf.predict([[5.5, 1.7]])"
      ],
      "metadata": {
        "colab": {
          "base_uri": "https://localhost:8080/"
        },
        "id": "sC54xXmG_A3G",
        "outputId": "a8b916bd-25e8-47a2-8a50-8354d111e0bc"
      },
      "execution_count": 3,
      "outputs": [
        {
          "output_type": "execute_result",
          "data": {
            "text/plain": [
              "array([1])"
            ]
          },
          "metadata": {},
          "execution_count": 3
        }
      ]
    },
    {
      "cell_type": "markdown",
      "source": [
        "# Nonlinear SVM Classification"
      ],
      "metadata": {
        "id": "aR3V1uA9AWQJ"
      }
    },
    {
      "cell_type": "code",
      "source": [
        "X, y = make_moons(n_samples=100, noise=0.15)\n",
        "polynomial_svm_clf = Pipeline([\n",
        "                          (\"transform_poly\", PolynomialFeatures(degree=3)),\n",
        "                          (\"std_scaler\", StandardScaler()),\n",
        "                          (\"svm_clf\", LinearSVC(C=9, loss=\"hinge\"))\n",
        "])\n",
        "polynomial_svm_clf.fit(X, y)"
      ],
      "metadata": {
        "colab": {
          "base_uri": "https://localhost:8080/"
        },
        "id": "yg7D7xgB_Ptu",
        "outputId": "1e84848a-6fa4-4706-f9d2-d9acfecb37d6"
      },
      "execution_count": 4,
      "outputs": [
        {
          "output_type": "execute_result",
          "data": {
            "text/plain": [
              "Pipeline(steps=[('transform_poly', PolynomialFeatures(degree=3)),\n",
              "                ('std_scaler', StandardScaler()),\n",
              "                ('svm_clf', LinearSVC(C=9, loss='hinge'))])"
            ]
          },
          "metadata": {},
          "execution_count": 4
        }
      ]
    },
    {
      "cell_type": "code",
      "source": [
        "def plot_dataset(X, y, axes):\n",
        "    plt.plot(X[:, 0][y==0], X[:, 1][y==0], \"bs\")\n",
        "    plt.plot(X[:, 0][y==1], X[:, 1][y==1], \"g^\")\n",
        "    plt.axis(axes)\n",
        "    plt.grid(True, which='both')\n",
        "    plt.xlabel(r\"$x_1$\", fontsize=20)\n",
        "    plt.ylabel(r\"$x_2$\", fontsize=20, rotation=0)\n",
        "\n",
        "plot_dataset(X, y, [-1.5, 2.5, -1, 1.5])\n",
        "plt.show()"
      ],
      "metadata": {
        "colab": {
          "base_uri": "https://localhost:8080/",
          "height": 292
        },
        "id": "2tbL_z3HLRci",
        "outputId": "d6741e5b-13c6-4ee8-de35-23dd1794bfa4"
      },
      "execution_count": 5,
      "outputs": [
        {
          "output_type": "display_data",
          "data": {
            "text/plain": [
              "<Figure size 432x288 with 1 Axes>"
            ],
            "image/png": "[encoded data removed]"
          },
          "metadata": {
            "needs_background": "light"
          }
        }
      ]
    },
    {
      "cell_type": "code",
      "source": [
        "def plot_predictions(clf, axes):\n",
        "    x0s = np.linspace(axes[0], axes[1], 100)\n",
        "    x1s = np.linspace(axes[2], axes[3], 100)\n",
        "    x0, x1 = np.meshgrid(x0s, x1s)\n",
        "    X = np.c_[x0.ravel(), x1.ravel()]\n",
        "    y_pred = clf.predict(X).reshape(x0.shape)\n",
        "    y_decision = clf.decision_function(X).reshape(x0.shape)\n",
        "    plt.contourf(x0, x1, y_pred, cmap=plt.cm.brg, alpha=0.2)\n",
        "    plt.contourf(x0, x1, y_decision, cmap=plt.cm.brg, alpha=0.1)\n",
        "\n",
        "plot_predictions(polynomial_svm_clf, [-1.5, 2.5, -1, 1.5])\n",
        "plot_dataset(X, y, [-1.5, 2.5, -1, 1.5])\n",
        "\n",
        "plt.show()"
      ],
      "metadata": {
        "colab": {
          "base_uri": "https://localhost:8080/",
          "height": 292
        },
        "id": "-turNbpMA73s",
        "outputId": "e652b6b5-5758-456d-d0f5-d27de48fae0d"
      },
      "execution_count": 6,
      "outputs": [
        {
          "output_type": "display_data",
          "data": {
            "text/plain": [
              "<Figure size 432x288 with 1 Axes>"
            ],
            "image/png": "[encoded data removed]"
          },
          "metadata": {
            "needs_background": "light"
          }
        }
      ]
    },
    {
      "cell_type": "markdown",
      "source": [
        "# Polynomial Kernel"
      ],
      "metadata": {
        "id": "uzcysfYWMZ6D"
      }
    },
    {
      "cell_type": "code",
      "source": [
        "poly_kernel_svm_clf = Pipeline([\n",
        "                          (\"std_scaler\", StandardScaler()),\n",
        "                          (\"svm_clf\", SVC(kernel=\"poly\", degree=3, coef0=1, C=5))\n",
        "])\n",
        "poly_kernel_svm_clf.fit(X, y)"
      ],
      "metadata": {
        "colab": {
          "base_uri": "https://localhost:8080/"
        },
        "id": "EsEaF-ZeMBZv",
        "outputId": "cc9086a5-55f4-422b-9ec5-4ed6a2ecc9da"
      },
      "execution_count": 7,
      "outputs": [
        {
          "output_type": "execute_result",
          "data": {
            "text/plain": [
              "Pipeline(steps=[('std_scaler', StandardScaler()),\n",
              "                ('svm_clf', SVC(C=5, coef0=1, kernel='poly'))])"
            ]
          },
          "metadata": {},
          "execution_count": 7
        }
      ]
    },
    {
      "cell_type": "code",
      "source": [
        "poly100_kernel_svm_clf = Pipeline([\n",
        "                          (\"std_scaler\", StandardScaler()),\n",
        "                          (\"svm_clf\", SVC(kernel=\"poly\", degree=10, coef0=100, C=5))\n",
        "])\n",
        "poly100_kernel_svm_clf.fit(X, y)"
      ],
      "metadata": {
        "colab": {
          "base_uri": "https://localhost:8080/"
        },
        "id": "sPw1WqLhOIev",
        "outputId": "3fd0bd55-08c8-4d51-8003-27618f7ad182"
      },
      "execution_count": 8,
      "outputs": [
        {
          "output_type": "execute_result",
          "data": {
            "text/plain": [
              "Pipeline(steps=[('std_scaler', StandardScaler()),\n",
              "                ('svm_clf', SVC(C=5, coef0=100, degree=10, kernel='poly'))])"
            ]
          },
          "metadata": {},
          "execution_count": 8
        }
      ]
    },
    {
      "cell_type": "code",
      "source": [
        "fig, axes = plt.subplots(ncols=2, figsize=(10.5, 4), sharey=True)\n",
        "\n",
        "plt.sca(axes[0])\n",
        "plot_predictions(poly_kernel_svm_clf, [-1.5, 2.45, -1, 1.5])\n",
        "plot_dataset(X, y, [-1.5, 2.4, -1, 1.5])\n",
        "plt.title(r\"$d=3, r=1, C=5$\", fontsize=18)\n",
        "\n",
        "plt.sca(axes[1])\n",
        "plot_predictions(poly100_kernel_svm_clf, [-1.5, 2.45, -1, 1.5])\n",
        "plot_dataset(X, y, [-1.5, 2.4, -1, 1.5])\n",
        "plt.title(r\"$d=10, r=100, C=5$\", fontsize=18)\n",
        "plt.ylabel(\"\")\n",
        "plt.show()"
      ],
      "metadata": {
        "colab": {
          "base_uri": "https://localhost:8080/",
          "height": 310
        },
        "id": "fK0EjWNRNa21",
        "outputId": "86d9ab9f-f7ad-4e23-9c84-41b174e31c75"
      },
      "execution_count": 9,
      "outputs": [
        {
          "output_type": "display_data",
          "data": {
            "text/plain": [
              "<Figure size 756x288 with 2 Axes>"
            ],
            "image/png": "[encoded data removed]"
          },
          "metadata": {
            "needs_background": "light"
          }
        }
      ]
    },
    {
      "cell_type": "markdown",
      "source": [
        "# Gaussian RBF Kernel"
      ],
      "metadata": {
        "id": "8jDGPcSIPMUT"
      }
    },
    {
      "cell_type": "code",
      "source": [
        "rbf_kernel_svm_clf = Pipeline([\n",
        "                        (\"scaler\", StandardScaler()),\n",
        "                        (\"svm_clf\", SVC(kernel=\"rbf\", gamma=5, C=0.001))\n",
        "])\n",
        "rbf_kernel_svm_clf.fit(X, y)"
      ],
      "metadata": {
        "colab": {
          "base_uri": "https://localhost:8080/"
        },
        "id": "qy6z0-9XNhJJ",
        "outputId": "3cd4244d-be6c-44e5-a7cc-0b3e0d23c9ad"
      },
      "execution_count": 10,
      "outputs": [
        {
          "output_type": "execute_result",
          "data": {
            "text/plain": [
              "Pipeline(steps=[('scaler', StandardScaler()),\n",
              "                ('svm_clf', SVC(C=0.001, gamma=5))])"
            ]
          },
          "metadata": {},
          "execution_count": 10
        }
      ]
    },
    {
      "cell_type": "code",
      "source": [
        "gamma1, gamma2 = 0.1, 5\n",
        "C1, C2 = 0.001, 1000\n",
        "hyperparams = (gamma1, C1), (gamma1, C2), (gamma2, C1), (gamma2, C2)\n",
        "\n",
        "svm_clfs = []\n",
        "for gamma, C in hyperparams:\n",
        "    rbf_kernel_svm_clf = Pipeline([\n",
        "            (\"scaler\", StandardScaler()),\n",
        "            (\"svm_clf\", SVC(kernel=\"rbf\", gamma=gamma, C=C))\n",
        "        ])\n",
        "    rbf_kernel_svm_clf.fit(X, y)\n",
        "    svm_clfs.append(rbf_kernel_svm_clf)\n",
        "\n",
        "fig, axes = plt.subplots(nrows=2, ncols=2, figsize=(10.5, 7), sharex=True, sharey=True)\n",
        "\n",
        "for i, svm_clf in enumerate(svm_clfs):\n",
        "    plt.sca(axes[i // 2, i % 2])\n",
        "    plot_predictions(svm_clf, [-1.5, 2.45, -1, 1.5])\n",
        "    plot_dataset(X, y, [-1.5, 2.45, -1, 1.5])\n",
        "    gamma, C = hyperparams[i]\n",
        "    plt.title(r\"$\\gamma = {}, C = {}$\".format(gamma, C), fontsize=16)\n",
        "    if i in (0, 1):\n",
        "        plt.xlabel(\"\")\n",
        "    if i in (1, 3):\n",
        "        plt.ylabel(\"\")\n",
        "\n",
        "plt.show()"
      ],
      "metadata": {
        "colab": {
          "base_uri": "https://localhost:8080/",
          "height": 471
        },
        "id": "pdNLlQdvPbUo",
        "outputId": "498b5dd9-fdae-4789-9dbb-60f4bd08e65a"
      },
      "execution_count": 11,
      "outputs": [
        {
          "output_type": "display_data",
          "data": {
            "text/plain": [
              "<Figure size 756x504 with 4 Axes>"
            ],
            "image/png": "[encoded data removed]"
          },
          "metadata": {
            "needs_background": "light"
          }
        }
      ]
    },
    {
      "cell_type": "markdown",
      "source": [
        "# SVM Regression"
      ],
      "metadata": {
        "id": "L73G1b3CGRL9"
      }
    },
    {
      "cell_type": "code",
      "source": [
        "np.random.seed(42)\n",
        "m = 50\n",
        "X = 2 * np.random.rand(m, 1)\n",
        "y = (4 + 3 * X + np.random.randn(m, 1)).ravel()"
      ],
      "metadata": {
        "id": "ckndiSkfQDGq"
      },
      "execution_count": 12,
      "outputs": []
    },
    {
      "cell_type": "code",
      "source": [
        "svm_reg = LinearSVR(epsilon=1.5)\n",
        "svm_reg.fit(X, y)"
      ],
      "metadata": {
        "colab": {
          "base_uri": "https://localhost:8080/"
        },
        "id": "y4hdu3dNHVgf",
        "outputId": "e7294d44-2aa5-40a9-d7e1-71a943acf532"
      },
      "execution_count": 13,
      "outputs": [
        {
          "output_type": "execute_result",
          "data": {
            "text/plain": [
              "LinearSVR(epsilon=1.5)"
            ]
          },
          "metadata": {},
          "execution_count": 13
        }
      ]
    },
    {
      "cell_type": "code",
      "source": [
        "# Non-linear data\n",
        "svm_poly_reg = SVR(kernel=\"poly\", degree=2, C=100, epsilon=0.1)\n",
        "svm_poly_reg.fit(X, y)"
      ],
      "metadata": {
        "colab": {
          "base_uri": "https://localhost:8080/"
        },
        "id": "GIFQuy_jHlVs",
        "outputId": "ce38e9f2-eac8-43a7-d5f1-ac59902fde88"
      },
      "execution_count": 14,
      "outputs": [
        {
          "output_type": "execute_result",
          "data": {
            "text/plain": [
              "SVR(C=100, degree=2, kernel='poly')"
            ]
          },
          "metadata": {},
          "execution_count": 14
        }
      ]
    },
    {
      "cell_type": "markdown",
      "source": [
        "# Exercises\n",
        "\n",
        "## No. 9"
      ],
      "metadata": {
        "id": "ZPRFVtvNzvri"
      }
    },
    {
      "cell_type": "code",
      "source": [
        "mnist = fetch_openml('mnist_784', version=1, cache=True, as_frame=False)\n",
        "\n",
        "X = mnist[\"data\"]\n",
        "y = mnist[\"target\"].astype(np.uint8)\n",
        "\n",
        "X_train = X[:60000]\n",
        "y_train = y[:60000]\n",
        "X_test = X[60000:]\n",
        "y_test = y[60000:]"
      ],
      "metadata": {
        "id": "1ArnFfBfIfz-"
      },
      "execution_count": 16,
      "outputs": []
    },
    {
      "cell_type": "markdown",
      "source": [
        "Let's start simple, with a linear SVM classifier. It will automatically use the `One-vs-All` (also called `One-vs-the-Rest`, `OvR`) strategy, so there's nothing special we need to do. Easy!"
      ],
      "metadata": {
        "id": "ZpOIyL2K0vac"
      }
    },
    {
      "cell_type": "code",
      "source": [
        "lin_clf = LinearSVC(random_state=42)\n",
        "lin_clf.fit(X_train, y_train)"
      ],
      "metadata": {
        "id": "gDa_JQLQ0joB"
      },
      "execution_count": null,
      "outputs": []
    },
    {
      "cell_type": "markdown",
      "source": [
        "Let's make predictions on the training set and measure the accuracy (we don't want to measure it on the test set yet, since we have not selected and trained the final model yet):"
      ],
      "metadata": {
        "id": "HWZ38Sv11I9K"
      }
    },
    {
      "cell_type": "code",
      "source": [
        "y_pred = lin_clf.predict(X_train)\n",
        "accuracy_score(y_train, y_pred)"
      ],
      "metadata": {
        "id": "LXZjzDTH1IJJ"
      },
      "execution_count": null,
      "outputs": []
    },
    {
      "cell_type": "markdown",
      "source": [
        "Okay, 83.5% accuracy on MNIST is pretty bad. This linear model is certainly too simple for MNIST, but perhaps we just needed to scale the data first:"
      ],
      "metadata": {
        "id": "OsltVEUI1iZk"
      }
    },
    {
      "cell_type": "code",
      "source": [
        "scaler = StandardScaler()\n",
        "X_train_scaled = scaler.fit_transform(X_train.astype(np.float32))\n",
        "X_test_scaled = scaler.fit_transform(X_test.astype(np.float32))"
      ],
      "metadata": {
        "id": "WPDJeCzr1nSZ"
      },
      "execution_count": 19,
      "outputs": []
    },
    {
      "cell_type": "code",
      "source": [
        "lin_clf = LinearSVC(random_state=42)\n",
        "lin_clf.fit(X_train, y_train)"
      ],
      "metadata": {
        "id": "fqOweNY51-Zm"
      },
      "execution_count": null,
      "outputs": []
    },
    {
      "cell_type": "markdown",
      "source": [
        "\n",
        "92% accuracy on this model.\n",
        "That's much better (we cut the error rate by about 53%), but still not great at all for MNIST. If we want to use an SVM, we will have to use a kernel. Let's try an SVC with an RBF kernel (the default).\n"
      ],
      "metadata": {
        "id": "ju8DLeq42Rdp"
      }
    },
    {
      "cell_type": "code",
      "source": [
        "svm_clf = SVC(gamma=\"scale\")\n",
        "svm_clf.fit(X_train_scaled[:10000], y_train[:10000])"
      ],
      "metadata": {
        "colab": {
          "base_uri": "https://localhost:8080/"
        },
        "id": "BxIHmOFD2JhC",
        "outputId": "3c7f60b9-2828-4f1a-dad7-dfeacd8cfa3d"
      },
      "execution_count": 20,
      "outputs": [
        {
          "output_type": "execute_result",
          "data": {
            "text/plain": [
              "SVC()"
            ]
          },
          "metadata": {},
          "execution_count": 20
        }
      ]
    },
    {
      "cell_type": "code",
      "source": [
        "y_pred = svm_clf.predict(X_train_scaled)\n",
        "accuracy_score(y_train, y_pred)"
      ],
      "metadata": {
        "colab": {
          "base_uri": "https://localhost:8080/"
        },
        "id": "rr2cz2ed2l3G",
        "outputId": "41428c48-08b2-42b1-a1fd-8a449e614932"
      },
      "execution_count": 21,
      "outputs": [
        {
          "output_type": "execute_result",
          "data": {
            "text/plain": [
              "0.9455333333333333"
            ]
          },
          "metadata": {},
          "execution_count": 21
        }
      ]
    },
    {
      "cell_type": "markdown",
      "source": [
        "That's promising, we get better performance even though we trained the model on 6 times less data. Let's tune the hyperparameters by doing a randomized search with cross validation. We will do this on a small dataset just to speed up the process:"
      ],
      "metadata": {
        "id": "pRKrZz8425mN"
      }
    },
    {
      "cell_type": "code",
      "source": [
        "param_distributions = {\"gamma\": reciprocal(0.001, 0.1), \"C\": uniform(1, 10)}\n",
        "rnd_search_cv = RandomizedSearchCV(svm_clf, param_distributions, n_iter=10, cv=3, verbose=2)\n",
        "rnd_search_cv.fit(X_train_scaled[:1000], y_train[:1000])"
      ],
      "metadata": {
        "colab": {
          "base_uri": "https://localhost:8080/"
        },
        "id": "Zt3d2kPQ2tpw",
        "outputId": "e1873505-309d-4f95-8f3b-5fc93df92778"
      },
      "execution_count": 25,
      "outputs": [
        {
          "output_type": "stream",
          "name": "stdout",
          "text": [
            "Fitting 3 folds for each of 10 candidates, totalling 30 fits\n",
            "[CV] END ....C=5.972485058923855, gamma=0.003997206819121806; total time=   0.4s\n",
            "[CV] END ....C=5.972485058923855, gamma=0.003997206819121806; total time=   0.3s\n",
            "[CV] END ....C=5.972485058923855, gamma=0.003997206819121806; total time=   0.4s\n",
            "[CV] END ...C=3.848404943774676, gamma=0.0011851515660043107; total time=   0.3s\n",
            "[CV] END ...C=3.848404943774676, gamma=0.0011851515660043107; total time=   0.3s\n",
            "[CV] END ...C=3.848404943774676, gamma=0.0011851515660043107; total time=   0.3s\n",
            "[CV] END ....C=7.095643339798968, gamma=0.010124137770478634; total time=   0.4s\n",
            "[CV] END ....C=7.095643339798968, gamma=0.010124137770478634; total time=   0.4s\n",
            "[CV] END ....C=7.095643339798968, gamma=0.010124137770478634; total time=   0.4s\n",
            "[CV] END ..C=1.5147875124998935, gamma=0.0036082193273637856; total time=   0.4s\n",
            "[CV] END ..C=1.5147875124998935, gamma=0.0036082193273637856; total time=   0.4s\n",
            "[CV] END ..C=1.5147875124998935, gamma=0.0036082193273637856; total time=   0.4s\n",
            "[CV] END ..C=10.082658859666537, gamma=0.0030138649046798005; total time=   0.3s\n",
            "[CV] END ..C=10.082658859666537, gamma=0.0030138649046798005; total time=   0.3s\n",
            "[CV] END ..C=10.082658859666537, gamma=0.0030138649046798005; total time=   0.4s\n",
            "[CV] END .....C=2.448948720912231, gamma=0.00952588908658077; total time=   0.4s\n",
            "[CV] END .....C=2.448948720912231, gamma=0.00952588908658077; total time=   0.4s\n",
            "[CV] END .....C=2.448948720912231, gamma=0.00952588908658077; total time=   0.4s\n",
            "[CV] END ...C=10.856504541106007, gamma=0.003048670883458067; total time=   0.4s\n",
            "[CV] END ...C=10.856504541106007, gamma=0.003048670883458067; total time=   0.4s\n",
            "[CV] END ...C=10.856504541106007, gamma=0.003048670883458067; total time=   0.4s\n",
            "[CV] END .....C=7.721355474058786, gamma=0.03336101309469783; total time=   0.4s\n",
            "[CV] END .....C=7.721355474058786, gamma=0.03336101309469783; total time=   0.4s\n",
            "[CV] END .....C=7.721355474058786, gamma=0.03336101309469783; total time=   0.4s\n",
            "[CV] END ...C=3.3763754399239967, gamma=0.028604390429824607; total time=   0.4s\n",
            "[CV] END ...C=3.3763754399239967, gamma=0.028604390429824607; total time=   0.4s\n",
            "[CV] END ...C=3.3763754399239967, gamma=0.028604390429824607; total time=   0.4s\n",
            "[CV] END ....C=4.677831327192532, gamma=0.018391267498289007; total time=   0.4s\n",
            "[CV] END ....C=4.677831327192532, gamma=0.018391267498289007; total time=   0.4s\n",
            "[CV] END ....C=4.677831327192532, gamma=0.018391267498289007; total time=   0.4s\n"
          ]
        },
        {
          "output_type": "execute_result",
          "data": {
            "text/plain": [
              "RandomizedSearchCV(cv=3, estimator=SVC(),\n",
              "                   param_distributions={'C': <scipy.stats._distn_infrastructure.rv_frozen object at 0x7f6c3a958d50>,\n",
              "                                        'gamma': <scipy.stats._distn_infrastructure.rv_frozen object at 0x7f6c3a958f10>},\n",
              "                   verbose=2)"
            ]
          },
          "metadata": {},
          "execution_count": 25
        }
      ]
    },
    {
      "cell_type": "code",
      "source": [
        "rnd_search_cv.best_estimator_"
      ],
      "metadata": {
        "colab": {
          "base_uri": "https://localhost:8080/"
        },
        "id": "SZqdCjGF4Aeu",
        "outputId": "d8332fab-3a6d-4e22-ea71-04fe87e6692f"
      },
      "execution_count": 26,
      "outputs": [
        {
          "output_type": "execute_result",
          "data": {
            "text/plain": [
              "SVC(C=3.848404943774676, gamma=0.0011851515660043107)"
            ]
          },
          "metadata": {},
          "execution_count": 26
        }
      ]
    },
    {
      "cell_type": "code",
      "source": [
        "rnd_search_cv.best_score_"
      ],
      "metadata": {
        "colab": {
          "base_uri": "https://localhost:8080/"
        },
        "id": "mkGsc5Gs4MYZ",
        "outputId": "42e4e3a0-b497-45e0-da9e-a4daef929329"
      },
      "execution_count": 27,
      "outputs": [
        {
          "output_type": "execute_result",
          "data": {
            "text/plain": [
              "0.8619937302572033"
            ]
          },
          "metadata": {},
          "execution_count": 27
        }
      ]
    },
    {
      "cell_type": "markdown",
      "source": [
        "\n",
        "\n",
        "This looks pretty low but remember we only trained the model on 1,000 instances. Let's retrain the best estimator on the whole training set:"
      ],
      "metadata": {
        "id": "fofyY19Z4TgA"
      }
    },
    {
      "cell_type": "code",
      "source": [
        "rnd_search_cv.best_estimator_.fit(X_train_scaled, y_train)"
      ],
      "metadata": {
        "id": "7DRtHsQ54OLR"
      },
      "execution_count": null,
      "outputs": []
    },
    {
      "cell_type": "code",
      "source": [
        "y_pred = rnd_search_cv.best_estimator_.predict(X_train_scaled)\n",
        "accuracy_score(y_train, y_pred)"
      ],
      "metadata": {
        "id": "Qv6xUDjj4r_K"
      },
      "execution_count": null,
      "outputs": []
    },
    {
      "cell_type": "markdown",
      "source": [
        "99% accuracy. This looks good! Let's select this model. Now we can test it on the test set:"
      ],
      "metadata": {
        "id": "3vNptOJX4wjl"
      }
    },
    {
      "cell_type": "code",
      "source": [
        "y_pred = rnd_search_cv.best_estimator_.predict(X_test_scaled)\n",
        "accuracy_score(y_test, y_pred)"
      ],
      "metadata": {
        "id": "YLKV4jEZ48Tf"
      },
      "execution_count": null,
      "outputs": []
    },
    {
      "cell_type": "markdown",
      "source": [
        "\n",
        "\n",
        "0.9717"
      ],
      "metadata": {
        "id": "pZ1x1UCb5And"
      }
    },
    {
      "cell_type": "markdown",
      "source": [
        "## Question no. 10"
      ],
      "metadata": {
        "id": "hW008DDM5TQc"
      }
    },
    {
      "cell_type": "code",
      "source": [
        "housing = fetch_california_housing()\n",
        "X = housing[\"data\"]\n",
        "y = housing[\"target\"]"
      ],
      "metadata": {
        "id": "loZmQGLj4_y5"
      },
      "execution_count": 30,
      "outputs": []
    },
    {
      "cell_type": "markdown",
      "source": [
        "\n",
        "\n",
        "Split it into a training set and a test set:\n",
        "\n"
      ],
      "metadata": {
        "id": "eepawVOF6Asm"
      }
    },
    {
      "cell_type": "code",
      "source": [
        "X_train, X_test, y_train, y_test = train_test_split(X, y, test_size=0.2, random_state=42)"
      ],
      "metadata": {
        "id": "5F3B3RrW5_0f"
      },
      "execution_count": 33,
      "outputs": []
    },
    {
      "cell_type": "code",
      "source": [
        "# Scale the data\n",
        "scaler = StandardScaler()\n",
        "X_train_scaled = scaler.fit_transform(X_train)\n",
        "X_test_scaled = scaler.transform(X_test)"
      ],
      "metadata": {
        "id": "kObXl0ai6IUR"
      },
      "execution_count": 34,
      "outputs": []
    },
    {
      "cell_type": "markdown",
      "source": [
        "Let's train a simple `LinearSVR` first:"
      ],
      "metadata": {
        "id": "l3czsDzX6kNk"
      }
    },
    {
      "cell_type": "code",
      "source": [
        "lin_svr = LinearSVR(random_state=42)\n",
        "lin_svr.fit(X_train_scaled, y_train)"
      ],
      "metadata": {
        "colab": {
          "base_uri": "https://localhost:8080/"
        },
        "id": "3KYhGdS86f5q",
        "outputId": "dace364b-ce09-431c-a586-9e7aa601de76"
      },
      "execution_count": 35,
      "outputs": [
        {
          "output_type": "execute_result",
          "data": {
            "text/plain": [
              "LinearSVR(random_state=42)"
            ]
          },
          "metadata": {},
          "execution_count": 35
        }
      ]
    },
    {
      "cell_type": "markdown",
      "source": [
        "Let's see how it performs on the training set:"
      ],
      "metadata": {
        "id": "OEvUTTbA6ugk"
      }
    },
    {
      "cell_type": "code",
      "source": [
        "y_pred = lin_svr.predict(X_train_scaled)\n",
        "mse = mean_squared_error(y_train, y_pred)\n",
        "mse"
      ],
      "metadata": {
        "colab": {
          "base_uri": "https://localhost:8080/"
        },
        "id": "_mUgOjpB6qbZ",
        "outputId": "98f16b3e-fba9-4e69-fb46-99baaf0513ae"
      },
      "execution_count": 37,
      "outputs": [
        {
          "output_type": "execute_result",
          "data": {
            "text/plain": [
              "0.9641780189948642"
            ]
          },
          "metadata": {},
          "execution_count": 37
        }
      ]
    },
    {
      "cell_type": "markdown",
      "source": [
        "Let's look at the RMSE:"
      ],
      "metadata": {
        "id": "sNP5csUN7Apy"
      }
    },
    {
      "cell_type": "code",
      "source": [
        "np.sqrt(mse)"
      ],
      "metadata": {
        "colab": {
          "base_uri": "https://localhost:8080/"
        },
        "id": "TXolfBZ468-1",
        "outputId": "a52101b4-0b58-4999-e2da-e6a41987904f"
      },
      "execution_count": 38,
      "outputs": [
        {
          "output_type": "execute_result",
          "data": {
            "text/plain": [
              "0.9819256687727764"
            ]
          },
          "metadata": {},
          "execution_count": 38
        }
      ]
    },
    {
      "cell_type": "markdown",
      "source": [
        "\n",
        "\n",
        "In this training set, the targets are tens of thousands of dollars. The RMSE gives a rough idea of the kind of error you should expect (with a higher weight for large errors): so with this model we can expect errors somewhere around $10,000. Not great. Let's see if we can do better with an RBF Kernel. We will use randomized search with cross validation to find the appropriate hyperparameter values for `C` and `gamma`:"
      ],
      "metadata": {
        "id": "ZiZlIVvy7SOo"
      }
    },
    {
      "cell_type": "code",
      "source": [
        "param_distributions = {\"gamma\": reciprocal(0.001, 0.1), \"C\": uniform(1, 10)}\n",
        "rnd_search_cv = RandomizedSearchCV(SVR(), param_distributions, n_iter=10, verbose=2, cv=3, random_state=42)\n",
        "rnd_search_cv.fit(X_train_scaled, y_train)"
      ],
      "metadata": {
        "colab": {
          "base_uri": "https://localhost:8080/"
        },
        "id": "wzX1OFHD7IZF",
        "outputId": "4e6315e8-81cd-4b7e-bad9-bdd5d3596419"
      },
      "execution_count": 39,
      "outputs": [
        {
          "output_type": "stream",
          "name": "stdout",
          "text": [
            "Fitting 3 folds for each of 10 candidates, totalling 30 fits\n",
            "[CV] END .....C=4.745401188473625, gamma=0.07969454818643928; total time=  13.1s\n",
            "[CV] END .....C=4.745401188473625, gamma=0.07969454818643928; total time=  11.0s\n",
            "[CV] END .....C=4.745401188473625, gamma=0.07969454818643928; total time=  11.0s\n",
            "[CV] END .....C=8.31993941811405, gamma=0.015751320499779724; total time=  10.7s\n",
            "[CV] END .....C=8.31993941811405, gamma=0.015751320499779724; total time=  16.6s\n",
            "[CV] END .....C=8.31993941811405, gamma=0.015751320499779724; total time=  14.3s\n",
            "[CV] END ....C=2.560186404424365, gamma=0.002051110418843397; total time=  20.7s\n",
            "[CV] END ....C=2.560186404424365, gamma=0.002051110418843397; total time=  16.2s\n",
            "[CV] END ....C=2.560186404424365, gamma=0.002051110418843397; total time=  16.8s\n",
            "[CV] END ....C=1.5808361216819946, gamma=0.05399484409787431; total time=  15.2s\n",
            "[CV] END ....C=1.5808361216819946, gamma=0.05399484409787431; total time=  21.7s\n",
            "[CV] END ....C=1.5808361216819946, gamma=0.05399484409787431; total time=  10.1s\n",
            "[CV] END ....C=7.011150117432088, gamma=0.026070247583707663; total time=  10.6s\n",
            "[CV] END ....C=7.011150117432088, gamma=0.026070247583707663; total time=  10.7s\n",
            "[CV] END ....C=7.011150117432088, gamma=0.026070247583707663; total time=  10.7s\n",
            "[CV] END .....C=1.2058449429580245, gamma=0.0870602087830485; total time=   9.9s\n",
            "[CV] END .....C=1.2058449429580245, gamma=0.0870602087830485; total time=  10.0s\n",
            "[CV] END .....C=1.2058449429580245, gamma=0.0870602087830485; total time=   9.9s\n",
            "[CV] END ...C=9.324426408004218, gamma=0.0026587543983272693; total time=  10.3s\n",
            "[CV] END ...C=9.324426408004218, gamma=0.0026587543983272693; total time=  10.3s\n",
            "[CV] END ...C=9.324426408004218, gamma=0.0026587543983272693; total time=  10.2s\n",
            "[CV] END ...C=2.818249672071006, gamma=0.0023270677083837795; total time=  10.2s\n",
            "[CV] END ...C=2.818249672071006, gamma=0.0023270677083837795; total time=  10.2s\n",
            "[CV] END ...C=2.818249672071006, gamma=0.0023270677083837795; total time=  10.3s\n",
            "[CV] END ....C=4.042422429595377, gamma=0.011207606211860567; total time=  10.1s\n",
            "[CV] END ....C=4.042422429595377, gamma=0.011207606211860567; total time=  10.2s\n",
            "[CV] END ....C=4.042422429595377, gamma=0.011207606211860567; total time=  10.3s\n",
            "[CV] END ....C=5.319450186421157, gamma=0.003823475224675185; total time=  10.2s\n",
            "[CV] END ....C=5.319450186421157, gamma=0.003823475224675185; total time=  10.2s\n",
            "[CV] END ....C=5.319450186421157, gamma=0.003823475224675185; total time=  10.3s\n"
          ]
        },
        {
          "output_type": "execute_result",
          "data": {
            "text/plain": [
              "RandomizedSearchCV(cv=3, estimator=SVR(),\n",
              "                   param_distributions={'C': <scipy.stats._distn_infrastructure.rv_frozen object at 0x7f6c3a8eea10>,\n",
              "                                        'gamma': <scipy.stats._distn_infrastructure.rv_frozen object at 0x7f6c3a8ee290>},\n",
              "                   random_state=42, verbose=2)"
            ]
          },
          "metadata": {},
          "execution_count": 39
        }
      ]
    },
    {
      "cell_type": "code",
      "source": [
        "rnd_search_cv.best_estimator_"
      ],
      "metadata": {
        "colab": {
          "base_uri": "https://localhost:8080/"
        },
        "id": "L7zDqAFS7caF",
        "outputId": "401d7067-e39c-4483-c301-c58effef7e8f"
      },
      "execution_count": 40,
      "outputs": [
        {
          "output_type": "execute_result",
          "data": {
            "text/plain": [
              "SVR(C=4.745401188473625, gamma=0.07969454818643928)"
            ]
          },
          "metadata": {},
          "execution_count": 40
        }
      ]
    },
    {
      "cell_type": "code",
      "source": [
        "y_pred = rnd_search_cv.best_estimator_.predict(X_train_scaled)\n",
        "mse = mean_squared_error(y_train, y_pred)\n",
        "np.sqrt(mse)"
      ],
      "metadata": {
        "colab": {
          "base_uri": "https://localhost:8080/"
        },
        "id": "LOKZFtMn7opS",
        "outputId": "70df21fc-e6b0-4b7e-807f-bb15022ccbcf"
      },
      "execution_count": 41,
      "outputs": [
        {
          "output_type": "execute_result",
          "data": {
            "text/plain": [
              "0.5727524770785356"
            ]
          },
          "metadata": {},
          "execution_count": 41
        }
      ]
    },
    {
      "cell_type": "markdown",
      "source": [
        "\n",
        "\n",
        "Looks much better than the linear model. Let's select this model and evaluate it on the test set:\n",
        "\n"
      ],
      "metadata": {
        "id": "tnb7RyBu78kS"
      }
    },
    {
      "cell_type": "code",
      "source": [
        "y_pred = rnd_search_cv.best_estimator_.predict(X_test_scaled)\n",
        "mse = mean_squared_error(y_test, y_pred)\n",
        "np.sqrt(mse)"
      ],
      "metadata": {
        "colab": {
          "base_uri": "https://localhost:8080/"
        },
        "id": "j0_6fNok79t9",
        "outputId": "0510813b-2bd4-4f60-b77a-f8c8d1cbbe49"
      },
      "execution_count": 42,
      "outputs": [
        {
          "output_type": "execute_result",
          "data": {
            "text/plain": [
              "0.592916838552874"
            ]
          },
          "metadata": {},
          "execution_count": 42
        }
      ]
    }
  ]
}