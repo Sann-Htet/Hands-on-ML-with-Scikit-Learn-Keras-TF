{
  "nbformat": 4,
  "nbformat_minor": 0,
  "metadata": {
    "colab": {
      "name": "11_Chapter11_Training_Deep_Neural_Networks.ipynb",
      "provenance": [],
      "collapsed_sections": []
    },
    "kernelspec": {
      "name": "python3",
      "display_name": "Python 3"
    },
    "language_info": {
      "name": "python"
    },
    "accelerator": "GPU"
  },
  "cells": [
    {
      "cell_type": "markdown",
      "source": [
        "# Import the Libraries"
      ],
      "metadata": {
        "id": "F_eT4iSPg8PM"
      }
    },
    {
      "cell_type": "code",
      "execution_count": 1,
      "metadata": {
        "id": "c6a-3mYmZRho"
      },
      "outputs": [],
      "source": [
        "import math # to perform math operation\n",
        "import os # to manipulate system path\n",
        "import numpy as np # to manipulate arrays\n",
        "import matplotlib.pyplot as plt # for visualization\n",
        "import tensorflow as tf # for tensor operations\n",
        "from tensorflow import keras # for deep learning\n",
        "from functools import partial # create a thin wrapper for any callable, with some default argument values"
      ]
    },
    {
      "cell_type": "markdown",
      "source": [
        "# Xavier and He Initialization"
      ],
      "metadata": {
        "id": "gJqwJDaUhSXZ"
      }
    },
    {
      "cell_type": "code",
      "source": [
        "[name for name in dir(keras.initializers) if not name.startswith(\"_\")]"
      ],
      "metadata": {
        "colab": {
          "base_uri": "https://localhost:8080/"
        },
        "id": "yDI9SPKohJPR",
        "outputId": "2b3b9e12-0d07-45e4-87ac-1b1f6482f52c"
      },
      "execution_count": 2,
      "outputs": [
        {
          "output_type": "execute_result",
          "data": {
            "text/plain": [
              "['Constant',\n",
              " 'GlorotNormal',\n",
              " 'GlorotUniform',\n",
              " 'HeNormal',\n",
              " 'HeUniform',\n",
              " 'Identity',\n",
              " 'Initializer',\n",
              " 'LecunNormal',\n",
              " 'LecunUniform',\n",
              " 'Ones',\n",
              " 'Orthogonal',\n",
              " 'RandomNormal',\n",
              " 'RandomUniform',\n",
              " 'TruncatedNormal',\n",
              " 'VarianceScaling',\n",
              " 'Zeros',\n",
              " 'constant',\n",
              " 'deserialize',\n",
              " 'get',\n",
              " 'glorot_normal',\n",
              " 'glorot_uniform',\n",
              " 'he_normal',\n",
              " 'he_uniform',\n",
              " 'identity',\n",
              " 'lecun_normal',\n",
              " 'lecun_uniform',\n",
              " 'ones',\n",
              " 'orthogonal',\n",
              " 'random_normal',\n",
              " 'random_uniform',\n",
              " 'serialize',\n",
              " 'truncated_normal',\n",
              " 'variance_scaling',\n",
              " 'zeros']"
            ]
          },
          "metadata": {},
          "execution_count": 2
        }
      ]
    },
    {
      "cell_type": "code",
      "source": [
        "keras.layers.Dense(10, activation=\"relu\", kernel_initializer=\"he_normal\")"
      ],
      "metadata": {
        "colab": {
          "base_uri": "https://localhost:8080/"
        },
        "id": "Rbc_gnJ-hb3s",
        "outputId": "c1b2e3d5-9d91-404d-815b-fccd586ab7a9"
      },
      "execution_count": 3,
      "outputs": [
        {
          "output_type": "execute_result",
          "data": {
            "text/plain": [
              "<keras.layers.core.dense.Dense at 0x7fe4c3863dd0>"
            ]
          },
          "metadata": {},
          "execution_count": 3
        }
      ]
    },
    {
      "cell_type": "markdown",
      "source": [
        "If we want He initialization with a uniform distribution but based on\n",
        "fan avg rather than fan in , we can use the `VarianceScaling` initializer like\n",
        "this:"
      ],
      "metadata": {
        "id": "LvZrmPZHhzYz"
      }
    },
    {
      "cell_type": "code",
      "source": [
        "he_avg_init = keras.initializers.VarianceScaling(scale=2, mode=\"fan_avg\", distribution=\"uniform\")\n",
        "keras.layers.Dense(10, activation=\"relu\", kernel_initializer=he_avg_init)"
      ],
      "metadata": {
        "colab": {
          "base_uri": "https://localhost:8080/"
        },
        "id": "SnEitmnOhrJ6",
        "outputId": "5a6ed331-3e14-40d0-ab08-b23fe0a75728"
      },
      "execution_count": 4,
      "outputs": [
        {
          "output_type": "execute_result",
          "data": {
            "text/plain": [
              "<keras.layers.core.dense.Dense at 0x7fe4c2f87890>"
            ]
          },
          "metadata": {},
          "execution_count": 4
        }
      ]
    },
    {
      "cell_type": "markdown",
      "source": [
        "# Nonsaturating Activation Functions"
      ],
      "metadata": {
        "id": "7G0Ha6Kti7Gd"
      }
    },
    {
      "cell_type": "code",
      "source": [
        "[m for m in dir(keras.activations) if not m.startswith(\"_\")]"
      ],
      "metadata": {
        "colab": {
          "base_uri": "https://localhost:8080/"
        },
        "id": "T9vzdeOCivoQ",
        "outputId": "b43f1e82-6bda-4b89-829b-c0d8551af5c3"
      },
      "execution_count": 5,
      "outputs": [
        {
          "output_type": "execute_result",
          "data": {
            "text/plain": [
              "['deserialize',\n",
              " 'elu',\n",
              " 'exponential',\n",
              " 'gelu',\n",
              " 'get',\n",
              " 'hard_sigmoid',\n",
              " 'linear',\n",
              " 'relu',\n",
              " 'selu',\n",
              " 'serialize',\n",
              " 'sigmoid',\n",
              " 'softmax',\n",
              " 'softplus',\n",
              " 'softsign',\n",
              " 'swish',\n",
              " 'tanh']"
            ]
          },
          "metadata": {},
          "execution_count": 5
        }
      ]
    },
    {
      "cell_type": "code",
      "source": [
        "[m for m in dir(keras.layers) if \"relu\" in m.lower()]"
      ],
      "metadata": {
        "colab": {
          "base_uri": "https://localhost:8080/"
        },
        "id": "CmPck_cmrpvq",
        "outputId": "01636b67-ebcf-4ea7-8a6f-96a4e52503f2"
      },
      "execution_count": 6,
      "outputs": [
        {
          "output_type": "execute_result",
          "data": {
            "text/plain": [
              "['LeakyReLU', 'PReLU', 'ReLU', 'ThresholdedReLU']"
            ]
          },
          "metadata": {},
          "execution_count": 6
        }
      ]
    },
    {
      "cell_type": "markdown",
      "source": [
        "Let's train a neural network on Fashion MNIST using the Leaky ReLU:"
      ],
      "metadata": {
        "id": "n73lya2VrwuR"
      }
    },
    {
      "cell_type": "code",
      "source": [
        "(X_train_full, y_train_full), (X_test, y_test) = keras.datasets.fashion_mnist.load_data()\n",
        "X_train_full = X_train_full / 255.0\n",
        "X_test = X_test / 255.0\n",
        "X_valid, X_train = X_train_full[:5000], X_train_full[5000:]\n",
        "y_valid, y_train = y_train_full[:5000], y_train_full[5000:]"
      ],
      "metadata": {
        "id": "wSxk8wiIrs0s",
        "colab": {
          "base_uri": "https://localhost:8080/"
        },
        "outputId": "d4df8728-a119-4bed-d7b4-52a0e1b99b3c"
      },
      "execution_count": 7,
      "outputs": [
        {
          "output_type": "stream",
          "name": "stdout",
          "text": [
            "Downloading data from https://storage.googleapis.com/tensorflow/tf-keras-datasets/train-labels-idx1-ubyte.gz\n",
            "32768/29515 [=================================] - 0s 0us/step\n",
            "40960/29515 [=========================================] - 0s 0us/step\n",
            "Downloading data from https://storage.googleapis.com/tensorflow/tf-keras-datasets/train-images-idx3-ubyte.gz\n",
            "26427392/26421880 [==============================] - 0s 0us/step\n",
            "26435584/26421880 [==============================] - 0s 0us/step\n",
            "Downloading data from https://storage.googleapis.com/tensorflow/tf-keras-datasets/t10k-labels-idx1-ubyte.gz\n",
            "16384/5148 [===============================================================================================] - 0s 0us/step\n",
            "Downloading data from https://storage.googleapis.com/tensorflow/tf-keras-datasets/t10k-images-idx3-ubyte.gz\n",
            "4423680/4422102 [==============================] - 0s 0us/step\n",
            "4431872/4422102 [==============================] - 0s 0us/step\n"
          ]
        }
      ]
    },
    {
      "cell_type": "code",
      "source": [
        "model = keras.models.Sequential([\n",
        "    keras.layers.Flatten(input_shape=[28, 28]),\n",
        "    keras.layers.Dense(300, kernel_initializer=\"he_normal\"),\n",
        "    keras.layers.LeakyReLU(),\n",
        "    keras.layers.Dense(100, kernel_initializer=\"he_normal\"),\n",
        "    keras.layers.LeakyReLU(),\n",
        "    keras.layers.Dense(10, activation=\"softmax\")\n",
        "])\n",
        "\n",
        "model.compile(loss=\"sparse_categorical_crossentropy\",\n",
        "              optimizer=keras.optimizers.SGD(learning_rate=1e-3),\n",
        "              metrics=[\"accuracy\"])\n",
        "\n",
        "history = model.fit(X_train, y_train, epochs=10,\n",
        "                    validation_data=(X_valid, y_valid))"
      ],
      "metadata": {
        "colab": {
          "base_uri": "https://localhost:8080/"
        },
        "id": "6BL33Du6r7Cn",
        "outputId": "5b3f73b0-c270-48f0-d796-7afe816faf06"
      },
      "execution_count": 8,
      "outputs": [
        {
          "output_type": "stream",
          "name": "stdout",
          "text": [
            "Epoch 1/10\n",
            "1719/1719 [==============================] - 16s 9ms/step - loss: 1.2734 - accuracy: 0.6016 - val_loss: 0.8934 - val_accuracy: 0.7016\n",
            "Epoch 2/10\n",
            "1719/1719 [==============================] - 8s 5ms/step - loss: 0.8104 - accuracy: 0.7289 - val_loss: 0.7232 - val_accuracy: 0.7568\n",
            "Epoch 3/10\n",
            "1719/1719 [==============================] - 8s 4ms/step - loss: 0.6965 - accuracy: 0.7678 - val_loss: 0.6470 - val_accuracy: 0.7914\n",
            "Epoch 4/10\n",
            "1719/1719 [==============================] - 8s 5ms/step - loss: 0.6356 - accuracy: 0.7881 - val_loss: 0.6003 - val_accuracy: 0.8052\n",
            "Epoch 5/10\n",
            "1719/1719 [==============================] - 8s 4ms/step - loss: 0.5950 - accuracy: 0.8011 - val_loss: 0.5698 - val_accuracy: 0.8132\n",
            "Epoch 6/10\n",
            "1719/1719 [==============================] - 7s 4ms/step - loss: 0.5659 - accuracy: 0.8109 - val_loss: 0.5431 - val_accuracy: 0.8214\n",
            "Epoch 7/10\n",
            "1719/1719 [==============================] - 7s 4ms/step - loss: 0.5439 - accuracy: 0.8164 - val_loss: 0.5234 - val_accuracy: 0.8278\n",
            "Epoch 8/10\n",
            "1719/1719 [==============================] - 7s 4ms/step - loss: 0.5261 - accuracy: 0.8215 - val_loss: 0.5109 - val_accuracy: 0.8308\n",
            "Epoch 9/10\n",
            "1719/1719 [==============================] - 7s 4ms/step - loss: 0.5119 - accuracy: 0.8259 - val_loss: 0.4980 - val_accuracy: 0.8354\n",
            "Epoch 10/10\n",
            "1719/1719 [==============================] - 7s 4ms/step - loss: 0.5000 - accuracy: 0.8285 - val_loss: 0.4853 - val_accuracy: 0.8384\n"
          ]
        }
      ]
    },
    {
      "cell_type": "markdown",
      "source": [
        "\n",
        "\n",
        "Now let's try PReLU:\n"
      ],
      "metadata": {
        "id": "qFUv60Xh03Vn"
      }
    },
    {
      "cell_type": "code",
      "source": [
        "model = keras.models.Sequential([\n",
        "    keras.layers.Flatten(input_shape=[28, 28]),\n",
        "    keras.layers.Dense(300, kernel_initializer=\"he_normal\"),\n",
        "    keras.layers.PReLU(),\n",
        "    keras.layers.Dense(100, kernel_initializer=\"he_normal\"),\n",
        "    keras.layers.PReLU(),\n",
        "    keras.layers.Dense(10, activation=\"softmax\")\n",
        "])\n",
        "\n",
        "model.compile(loss=\"sparse_categorical_crossentropy\",\n",
        "              optimizer=keras.optimizers.SGD(learning_rate=1e-3),\n",
        "              metrics=[\"accuracy\"])\n",
        "\n",
        "history = model.fit(X_train, y_train, epochs=10,\n",
        "                    validation_data=(X_valid, y_valid))"
      ],
      "metadata": {
        "colab": {
          "base_uri": "https://localhost:8080/"
        },
        "id": "d5oO_1fE0KD7",
        "outputId": "950b8474-7ec8-48cb-941a-7f9a8f1ef4a3"
      },
      "execution_count": 9,
      "outputs": [
        {
          "output_type": "stream",
          "name": "stdout",
          "text": [
            "Epoch 1/10\n",
            "1719/1719 [==============================] - 10s 5ms/step - loss: 1.3860 - accuracy: 0.6016 - val_loss: 0.9335 - val_accuracy: 0.7182\n",
            "Epoch 2/10\n",
            "1719/1719 [==============================] - 8s 5ms/step - loss: 0.8322 - accuracy: 0.7416 - val_loss: 0.7408 - val_accuracy: 0.7698\n",
            "Epoch 3/10\n",
            "1719/1719 [==============================] - 8s 5ms/step - loss: 0.7058 - accuracy: 0.7768 - val_loss: 0.6582 - val_accuracy: 0.7956\n",
            "Epoch 4/10\n",
            "1719/1719 [==============================] - 8s 5ms/step - loss: 0.6393 - accuracy: 0.7953 - val_loss: 0.6097 - val_accuracy: 0.8084\n",
            "Epoch 5/10\n",
            "1719/1719 [==============================] - 8s 5ms/step - loss: 0.5959 - accuracy: 0.8067 - val_loss: 0.5712 - val_accuracy: 0.8160\n",
            "Epoch 6/10\n",
            "1719/1719 [==============================] - 8s 4ms/step - loss: 0.5646 - accuracy: 0.8142 - val_loss: 0.5439 - val_accuracy: 0.8254\n",
            "Epoch 7/10\n",
            "1719/1719 [==============================] - 8s 5ms/step - loss: 0.5409 - accuracy: 0.8194 - val_loss: 0.5283 - val_accuracy: 0.8266\n",
            "Epoch 8/10\n",
            "1719/1719 [==============================] - 8s 5ms/step - loss: 0.5229 - accuracy: 0.8243 - val_loss: 0.5093 - val_accuracy: 0.8350\n",
            "Epoch 9/10\n",
            "1719/1719 [==============================] - 8s 5ms/step - loss: 0.5081 - accuracy: 0.8274 - val_loss: 0.4976 - val_accuracy: 0.8388\n",
            "Epoch 10/10\n",
            "1719/1719 [==============================] - 8s 5ms/step - loss: 0.4955 - accuracy: 0.8312 - val_loss: 0.4855 - val_accuracy: 0.8378\n"
          ]
        }
      ]
    },
    {
      "cell_type": "markdown",
      "source": [
        "\n",
        "\n",
        "Let's create a neural net for Fashion MNIST with 100 hidden layers, using the SELU activation function:\n"
      ],
      "metadata": {
        "id": "Z2FKq0a91lj9"
      }
    },
    {
      "cell_type": "code",
      "source": [
        "model = keras.models.Sequential()\n",
        "model.add(keras.layers.Flatten(input_shape=[28, 28]))\n",
        "model.add(keras.layers.Dense(300, activation=\"selu\", kernel_initializer=\"lecun_normal\"))\n",
        "for layer in range(99):\n",
        "  model.add(keras.layers.Dense(100, activation=\"selu\", kernel_initializer=\"lecun_normal\"))\n",
        "model.add(keras.layers.Dense(10, activation=\"softmax\"))\n",
        "\n",
        "model.compile(loss=\"sparse_categorical_crossentropy\",\n",
        "              optimizer=keras.optimizers.SGD(learning_rate=1e-3),\n",
        "              metrics=[\"accuracy\"])"
      ],
      "metadata": {
        "id": "nc5bafl909-t"
      },
      "execution_count": 10,
      "outputs": []
    },
    {
      "cell_type": "markdown",
      "source": [
        "\n",
        "\n",
        "Now let's train it. Do not forget to scale the inputs to mean 0 and standard deviation 1:\n"
      ],
      "metadata": {
        "id": "9rIQ6MiA2XS_"
      }
    },
    {
      "cell_type": "code",
      "source": [
        "pixel_means = X_train.mean(axis=0, keepdims=True)\n",
        "pixel_stds = X_train.std(axis=0, keepdims=True)\n",
        "X_train_scaled = (X_train - pixel_means) / pixel_stds\n",
        "X_valid_scaled = (X_valid - pixel_means) / pixel_stds\n",
        "X_test_scaled = (X_test - pixel_means) / pixel_stds"
      ],
      "metadata": {
        "id": "uwXJiY6m2TbS"
      },
      "execution_count": 11,
      "outputs": []
    },
    {
      "cell_type": "code",
      "source": [
        "history = model.fit(X_train_scaled, y_train, epochs=5,\n",
        "                    validation_data=(X_valid_scaled, y_valid))"
      ],
      "metadata": {
        "colab": {
          "base_uri": "https://localhost:8080/"
        },
        "id": "bMUVFihv2g7p",
        "outputId": "cf856e9a-e253-466c-9708-73c85271f244"
      },
      "execution_count": 12,
      "outputs": [
        {
          "output_type": "stream",
          "name": "stdout",
          "text": [
            "Epoch 1/5\n",
            "1719/1719 [==============================] - 35s 19ms/step - loss: 0.9724 - accuracy: 0.6419 - val_loss: 0.7028 - val_accuracy: 0.7464\n",
            "Epoch 2/5\n",
            "1719/1719 [==============================] - 31s 18ms/step - loss: 0.6396 - accuracy: 0.7719 - val_loss: 0.5851 - val_accuracy: 0.8016\n",
            "Epoch 3/5\n",
            "1719/1719 [==============================] - 31s 18ms/step - loss: 0.5448 - accuracy: 0.8098 - val_loss: 0.5524 - val_accuracy: 0.8182\n",
            "Epoch 4/5\n",
            "1719/1719 [==============================] - 31s 18ms/step - loss: 0.4933 - accuracy: 0.8317 - val_loss: 0.4990 - val_accuracy: 0.8264\n",
            "Epoch 5/5\n",
            "1719/1719 [==============================] - 31s 18ms/step - loss: 0.4590 - accuracy: 0.8424 - val_loss: 0.4638 - val_accuracy: 0.8458\n"
          ]
        }
      ]
    },
    {
      "cell_type": "markdown",
      "source": [
        "Now look at what happens if we try to use the ReLU activation function instead:"
      ],
      "metadata": {
        "id": "DKXu6Vud25Pk"
      }
    },
    {
      "cell_type": "code",
      "source": [
        "model = keras.models.Sequential()\n",
        "model.add(keras.layers.Flatten(input_shape=[28, 28]))\n",
        "model.add(keras.layers.Dense(300, activation=\"relu\", kernel_initializer=\"he_normal\"))\n",
        "for layer in range(99):\n",
        "    model.add(keras.layers.Dense(100, activation=\"relu\", kernel_initializer=\"he_normal\"))\n",
        "model.add(keras.layers.Dense(10, activation=\"softmax\"))\n",
        "\n",
        "model.compile(loss=\"sparse_categorical_crossentropy\",\n",
        "              optimizer=keras.optimizers.SGD(learning_rate=1e-3),\n",
        "              metrics=[\"accuracy\"])\n",
        "\n",
        "history = model.fit(X_train_scaled, y_train, epochs=5,\n",
        "                    validation_data=(X_valid_scaled, y_valid))"
      ],
      "metadata": {
        "colab": {
          "base_uri": "https://localhost:8080/"
        },
        "id": "C7l4TnAa2kQt",
        "outputId": "e4876d87-493a-4205-edf7-123f00a07631"
      },
      "execution_count": 13,
      "outputs": [
        {
          "output_type": "stream",
          "name": "stdout",
          "text": [
            "Epoch 1/5\n",
            "1719/1719 [==============================] - 33s 17ms/step - loss: 2.0636 - accuracy: 0.1894 - val_loss: 1.8489 - val_accuracy: 0.2596\n",
            "Epoch 2/5\n",
            "1719/1719 [==============================] - 29s 17ms/step - loss: 1.4803 - accuracy: 0.4201 - val_loss: 1.1072 - val_accuracy: 0.5640\n",
            "Epoch 3/5\n",
            "1719/1719 [==============================] - 28s 16ms/step - loss: 1.2265 - accuracy: 0.5046 - val_loss: 0.9833 - val_accuracy: 0.6072\n",
            "Epoch 4/5\n",
            "1719/1719 [==============================] - 28s 16ms/step - loss: 0.9421 - accuracy: 0.6206 - val_loss: 0.7622 - val_accuracy: 0.7236\n",
            "Epoch 5/5\n",
            "1719/1719 [==============================] - 28s 16ms/step - loss: 0.8463 - accuracy: 0.6902 - val_loss: 0.9315 - val_accuracy: 0.6408\n"
          ]
        }
      ]
    },
    {
      "cell_type": "markdown",
      "source": [
        "Not great at all, we suffered from the vanishing/exploding gradients problem."
      ],
      "metadata": {
        "id": "fJNKZbN83HFb"
      }
    },
    {
      "cell_type": "markdown",
      "source": [
        "# Implementing Batch Normalization with Keras"
      ],
      "metadata": {
        "id": "G_ZGZQW8xYBX"
      }
    },
    {
      "cell_type": "code",
      "source": [
        "model = keras.models.Sequential([\n",
        "                  keras.layers.Flatten(input_shape=(28, 28)),\n",
        "                  keras.layers.BatchNormalization(),\n",
        "                  keras.layers.Dense(300, activation=\"relu\"),\n",
        "                  keras.layers.BatchNormalization(),\n",
        "                  keras.layers.Dense(100, activation=\"relu\"),\n",
        "                  keras.layers.BatchNormalization(),\n",
        "                  keras.layers.Dense(10, activation=\"softmax\")\n",
        "])"
      ],
      "metadata": {
        "id": "5a83VkY73EDJ"
      },
      "execution_count": 14,
      "outputs": []
    },
    {
      "cell_type": "code",
      "source": [
        "model.summary()"
      ],
      "metadata": {
        "colab": {
          "base_uri": "https://localhost:8080/"
        },
        "id": "76ZoX8Za31OD",
        "outputId": "3b0812b8-d35a-4d89-f009-fbd7cf6732bb"
      },
      "execution_count": 15,
      "outputs": [
        {
          "output_type": "stream",
          "name": "stdout",
          "text": [
            "Model: \"sequential_4\"\n",
            "_________________________________________________________________\n",
            " Layer (type)                Output Shape              Param #   \n",
            "=================================================================\n",
            " flatten_4 (Flatten)         (None, 784)               0         \n",
            "                                                                 \n",
            " batch_normalization (BatchN  (None, 784)              3136      \n",
            " ormalization)                                                   \n",
            "                                                                 \n",
            " dense_210 (Dense)           (None, 300)               235500    \n",
            "                                                                 \n",
            " batch_normalization_1 (Batc  (None, 300)              1200      \n",
            " hNormalization)                                                 \n",
            "                                                                 \n",
            " dense_211 (Dense)           (None, 100)               30100     \n",
            "                                                                 \n",
            " batch_normalization_2 (Batc  (None, 100)              400       \n",
            " hNormalization)                                                 \n",
            "                                                                 \n",
            " dense_212 (Dense)           (None, 10)                1010      \n",
            "                                                                 \n",
            "=================================================================\n",
            "Total params: 271,346\n",
            "Trainable params: 268,978\n",
            "Non-trainable params: 2,368\n",
            "_________________________________________________________________\n"
          ]
        }
      ]
    },
    {
      "cell_type": "code",
      "source": [
        "[(var.name, var.trainable) for var in model.layers[1].variables]"
      ],
      "metadata": {
        "id": "sm8LeXLb3547",
        "colab": {
          "base_uri": "https://localhost:8080/"
        },
        "outputId": "bce8cee0-e12e-4bb5-8663-2c6a0218a664"
      },
      "execution_count": 16,
      "outputs": [
        {
          "output_type": "execute_result",
          "data": {
            "text/plain": [
              "[('batch_normalization/gamma:0', True),\n",
              " ('batch_normalization/beta:0', True),\n",
              " ('batch_normalization/moving_mean:0', False),\n",
              " ('batch_normalization/moving_variance:0', False)]"
            ]
          },
          "metadata": {},
          "execution_count": 16
        }
      ]
    },
    {
      "cell_type": "code",
      "source": [
        "model.compile(loss=\"sparse_categorical_crossentropy\",\n",
        "              optimizer=keras.optimizers.SGD(learning_rate=1e-3),\n",
        "              metrics=[\"accuracy\"])\n",
        "\n",
        "history = model.fit(X_train, y_train, epochs=10,\n",
        "                    validation_data=(X_valid, y_valid))"
      ],
      "metadata": {
        "id": "2NGkTPdd4QXT",
        "colab": {
          "base_uri": "https://localhost:8080/"
        },
        "outputId": "b3be6a73-d65f-4aaa-f24c-29936ce38a8f"
      },
      "execution_count": 17,
      "outputs": [
        {
          "output_type": "stream",
          "name": "stdout",
          "text": [
            "Epoch 1/10\n",
            "1719/1719 [==============================] - 12s 6ms/step - loss: 0.8628 - accuracy: 0.7098 - val_loss: 0.5603 - val_accuracy: 0.8124\n",
            "Epoch 2/10\n",
            "1719/1719 [==============================] - 11s 6ms/step - loss: 0.5794 - accuracy: 0.8009 - val_loss: 0.4805 - val_accuracy: 0.8360\n",
            "Epoch 3/10\n",
            "1719/1719 [==============================] - 11s 6ms/step - loss: 0.5197 - accuracy: 0.8190 - val_loss: 0.4413 - val_accuracy: 0.8496\n",
            "Epoch 4/10\n",
            "1719/1719 [==============================] - 13s 8ms/step - loss: 0.4873 - accuracy: 0.8299 - val_loss: 0.4203 - val_accuracy: 0.8550\n",
            "Epoch 5/10\n",
            "1719/1719 [==============================] - 11s 6ms/step - loss: 0.4640 - accuracy: 0.8365 - val_loss: 0.4015 - val_accuracy: 0.8634\n",
            "Epoch 6/10\n",
            "1719/1719 [==============================] - 11s 7ms/step - loss: 0.4415 - accuracy: 0.8449 - val_loss: 0.3893 - val_accuracy: 0.8660\n",
            "Epoch 7/10\n",
            "1719/1719 [==============================] - 11s 6ms/step - loss: 0.4265 - accuracy: 0.8490 - val_loss: 0.3814 - val_accuracy: 0.8682\n",
            "Epoch 8/10\n",
            "1719/1719 [==============================] - 11s 7ms/step - loss: 0.4152 - accuracy: 0.8543 - val_loss: 0.3725 - val_accuracy: 0.8704\n",
            "Epoch 9/10\n",
            "1719/1719 [==============================] - 11s 7ms/step - loss: 0.4046 - accuracy: 0.8563 - val_loss: 0.3670 - val_accuracy: 0.8704\n",
            "Epoch 10/10\n",
            "1719/1719 [==============================] - 11s 7ms/step - loss: 0.3950 - accuracy: 0.8605 - val_loss: 0.3596 - val_accuracy: 0.8724\n"
          ]
        }
      ]
    },
    {
      "cell_type": "markdown",
      "source": [
        "Sometimes applying BN before the activation function works better (there's a debate on this topic). Moreover, the layer before a `BatchNormalization` layer does not need to have bias terms, since the `BatchNormalization` layer has some as well, it would be a waste of parameters, so you can set `use_bias=False` when creating those layers:"
      ],
      "metadata": {
        "id": "wwWPU0Dq42a9"
      }
    },
    {
      "cell_type": "code",
      "source": [
        "model = keras.models.Sequential([\n",
        "                  keras.layers.Flatten(input_shape=[28, 28]),\n",
        "                  keras.layers.BatchNormalization(),\n",
        "                  keras.layers.Dense(300, use_bias=False),\n",
        "                  keras.layers.BatchNormalization(),\n",
        "                  keras.layers.Activation(\"relu\"),\n",
        "                  keras.layers.Dense(100, use_bias=False),\n",
        "                  keras.layers.BatchNormalization(),\n",
        "                  keras.layers.Activation(\"relu\"),\n",
        "                  keras.layers.Dense(10, use_bias=False),\n",
        "                  keras.layers.BatchNormalization(),\n",
        "                  keras.layers.Activation(\"softmax\"),\n",
        "])\n",
        "\n",
        "model.compile(loss=\"sparse_categorical_crossentropy\",\n",
        "              optimizer=keras.optimizers.SGD(learning_rate=1e-3),\n",
        "              metrics=[\"accuracy\"])\n",
        "\n",
        "history = model.fit(X_train, y_train, epochs=10,\n",
        "                    validation_data=(X_valid, y_valid))"
      ],
      "metadata": {
        "id": "ebh6SGIv4qfY",
        "colab": {
          "base_uri": "https://localhost:8080/"
        },
        "outputId": "3f4f361c-eb65-4b79-c78e-e5dedb3ff101"
      },
      "execution_count": 18,
      "outputs": [
        {
          "output_type": "stream",
          "name": "stdout",
          "text": [
            "Epoch 1/10\n",
            "1719/1719 [==============================] - 13s 7ms/step - loss: 1.1693 - accuracy: 0.6673 - val_loss: 0.8245 - val_accuracy: 0.7826\n",
            "Epoch 2/10\n",
            "1719/1719 [==============================] - 11s 6ms/step - loss: 0.8784 - accuracy: 0.7675 - val_loss: 0.6931 - val_accuracy: 0.8132\n",
            "Epoch 3/10\n",
            "1719/1719 [==============================] - 11s 6ms/step - loss: 0.7828 - accuracy: 0.7896 - val_loss: 0.6189 - val_accuracy: 0.8320\n",
            "Epoch 4/10\n",
            "1719/1719 [==============================] - 12s 7ms/step - loss: 0.7199 - accuracy: 0.8017 - val_loss: 0.5668 - val_accuracy: 0.8416\n",
            "Epoch 5/10\n",
            "1719/1719 [==============================] - 11s 7ms/step - loss: 0.6768 - accuracy: 0.8066 - val_loss: 0.5303 - val_accuracy: 0.8492\n",
            "Epoch 6/10\n",
            "1719/1719 [==============================] - 11s 7ms/step - loss: 0.6395 - accuracy: 0.8160 - val_loss: 0.5054 - val_accuracy: 0.8522\n",
            "Epoch 7/10\n",
            "1719/1719 [==============================] - 11s 7ms/step - loss: 0.6150 - accuracy: 0.8192 - val_loss: 0.4823 - val_accuracy: 0.8574\n",
            "Epoch 8/10\n",
            "1719/1719 [==============================] - 11s 6ms/step - loss: 0.5925 - accuracy: 0.8245 - val_loss: 0.4635 - val_accuracy: 0.8620\n",
            "Epoch 9/10\n",
            "1719/1719 [==============================] - 11s 7ms/step - loss: 0.5727 - accuracy: 0.8302 - val_loss: 0.4495 - val_accuracy: 0.8628\n",
            "Epoch 10/10\n",
            "1719/1719 [==============================] - 11s 6ms/step - loss: 0.5572 - accuracy: 0.8304 - val_loss: 0.4377 - val_accuracy: 0.8642\n"
          ]
        }
      ]
    },
    {
      "cell_type": "markdown",
      "source": [
        "# Gradient Clipping"
      ],
      "metadata": {
        "id": "PmX85NYPPHuS"
      }
    },
    {
      "cell_type": "markdown",
      "source": [
        "\n",
        "\n",
        "All Keras optimizers accept `clipnorm` or `clipvalue` arguments:\n"
      ],
      "metadata": {
        "id": "OJlR7tBwPT3t"
      }
    },
    {
      "cell_type": "code",
      "source": [
        "optimizer = keras.optimizers.SGD(clipvalue=1.0)"
      ],
      "metadata": {
        "id": "Rb7wN3Vx5sKx"
      },
      "execution_count": 19,
      "outputs": []
    },
    {
      "cell_type": "code",
      "source": [
        "optimizer = keras.optimizers.SGD(clipnorm=1.0)"
      ],
      "metadata": {
        "id": "l5B9sTtTPfEi"
      },
      "execution_count": 20,
      "outputs": []
    },
    {
      "cell_type": "markdown",
      "source": [
        "# Transfer Learning with Keras\n",
        "\n",
        "## Reusing a Keras model\n",
        "\n",
        "Let's split the fashion MNIST training set in two:\n",
        "\n",
        "* `X_train_A`: all images of all items except for sandals and shirts (classes 5 and 6).\n",
        "* `X_train_B`: a much smaller training set of just the first 200 images of sandals or shirts.\n",
        "\n",
        "The validation set and the test set are also split this way, but without restricting the number of images.\n",
        "\n",
        "We will train a model on set A (classification task with 8 classes), and try to reuse it to tackle set B (binary classification). We hope to transfer a little bit of knowledge from task A to task B, since classes in set A (sneakers, ankle boots, coats, t-shirts, etc.) are somewhat similar to classes in set B (sandals and shirts). However, since we are using `Dense` layers, only patterns that occur at the same location can be reused (in contrast, convolutional layers will transfer much better, since learned patterns can be detected anywhere on the image, as we will see in the CNN chapter).\n"
      ],
      "metadata": {
        "id": "szOtZ0WrUBbt"
      }
    },
    {
      "cell_type": "code",
      "source": [
        "def split_dataset(X, y):\n",
        "    y_5_or_6 = (y == 5) | (y == 6) # sandals or shirts\n",
        "    y_A = y[~y_5_or_6]\n",
        "    y_A[y_A > 6] -= 2 # class indices 7, 8, 9 should be moved to 5, 6, 7\n",
        "    y_B = (y[y_5_or_6] == 6).astype(np.float32) # binary classification task: is it a shirt (class 6)?\n",
        "    return ((X[~y_5_or_6], y_A),\n",
        "            (X[y_5_or_6], y_B))\n",
        "\n",
        "(X_train_A, y_train_A), (X_train_B, y_train_B) = split_dataset(X_train, y_train)\n",
        "(X_valid_A, y_valid_A), (X_valid_B, y_valid_B) = split_dataset(X_valid, y_valid)\n",
        "(X_test_A, y_test_A), (X_test_B, y_test_B) = split_dataset(X_test, y_test)\n",
        "X_train_B = X_train_B[:200]\n",
        "y_train_B = y_train_B[:200]"
      ],
      "metadata": {
        "id": "05_8VxlDPi9y"
      },
      "execution_count": 21,
      "outputs": []
    },
    {
      "cell_type": "code",
      "source": [
        "X_train_A.shape"
      ],
      "metadata": {
        "id": "PLEnJNq8Vmj3",
        "colab": {
          "base_uri": "https://localhost:8080/"
        },
        "outputId": "7358e581-cd4c-43d3-e603-c6f51011b10d"
      },
      "execution_count": 22,
      "outputs": [
        {
          "output_type": "execute_result",
          "data": {
            "text/plain": [
              "(43986, 28, 28)"
            ]
          },
          "metadata": {},
          "execution_count": 22
        }
      ]
    },
    {
      "cell_type": "code",
      "source": [
        "X_train_B.shape"
      ],
      "metadata": {
        "id": "576RMfB-V5R2",
        "colab": {
          "base_uri": "https://localhost:8080/"
        },
        "outputId": "66ceff09-cfc9-4d4d-c411-90656455af59"
      },
      "execution_count": 23,
      "outputs": [
        {
          "output_type": "execute_result",
          "data": {
            "text/plain": [
              "(200, 28, 28)"
            ]
          },
          "metadata": {},
          "execution_count": 23
        }
      ]
    },
    {
      "cell_type": "code",
      "source": [
        "y_train_A[:30]"
      ],
      "metadata": {
        "id": "gb39fS6pV-lM",
        "colab": {
          "base_uri": "https://localhost:8080/"
        },
        "outputId": "d980dd7e-196a-43f3-88f4-86022387fe29"
      },
      "execution_count": 24,
      "outputs": [
        {
          "output_type": "execute_result",
          "data": {
            "text/plain": [
              "array([4, 0, 5, 7, 7, 7, 4, 4, 3, 4, 0, 1, 6, 3, 4, 3, 2, 6, 5, 3, 4, 5,\n",
              "       1, 3, 4, 2, 0, 6, 7, 1], dtype=uint8)"
            ]
          },
          "metadata": {},
          "execution_count": 24
        }
      ]
    },
    {
      "cell_type": "code",
      "source": [
        "y_train_B[:30]"
      ],
      "metadata": {
        "id": "Kyn_CpKtWBQK",
        "colab": {
          "base_uri": "https://localhost:8080/"
        },
        "outputId": "9b4c5321-c204-49e2-fee6-7139154ef955"
      },
      "execution_count": 25,
      "outputs": [
        {
          "output_type": "execute_result",
          "data": {
            "text/plain": [
              "array([1., 1., 0., 0., 0., 0., 1., 1., 1., 0., 0., 1., 1., 0., 0., 0., 0.,\n",
              "       0., 0., 1., 1., 0., 0., 1., 1., 0., 1., 1., 1., 1.], dtype=float32)"
            ]
          },
          "metadata": {},
          "execution_count": 25
        }
      ]
    },
    {
      "cell_type": "code",
      "source": [
        "tf.random.set_seed(42)\n",
        "np.random.seed(42)"
      ],
      "metadata": {
        "id": "vyvPQGraWHJS"
      },
      "execution_count": 26,
      "outputs": []
    },
    {
      "cell_type": "code",
      "source": [
        "model_A = keras.models.Sequential()\n",
        "model_A.add(keras.layers.Flatten(input_shape=[28, 28]))\n",
        "for n_hidden in (300, 100, 50, 50, 50):\n",
        "    model_A.add(keras.layers.Dense(n_hidden, activation=\"selu\"))\n",
        "model_A.add(keras.layers.Dense(8, activation=\"softmax\"))\n",
        "\n",
        "model_A.compile(loss=\"sparse_categorical_crossentropy\",\n",
        "                optimizer=keras.optimizers.SGD(learning_rate=1e-3),\n",
        "                metrics=[\"accuracy\"])\n",
        "\n",
        "history = model_A.fit(X_train_A, y_train_A, epochs=20,\n",
        "                    validation_data=(X_valid_A, y_valid_A))"
      ],
      "metadata": {
        "id": "FF5EkmshWLLg",
        "colab": {
          "base_uri": "https://localhost:8080/"
        },
        "outputId": "09bccd4d-35d4-4dcb-93eb-561e834a4a4d"
      },
      "execution_count": 27,
      "outputs": [
        {
          "output_type": "stream",
          "name": "stdout",
          "text": [
            "Epoch 1/20\n",
            "1375/1375 [==============================] - 6s 4ms/step - loss: 0.5927 - accuracy: 0.8104 - val_loss: 0.3896 - val_accuracy: 0.8667\n",
            "Epoch 2/20\n",
            "1375/1375 [==============================] - 6s 4ms/step - loss: 0.3523 - accuracy: 0.8786 - val_loss: 0.3289 - val_accuracy: 0.8824\n",
            "Epoch 3/20\n",
            "1375/1375 [==============================] - 6s 4ms/step - loss: 0.3170 - accuracy: 0.8896 - val_loss: 0.3014 - val_accuracy: 0.8989\n",
            "Epoch 4/20\n",
            "1375/1375 [==============================] - 6s 4ms/step - loss: 0.2973 - accuracy: 0.8975 - val_loss: 0.2894 - val_accuracy: 0.9021\n",
            "Epoch 5/20\n",
            "1375/1375 [==============================] - 6s 4ms/step - loss: 0.2835 - accuracy: 0.9022 - val_loss: 0.2776 - val_accuracy: 0.9066\n",
            "Epoch 6/20\n",
            "1375/1375 [==============================] - 6s 4ms/step - loss: 0.2729 - accuracy: 0.9061 - val_loss: 0.2735 - val_accuracy: 0.9071\n",
            "Epoch 7/20\n",
            "1375/1375 [==============================] - 6s 4ms/step - loss: 0.2641 - accuracy: 0.9093 - val_loss: 0.2720 - val_accuracy: 0.9086\n",
            "Epoch 8/20\n",
            "1375/1375 [==============================] - 6s 4ms/step - loss: 0.2573 - accuracy: 0.9126 - val_loss: 0.2588 - val_accuracy: 0.9145\n",
            "Epoch 9/20\n",
            "1375/1375 [==============================] - 6s 4ms/step - loss: 0.2518 - accuracy: 0.9136 - val_loss: 0.2562 - val_accuracy: 0.9143\n",
            "Epoch 10/20\n",
            "1375/1375 [==============================] - 6s 4ms/step - loss: 0.2469 - accuracy: 0.9154 - val_loss: 0.2541 - val_accuracy: 0.9160\n",
            "Epoch 11/20\n",
            "1375/1375 [==============================] - 6s 4ms/step - loss: 0.2423 - accuracy: 0.9177 - val_loss: 0.2496 - val_accuracy: 0.9153\n",
            "Epoch 12/20\n",
            "1375/1375 [==============================] - 6s 4ms/step - loss: 0.2382 - accuracy: 0.9189 - val_loss: 0.2514 - val_accuracy: 0.9126\n",
            "Epoch 13/20\n",
            "1375/1375 [==============================] - 6s 4ms/step - loss: 0.2351 - accuracy: 0.9198 - val_loss: 0.2446 - val_accuracy: 0.9165\n",
            "Epoch 14/20\n",
            "1375/1375 [==============================] - 6s 4ms/step - loss: 0.2316 - accuracy: 0.9214 - val_loss: 0.2416 - val_accuracy: 0.9175\n",
            "Epoch 15/20\n",
            "1375/1375 [==============================] - 6s 4ms/step - loss: 0.2288 - accuracy: 0.9212 - val_loss: 0.2447 - val_accuracy: 0.9188\n",
            "Epoch 16/20\n",
            "1375/1375 [==============================] - 6s 4ms/step - loss: 0.2255 - accuracy: 0.9225 - val_loss: 0.2386 - val_accuracy: 0.9203\n",
            "Epoch 17/20\n",
            "1375/1375 [==============================] - 6s 4ms/step - loss: 0.2231 - accuracy: 0.9233 - val_loss: 0.2410 - val_accuracy: 0.9180\n",
            "Epoch 18/20\n",
            "1375/1375 [==============================] - 6s 4ms/step - loss: 0.2201 - accuracy: 0.9245 - val_loss: 0.2427 - val_accuracy: 0.9153\n",
            "Epoch 19/20\n",
            "1375/1375 [==============================] - 6s 4ms/step - loss: 0.2178 - accuracy: 0.9252 - val_loss: 0.2330 - val_accuracy: 0.9203\n",
            "Epoch 20/20\n",
            "1375/1375 [==============================] - 6s 4ms/step - loss: 0.2156 - accuracy: 0.9261 - val_loss: 0.2333 - val_accuracy: 0.9203\n"
          ]
        }
      ]
    },
    {
      "cell_type": "code",
      "source": [
        "model_A.save(\"my_model_A.h5\")"
      ],
      "metadata": {
        "id": "yWQjqn8fXBcZ"
      },
      "execution_count": 28,
      "outputs": []
    },
    {
      "cell_type": "code",
      "source": [
        "model_B = keras.models.Sequential()\n",
        "model_B.add(keras.layers.Flatten(input_shape=[28, 28]))\n",
        "for n_hidden in (300, 100, 50, 50, 50):\n",
        "    model_B.add(keras.layers.Dense(n_hidden, activation=\"selu\"))\n",
        "model_B.add(keras.layers.Dense(1, activation=\"sigmoid\"))\n",
        "\n",
        "model_B.compile(loss=\"binary_crossentropy\",\n",
        "                optimizer=keras.optimizers.SGD(learning_rate=1e-3),\n",
        "                metrics=[\"accuracy\"])\n",
        "\n",
        "history = model_B.fit(X_train_B, y_train_B, epochs=20,\n",
        "                      validation_data=(X_valid_B, y_valid_B))"
      ],
      "metadata": {
        "id": "qYRa24CRXGqd",
        "colab": {
          "base_uri": "https://localhost:8080/"
        },
        "outputId": "a8465bc0-2c48-41ae-a056-fb8dcf53fd67"
      },
      "execution_count": 29,
      "outputs": [
        {
          "output_type": "stream",
          "name": "stdout",
          "text": [
            "Epoch 1/20\n",
            "7/7 [==============================] - 1s 47ms/step - loss: 0.9573 - accuracy: 0.4650 - val_loss: 0.6314 - val_accuracy: 0.6004\n",
            "Epoch 2/20\n",
            "7/7 [==============================] - 0s 32ms/step - loss: 0.5692 - accuracy: 0.7450 - val_loss: 0.4784 - val_accuracy: 0.8529\n",
            "Epoch 3/20\n",
            "7/7 [==============================] - 0s 32ms/step - loss: 0.4503 - accuracy: 0.8650 - val_loss: 0.4102 - val_accuracy: 0.8945\n",
            "Epoch 4/20\n",
            "7/7 [==============================] - 0s 19ms/step - loss: 0.3879 - accuracy: 0.8950 - val_loss: 0.3647 - val_accuracy: 0.9178\n",
            "Epoch 5/20\n",
            "7/7 [==============================] - 0s 32ms/step - loss: 0.3435 - accuracy: 0.9250 - val_loss: 0.3300 - val_accuracy: 0.9320\n",
            "Epoch 6/20\n",
            "7/7 [==============================] - 0s 19ms/step - loss: 0.3081 - accuracy: 0.9300 - val_loss: 0.3019 - val_accuracy: 0.9402\n",
            "Epoch 7/20\n",
            "7/7 [==============================] - 0s 31ms/step - loss: 0.2800 - accuracy: 0.9350 - val_loss: 0.2804 - val_accuracy: 0.9422\n",
            "Epoch 8/20\n",
            "7/7 [==============================] - 0s 18ms/step - loss: 0.2564 - accuracy: 0.9450 - val_loss: 0.2606 - val_accuracy: 0.9473\n",
            "Epoch 9/20\n",
            "7/7 [==============================] - 0s 22ms/step - loss: 0.2362 - accuracy: 0.9550 - val_loss: 0.2428 - val_accuracy: 0.9523\n",
            "Epoch 10/20\n",
            "7/7 [==============================] - 0s 21ms/step - loss: 0.2188 - accuracy: 0.9600 - val_loss: 0.2281 - val_accuracy: 0.9544\n",
            "Epoch 11/20\n",
            "7/7 [==============================] - 0s 18ms/step - loss: 0.2036 - accuracy: 0.9700 - val_loss: 0.2150 - val_accuracy: 0.9584\n",
            "Epoch 12/20\n",
            "7/7 [==============================] - 0s 18ms/step - loss: 0.1898 - accuracy: 0.9700 - val_loss: 0.2036 - val_accuracy: 0.9584\n",
            "Epoch 13/20\n",
            "7/7 [==============================] - 0s 17ms/step - loss: 0.1773 - accuracy: 0.9750 - val_loss: 0.1931 - val_accuracy: 0.9615\n",
            "Epoch 14/20\n",
            "7/7 [==============================] - 0s 31ms/step - loss: 0.1668 - accuracy: 0.9800 - val_loss: 0.1838 - val_accuracy: 0.9635\n",
            "Epoch 15/20\n",
            "7/7 [==============================] - 0s 19ms/step - loss: 0.1570 - accuracy: 0.9900 - val_loss: 0.1746 - val_accuracy: 0.9686\n",
            "Epoch 16/20\n",
            "7/7 [==============================] - 0s 19ms/step - loss: 0.1481 - accuracy: 0.9900 - val_loss: 0.1674 - val_accuracy: 0.9686\n",
            "Epoch 17/20\n",
            "7/7 [==============================] - 0s 34ms/step - loss: 0.1406 - accuracy: 0.9900 - val_loss: 0.1604 - val_accuracy: 0.9706\n",
            "Epoch 18/20\n",
            "7/7 [==============================] - 0s 18ms/step - loss: 0.1334 - accuracy: 0.9900 - val_loss: 0.1539 - val_accuracy: 0.9706\n",
            "Epoch 19/20\n",
            "7/7 [==============================] - 0s 18ms/step - loss: 0.1268 - accuracy: 0.9900 - val_loss: 0.1482 - val_accuracy: 0.9716\n",
            "Epoch 20/20\n",
            "7/7 [==============================] - 0s 17ms/step - loss: 0.1208 - accuracy: 0.9900 - val_loss: 0.1431 - val_accuracy: 0.9716\n"
          ]
        }
      ]
    },
    {
      "cell_type": "code",
      "source": [
        "model_B.summary()"
      ],
      "metadata": {
        "id": "OVkmVFD8XTDd",
        "colab": {
          "base_uri": "https://localhost:8080/"
        },
        "outputId": "2646a877-3961-4eed-e194-5eebd4b0a217"
      },
      "execution_count": 30,
      "outputs": [
        {
          "output_type": "stream",
          "name": "stdout",
          "text": [
            "Model: \"sequential_7\"\n",
            "_________________________________________________________________\n",
            " Layer (type)                Output Shape              Param #   \n",
            "=================================================================\n",
            " flatten_7 (Flatten)         (None, 784)               0         \n",
            "                                                                 \n",
            " dense_222 (Dense)           (None, 300)               235500    \n",
            "                                                                 \n",
            " dense_223 (Dense)           (None, 100)               30100     \n",
            "                                                                 \n",
            " dense_224 (Dense)           (None, 50)                5050      \n",
            "                                                                 \n",
            " dense_225 (Dense)           (None, 50)                2550      \n",
            "                                                                 \n",
            " dense_226 (Dense)           (None, 50)                2550      \n",
            "                                                                 \n",
            " dense_227 (Dense)           (None, 1)                 51        \n",
            "                                                                 \n",
            "=================================================================\n",
            "Total params: 275,801\n",
            "Trainable params: 275,801\n",
            "Non-trainable params: 0\n",
            "_________________________________________________________________\n"
          ]
        }
      ]
    },
    {
      "cell_type": "code",
      "source": [
        "model_A = keras.models.load_model(\"my_model_A.h5\")\n",
        "model_B_on_A = keras.models.Sequential(model_A.layers[:-1])\n",
        "model_B_on_A.add(keras.layers.Dense(1, activation=\"sigmoid\"))"
      ],
      "metadata": {
        "id": "TD-0I4lBXVEQ"
      },
      "execution_count": 31,
      "outputs": []
    },
    {
      "cell_type": "markdown",
      "source": [
        "\n",
        "\n",
        "Note that `model_B_on_A` and `model_A` actually share layers now, so when we train one, it will update both models. If we want to avoid that, we need to build `model_B_on_A` on top of a clone of `model_A`:\n"
      ],
      "metadata": {
        "id": "RezrH48WX1x3"
      }
    },
    {
      "cell_type": "code",
      "source": [
        "model_A_clone = keras.models.clone_model(model_A)\n",
        "model_A_clone.set_weights(model_A.get_weights())\n",
        "model_B_on_A = keras.models.Sequential(model_A_clone.layers[:-1])\n",
        "model_B_on_A.add(keras.layers.Dense(1, activation=\"sigmoid\"))"
      ],
      "metadata": {
        "id": "p1LRTtkwXyfL"
      },
      "execution_count": 32,
      "outputs": []
    },
    {
      "cell_type": "markdown",
      "source": [
        "Now freeze the reused layers\n",
        "during the first few epochs, giving the new layer some time to learn\n",
        "reasonable weights."
      ],
      "metadata": {
        "id": "nF_S3BR0YWwC"
      }
    },
    {
      "cell_type": "code",
      "source": [
        "for layer in model_B_on_A.layers[:-1]:\n",
        "    layer.trainable = False\n",
        "\n",
        "model_B_on_A.compile(loss=\"binary_crossentropy\",\n",
        "                     optimizer=keras.optimizers.SGD(learning_rate=1e-3),\n",
        "                     metrics=[\"accuracy\"])"
      ],
      "metadata": {
        "id": "b3egnVCcYNN4"
      },
      "execution_count": 33,
      "outputs": []
    },
    {
      "cell_type": "markdown",
      "source": [
        "Now we can train the model for a few epochs, then unfreeze the reused\n",
        "layers (which requires compiling the model again) and continue training to\n",
        "fine-tune the reused layers for task B. After unfreezing the reused layers, it\n",
        "is usually a good idea to reduce the `learning rate`, once again to avoid\n",
        "damaging the reused weights:"
      ],
      "metadata": {
        "id": "SDyIVM7MY1Bh"
      }
    },
    {
      "cell_type": "code",
      "source": [
        "history = model_B_on_A.fit(X_train_B, y_train_B, epochs=4,\n",
        "                           validation_data=(X_valid_B, y_valid_B))\n",
        "\n",
        "for layer in model_B_on_A.layers[:-1]:\n",
        "    layer.trainable = True\n",
        "\n",
        "optimizer = keras.optimizers.SGD(learning_rate=1e-4) # the default lr is 1e-2\n",
        "model_B_on_A.compile(loss=\"binary_crossentropy\",\n",
        "                     optimizer=optimizer,\n",
        "                     metrics=[\"accuracy\"])\n",
        "\n",
        "history = model_B_on_A.fit(X_train_B, y_train_B, epochs=16,\n",
        "                           validation_data=(X_valid_B, y_valid_B))"
      ],
      "metadata": {
        "id": "UEsPetxPYsoX",
        "colab": {
          "base_uri": "https://localhost:8080/"
        },
        "outputId": "48206694-1900-4f5d-e913-fa8ab6627571"
      },
      "execution_count": 34,
      "outputs": [
        {
          "output_type": "stream",
          "name": "stdout",
          "text": [
            "Epoch 1/4\n",
            "7/7 [==============================] - 1s 45ms/step - loss: 0.2632 - accuracy: 0.9400 - val_loss: 0.2779 - val_accuracy: 0.9270\n",
            "Epoch 2/4\n",
            "7/7 [==============================] - 0s 30ms/step - loss: 0.2536 - accuracy: 0.9400 - val_loss: 0.2685 - val_accuracy: 0.9300\n",
            "Epoch 3/4\n",
            "7/7 [==============================] - 0s 16ms/step - loss: 0.2444 - accuracy: 0.9400 - val_loss: 0.2599 - val_accuracy: 0.9351\n",
            "Epoch 4/4\n",
            "7/7 [==============================] - 0s 16ms/step - loss: 0.2360 - accuracy: 0.9400 - val_loss: 0.2518 - val_accuracy: 0.9381\n",
            "Epoch 1/16\n",
            "7/7 [==============================] - 1s 57ms/step - loss: 0.2288 - accuracy: 0.9400 - val_loss: 0.2461 - val_accuracy: 0.9381\n",
            "Epoch 2/16\n",
            "7/7 [==============================] - 0s 19ms/step - loss: 0.2230 - accuracy: 0.9450 - val_loss: 0.2405 - val_accuracy: 0.9422\n",
            "Epoch 3/16\n",
            "7/7 [==============================] - 0s 18ms/step - loss: 0.2174 - accuracy: 0.9450 - val_loss: 0.2352 - val_accuracy: 0.9432\n",
            "Epoch 4/16\n",
            "7/7 [==============================] - 0s 18ms/step - loss: 0.2120 - accuracy: 0.9500 - val_loss: 0.2301 - val_accuracy: 0.9462\n",
            "Epoch 5/16\n",
            "7/7 [==============================] - 0s 17ms/step - loss: 0.2069 - accuracy: 0.9500 - val_loss: 0.2253 - val_accuracy: 0.9493\n",
            "Epoch 6/16\n",
            "7/7 [==============================] - 0s 21ms/step - loss: 0.2020 - accuracy: 0.9500 - val_loss: 0.2206 - val_accuracy: 0.9503\n",
            "Epoch 7/16\n",
            "7/7 [==============================] - 0s 31ms/step - loss: 0.1973 - accuracy: 0.9500 - val_loss: 0.2163 - val_accuracy: 0.9544\n",
            "Epoch 8/16\n",
            "7/7 [==============================] - 0s 18ms/step - loss: 0.1930 - accuracy: 0.9500 - val_loss: 0.2122 - val_accuracy: 0.9564\n",
            "Epoch 9/16\n",
            "7/7 [==============================] - 0s 31ms/step - loss: 0.1888 - accuracy: 0.9500 - val_loss: 0.2080 - val_accuracy: 0.9625\n",
            "Epoch 10/16\n",
            "7/7 [==============================] - 0s 16ms/step - loss: 0.1846 - accuracy: 0.9500 - val_loss: 0.2043 - val_accuracy: 0.9635\n",
            "Epoch 11/16\n",
            "7/7 [==============================] - 0s 19ms/step - loss: 0.1808 - accuracy: 0.9500 - val_loss: 0.2005 - val_accuracy: 0.9645\n",
            "Epoch 12/16\n",
            "7/7 [==============================] - 0s 18ms/step - loss: 0.1769 - accuracy: 0.9500 - val_loss: 0.1968 - val_accuracy: 0.9645\n",
            "Epoch 13/16\n",
            "7/7 [==============================] - 0s 32ms/step - loss: 0.1733 - accuracy: 0.9500 - val_loss: 0.1933 - val_accuracy: 0.9645\n",
            "Epoch 14/16\n",
            "7/7 [==============================] - 0s 31ms/step - loss: 0.1697 - accuracy: 0.9500 - val_loss: 0.1902 - val_accuracy: 0.9665\n",
            "Epoch 15/16\n",
            "7/7 [==============================] - 0s 31ms/step - loss: 0.1665 - accuracy: 0.9550 - val_loss: 0.1869 - val_accuracy: 0.9665\n",
            "Epoch 16/16\n",
            "7/7 [==============================] - 0s 18ms/step - loss: 0.1632 - accuracy: 0.9550 - val_loss: 0.1838 - val_accuracy: 0.9686\n"
          ]
        }
      ]
    },
    {
      "cell_type": "code",
      "source": [
        "model_B.evaluate(X_test_B, y_test_B)"
      ],
      "metadata": {
        "id": "IRSQLT14ZsKw",
        "colab": {
          "base_uri": "https://localhost:8080/"
        },
        "outputId": "4488bebd-6222-4037-e077-54629b517a83"
      },
      "execution_count": 35,
      "outputs": [
        {
          "output_type": "stream",
          "name": "stdout",
          "text": [
            "63/63 [==============================] - 0s 3ms/step - loss: 0.1408 - accuracy: 0.9705\n"
          ]
        },
        {
          "output_type": "execute_result",
          "data": {
            "text/plain": [
              "[0.1408407837152481, 0.9704999923706055]"
            ]
          },
          "metadata": {},
          "execution_count": 35
        }
      ]
    },
    {
      "cell_type": "code",
      "source": [
        "model_B_on_A.evaluate(X_test_B, y_test_B)"
      ],
      "metadata": {
        "id": "d7JAS5BIZVI5",
        "colab": {
          "base_uri": "https://localhost:8080/"
        },
        "outputId": "20f846e2-f8a0-40cb-f5b1-f44e8aa9e1bf"
      },
      "execution_count": 36,
      "outputs": [
        {
          "output_type": "stream",
          "name": "stdout",
          "text": [
            "63/63 [==============================] - 0s 3ms/step - loss: 0.1783 - accuracy: 0.9735\n"
          ]
        },
        {
          "output_type": "execute_result",
          "data": {
            "text/plain": [
              "[0.17831698060035706, 0.9735000133514404]"
            ]
          },
          "metadata": {},
          "execution_count": 36
        }
      ]
    },
    {
      "cell_type": "markdown",
      "source": [
        "\n",
        "# Faster Optimizers\n",
        "## Momentum optimization"
      ],
      "metadata": {
        "id": "G4fiDK0t0ZiD"
      }
    },
    {
      "cell_type": "code",
      "source": [
        "optimizer = keras.optimizers.SGD(learning_rate=0.001, momentum=0.9)"
      ],
      "metadata": {
        "id": "VMnLdyLnZl5w"
      },
      "execution_count": 37,
      "outputs": []
    },
    {
      "cell_type": "markdown",
      "source": [
        "## Nesterov Accelerated Gradient"
      ],
      "metadata": {
        "id": "lzg6vgfl2SFR"
      }
    },
    {
      "cell_type": "code",
      "source": [
        "optimizer = keras.optimizers.SGD(learning_rate=0.001, momentum=0.9, nesterov=True)"
      ],
      "metadata": {
        "id": "KtNkv-xm0l-j"
      },
      "execution_count": 38,
      "outputs": []
    },
    {
      "cell_type": "markdown",
      "source": [
        "## AdaGrad"
      ],
      "metadata": {
        "id": "pO3S0oCPMzND"
      }
    },
    {
      "cell_type": "code",
      "source": [
        "optimizer = keras.optimizers.Adagrad(learning_rate=0.001)"
      ],
      "metadata": {
        "id": "lBiOoRRD2ZbF"
      },
      "execution_count": 39,
      "outputs": []
    },
    {
      "cell_type": "markdown",
      "source": [
        "## RMSProp"
      ],
      "metadata": {
        "id": "4Nbaem0CNIPg"
      }
    },
    {
      "cell_type": "code",
      "source": [
        "optimizer = keras.optimizers.RMSprop(learning_rate=0.001, rho=0.9)"
      ],
      "metadata": {
        "id": "9TCHglqzND7C"
      },
      "execution_count": 40,
      "outputs": []
    },
    {
      "cell_type": "markdown",
      "source": [
        "## Adam Optimization"
      ],
      "metadata": {
        "id": "aARAxdHjNTa4"
      }
    },
    {
      "cell_type": "code",
      "source": [
        "optimizer = keras.optimizers.Adam(learning_rate=0.001, beta_1=0.9, beta_2=0.999)"
      ],
      "metadata": {
        "id": "TNQ18B-RNPpM"
      },
      "execution_count": 41,
      "outputs": []
    },
    {
      "cell_type": "markdown",
      "source": [
        "## Adamax Optimization"
      ],
      "metadata": {
        "id": "gJ_3smcMNtXN"
      }
    },
    {
      "cell_type": "code",
      "source": [
        "optimizer = keras.optimizers.Adamax(learning_rate=0.001, beta_1=0.9, beta_2=0.999)"
      ],
      "metadata": {
        "id": "NDBa8AGcNd4b"
      },
      "execution_count": 42,
      "outputs": []
    },
    {
      "cell_type": "markdown",
      "source": [
        "## Nadam Optimization"
      ],
      "metadata": {
        "id": "O_rm8fOAOGKw"
      }
    },
    {
      "cell_type": "code",
      "source": [
        "optimizer = keras.optimizers.Nadam(learning_rate=0.001, beta_1=0.9, beta_2=0.999)"
      ],
      "metadata": {
        "id": "2W2iEXZdN3u4"
      },
      "execution_count": 43,
      "outputs": []
    },
    {
      "cell_type": "markdown",
      "source": [
        "\n",
        "# Learning Rate Scheduling\n",
        "## Power Scheduling\n",
        "\n",
        "`lr = lr0 / (1 + steps / s)**c`\n",
        "\n",
        "* Keras uses `c=1` and `s = 1 / decay`\n",
        "\n"
      ],
      "metadata": {
        "id": "P5hZiasHyyAD"
      }
    },
    {
      "cell_type": "code",
      "source": [
        "optimizer = keras.optimizers.SGD(learning_rate=0.01, decay=1e-4)"
      ],
      "metadata": {
        "id": "BbaEtINWOPiO"
      },
      "execution_count": 44,
      "outputs": []
    },
    {
      "cell_type": "code",
      "source": [
        "model = keras.models.Sequential([\n",
        "    keras.layers.Flatten(input_shape=[28, 28]),\n",
        "    keras.layers.Dense(300, activation=\"selu\", kernel_initializer=\"lecun_normal\"),\n",
        "    keras.layers.Dense(100, activation=\"selu\", kernel_initializer=\"lecun_normal\"),\n",
        "    keras.layers.Dense(10, activation=\"softmax\")\n",
        "])\n",
        "\n",
        "model.compile(loss=\"sparse_categorical_crossentropy\",\n",
        "              optimizer=optimizer,\n",
        "              metrics=[\"accuracy\"])\n",
        "\n",
        "n_epochs = 25\n",
        "history = model.fit(X_train_scaled, y_train, epochs=n_epochs,\n",
        "                    validation_data=(X_valid_scaled, y_valid))"
      ],
      "metadata": {
        "colab": {
          "base_uri": "https://localhost:8080/"
        },
        "id": "z_sMp2mzzMjF",
        "outputId": "483c7b1a-c7e2-40f5-d23e-d88268515be4"
      },
      "execution_count": 45,
      "outputs": [
        {
          "output_type": "stream",
          "name": "stdout",
          "text": [
            "Epoch 1/25\n",
            "1719/1719 [==============================] - 7s 4ms/step - loss: 0.4898 - accuracy: 0.8265 - val_loss: 0.4063 - val_accuracy: 0.8608\n",
            "Epoch 2/25\n",
            "1719/1719 [==============================] - 7s 4ms/step - loss: 0.3792 - accuracy: 0.8655 - val_loss: 0.3729 - val_accuracy: 0.8718\n",
            "Epoch 3/25\n",
            "1719/1719 [==============================] - 7s 4ms/step - loss: 0.3467 - accuracy: 0.8774 - val_loss: 0.3747 - val_accuracy: 0.8720\n",
            "Epoch 4/25\n",
            "1719/1719 [==============================] - 7s 4ms/step - loss: 0.3259 - accuracy: 0.8845 - val_loss: 0.3512 - val_accuracy: 0.8780\n",
            "Epoch 5/25\n",
            "1719/1719 [==============================] - 7s 4ms/step - loss: 0.3107 - accuracy: 0.8897 - val_loss: 0.3449 - val_accuracy: 0.8788\n",
            "Epoch 6/25\n",
            "1719/1719 [==============================] - 7s 4ms/step - loss: 0.2972 - accuracy: 0.8940 - val_loss: 0.3419 - val_accuracy: 0.8844\n",
            "Epoch 7/25\n",
            "1719/1719 [==============================] - 7s 4ms/step - loss: 0.2871 - accuracy: 0.8981 - val_loss: 0.3379 - val_accuracy: 0.8824\n",
            "Epoch 8/25\n",
            "1719/1719 [==============================] - 7s 4ms/step - loss: 0.2779 - accuracy: 0.9014 - val_loss: 0.3423 - val_accuracy: 0.8796\n",
            "Epoch 9/25\n",
            "1719/1719 [==============================] - 7s 4ms/step - loss: 0.2698 - accuracy: 0.9030 - val_loss: 0.3290 - val_accuracy: 0.8852\n",
            "Epoch 10/25\n",
            "1719/1719 [==============================] - 7s 4ms/step - loss: 0.2625 - accuracy: 0.9058 - val_loss: 0.3284 - val_accuracy: 0.8860\n",
            "Epoch 11/25\n",
            "1719/1719 [==============================] - 7s 4ms/step - loss: 0.2565 - accuracy: 0.9091 - val_loss: 0.3266 - val_accuracy: 0.8884\n",
            "Epoch 12/25\n",
            "1719/1719 [==============================] - 7s 4ms/step - loss: 0.2505 - accuracy: 0.9111 - val_loss: 0.3338 - val_accuracy: 0.8800\n",
            "Epoch 13/25\n",
            "1719/1719 [==============================] - 7s 4ms/step - loss: 0.2449 - accuracy: 0.9132 - val_loss: 0.3247 - val_accuracy: 0.8906\n",
            "Epoch 14/25\n",
            "1719/1719 [==============================] - 7s 4ms/step - loss: 0.2408 - accuracy: 0.9144 - val_loss: 0.3288 - val_accuracy: 0.8866\n",
            "Epoch 15/25\n",
            "1719/1719 [==============================] - 7s 4ms/step - loss: 0.2355 - accuracy: 0.9164 - val_loss: 0.3230 - val_accuracy: 0.8884\n",
            "Epoch 16/25\n",
            "1719/1719 [==============================] - 7s 4ms/step - loss: 0.2316 - accuracy: 0.9185 - val_loss: 0.3208 - val_accuracy: 0.8906\n",
            "Epoch 17/25\n",
            "1719/1719 [==============================] - 7s 4ms/step - loss: 0.2277 - accuracy: 0.9187 - val_loss: 0.3245 - val_accuracy: 0.8902\n",
            "Epoch 18/25\n",
            "1719/1719 [==============================] - 7s 4ms/step - loss: 0.2236 - accuracy: 0.9214 - val_loss: 0.3195 - val_accuracy: 0.8916\n",
            "Epoch 19/25\n",
            "1719/1719 [==============================] - 7s 4ms/step - loss: 0.2203 - accuracy: 0.9225 - val_loss: 0.3230 - val_accuracy: 0.8892\n",
            "Epoch 20/25\n",
            "1719/1719 [==============================] - 7s 4ms/step - loss: 0.2170 - accuracy: 0.9237 - val_loss: 0.3206 - val_accuracy: 0.8906\n",
            "Epoch 21/25\n",
            "1719/1719 [==============================] - 7s 4ms/step - loss: 0.2134 - accuracy: 0.9253 - val_loss: 0.3205 - val_accuracy: 0.8890\n",
            "Epoch 22/25\n",
            "1719/1719 [==============================] - 7s 4ms/step - loss: 0.2109 - accuracy: 0.9267 - val_loss: 0.3186 - val_accuracy: 0.8900\n",
            "Epoch 23/25\n",
            "1719/1719 [==============================] - 7s 4ms/step - loss: 0.2080 - accuracy: 0.9274 - val_loss: 0.3207 - val_accuracy: 0.8914\n",
            "Epoch 24/25\n",
            "1719/1719 [==============================] - 7s 4ms/step - loss: 0.2051 - accuracy: 0.9289 - val_loss: 0.3207 - val_accuracy: 0.8896\n",
            "Epoch 25/25\n",
            "1719/1719 [==============================] - 7s 4ms/step - loss: 0.2029 - accuracy: 0.9291 - val_loss: 0.3202 - val_accuracy: 0.8892\n"
          ]
        }
      ]
    },
    {
      "cell_type": "code",
      "source": [
        "learning_rate = 0.01\n",
        "decay = 1e-4\n",
        "batch_size = 32\n",
        "n_steps_per_epoch = math.ceil(len(X_train) / batch_size)\n",
        "epochs = np.arange(n_epochs)\n",
        "lrs = learning_rate / (1 + decay * epochs * n_steps_per_epoch)\n",
        "\n",
        "plt.plot(epochs, lrs,  \"o-\")\n",
        "plt.axis([0, n_epochs - 1, 0, 0.01])\n",
        "plt.xlabel(\"Epoch\")\n",
        "plt.ylabel(\"Learning Rate\")\n",
        "plt.title(\"Power Scheduling\", fontsize=14)\n",
        "plt.grid(True)\n",
        "plt.show()"
      ],
      "metadata": {
        "id": "MnxTeQu8zW-3",
        "colab": {
          "base_uri": "https://localhost:8080/",
          "height": 296
        },
        "outputId": "d1f49e67-f123-4a8d-9bce-7e89d2143eb4"
      },
      "execution_count": 46,
      "outputs": [
        {
          "output_type": "display_data",
          "data": {
            "text/plain": [
              "<Figure size 432x288 with 1 Axes>"
            ],
            "image/png": "[encoded data removed]"
          },
          "metadata": {
            "needs_background": "light"
          }
        }
      ]
    },
    {
      "cell_type": "markdown",
      "source": [
        "\n",
        "## Exponential Scheduling\n",
        "\n",
        "`lr = lr0 * 0.1**(epoch / s)`\n"
      ],
      "metadata": {
        "id": "JTTx56by0fwm"
      }
    },
    {
      "cell_type": "code",
      "source": [
        "def exponential_decay_fn(epoch):\n",
        "  return 0.01 * 0.1**(epoch / 20)"
      ],
      "metadata": {
        "id": "N7uYqUCc0PQd"
      },
      "execution_count": 47,
      "outputs": []
    },
    {
      "cell_type": "code",
      "source": [
        "def exponential_decay(lr0, s):\n",
        "  def exponential_decay_fn(epoch):\n",
        "    return lr0 * 0.1**(epoch / s)\n",
        "  return exponential_decay_fn\n",
        "\n",
        "exponential_decay_fn = exponential_decay(0.01, 20)"
      ],
      "metadata": {
        "id": "hyqifFlE0REk"
      },
      "execution_count": 48,
      "outputs": []
    },
    {
      "cell_type": "code",
      "source": [
        "model = keras.models.Sequential([\n",
        "    keras.layers.Flatten(input_shape=[28, 28]),\n",
        "    keras.layers.Dense(300, activation=\"selu\", kernel_initializer=\"lecun_normal\"),\n",
        "    keras.layers.Dense(100, activation=\"selu\", kernel_initializer=\"lecun_normal\"),\n",
        "    keras.layers.Dense(10, activation=\"softmax\")\n",
        "])\n",
        "\n",
        "model.compile(loss=\"sparse_categorical_crossentropy\",\n",
        "              optimizer=\"nadam\",\n",
        "              metrics=[\"accuracy\"])\n",
        "\n",
        "n_epochs = 25\n",
        "\n",
        "lr_scheduler = keras.callbacks.LearningRateScheduler(exponential_decay_fn)\n",
        "history = model.fit(X_train_scaled, y_train, epochs=n_epochs,\n",
        "                    validation_data=(X_valid_scaled, y_valid),\n",
        "                    callbacks=[lr_scheduler])"
      ],
      "metadata": {
        "id": "FoDizJvf17i6",
        "colab": {
          "base_uri": "https://localhost:8080/"
        },
        "outputId": "37b6b330-1d0f-4e71-d8e3-b5d752bbfcc0"
      },
      "execution_count": 49,
      "outputs": [
        {
          "output_type": "stream",
          "name": "stdout",
          "text": [
            "Epoch 1/25\n",
            "1719/1719 [==============================] - 14s 8ms/step - loss: 0.8566 - accuracy: 0.7552 - val_loss: 0.8053 - val_accuracy: 0.7670 - lr: 0.0100\n",
            "Epoch 2/25\n",
            "1719/1719 [==============================] - 13s 8ms/step - loss: 0.7229 - accuracy: 0.7798 - val_loss: 0.7611 - val_accuracy: 0.7492 - lr: 0.0089\n",
            "Epoch 3/25\n",
            "1719/1719 [==============================] - 13s 8ms/step - loss: 0.5840 - accuracy: 0.8172 - val_loss: 0.7166 - val_accuracy: 0.7696 - lr: 0.0079\n",
            "Epoch 4/25\n",
            "1719/1719 [==============================] - 13s 7ms/step - loss: 0.5428 - accuracy: 0.8329 - val_loss: 0.5661 - val_accuracy: 0.8382 - lr: 0.0071\n",
            "Epoch 5/25\n",
            "1719/1719 [==============================] - 13s 7ms/step - loss: 0.4897 - accuracy: 0.8467 - val_loss: 0.7592 - val_accuracy: 0.7672 - lr: 0.0063\n",
            "Epoch 6/25\n",
            "1719/1719 [==============================] - 13s 7ms/step - loss: 0.4553 - accuracy: 0.8578 - val_loss: 0.4661 - val_accuracy: 0.8608 - lr: 0.0056\n",
            "Epoch 7/25\n",
            "1719/1719 [==============================] - 12s 7ms/step - loss: 0.4128 - accuracy: 0.8673 - val_loss: 0.4703 - val_accuracy: 0.8572 - lr: 0.0050\n",
            "Epoch 8/25\n",
            "1719/1719 [==============================] - 12s 7ms/step - loss: 0.3863 - accuracy: 0.8744 - val_loss: 0.4907 - val_accuracy: 0.8514 - lr: 0.0045\n",
            "Epoch 9/25\n",
            "1719/1719 [==============================] - 12s 7ms/step - loss: 0.3557 - accuracy: 0.8834 - val_loss: 0.4388 - val_accuracy: 0.8464 - lr: 0.0040\n",
            "Epoch 10/25\n",
            "1719/1719 [==============================] - 13s 7ms/step - loss: 0.3160 - accuracy: 0.8920 - val_loss: 0.4379 - val_accuracy: 0.8786 - lr: 0.0035\n",
            "Epoch 11/25\n",
            "1719/1719 [==============================] - 12s 7ms/step - loss: 0.3063 - accuracy: 0.8958 - val_loss: 0.4564 - val_accuracy: 0.8704 - lr: 0.0032\n",
            "Epoch 12/25\n",
            "1719/1719 [==============================] - 12s 7ms/step - loss: 0.2825 - accuracy: 0.9024 - val_loss: 0.4155 - val_accuracy: 0.8768 - lr: 0.0028\n",
            "Epoch 13/25\n",
            "1719/1719 [==============================] - 13s 7ms/step - loss: 0.2653 - accuracy: 0.9097 - val_loss: 0.4651 - val_accuracy: 0.8764 - lr: 0.0025\n",
            "Epoch 14/25\n",
            "1719/1719 [==============================] - 13s 8ms/step - loss: 0.2458 - accuracy: 0.9161 - val_loss: 0.4479 - val_accuracy: 0.8718 - lr: 0.0022\n",
            "Epoch 15/25\n",
            "1719/1719 [==============================] - 13s 8ms/step - loss: 0.2290 - accuracy: 0.9210 - val_loss: 0.4426 - val_accuracy: 0.8806 - lr: 0.0020\n",
            "Epoch 16/25\n",
            "1719/1719 [==============================] - 14s 8ms/step - loss: 0.2095 - accuracy: 0.9273 - val_loss: 0.4369 - val_accuracy: 0.8862 - lr: 0.0018\n",
            "Epoch 17/25\n",
            "1719/1719 [==============================] - 13s 8ms/step - loss: 0.1984 - accuracy: 0.9307 - val_loss: 0.4770 - val_accuracy: 0.8836 - lr: 0.0016\n",
            "Epoch 18/25\n",
            "1719/1719 [==============================] - 13s 8ms/step - loss: 0.1841 - accuracy: 0.9369 - val_loss: 0.4695 - val_accuracy: 0.8856 - lr: 0.0014\n",
            "Epoch 19/25\n",
            "1719/1719 [==============================] - 13s 8ms/step - loss: 0.1704 - accuracy: 0.9411 - val_loss: 0.4928 - val_accuracy: 0.8932 - lr: 0.0013\n",
            "Epoch 20/25\n",
            "1719/1719 [==============================] - 13s 8ms/step - loss: 0.1597 - accuracy: 0.9451 - val_loss: 0.4844 - val_accuracy: 0.8858 - lr: 0.0011\n",
            "Epoch 21/25\n",
            "1719/1719 [==============================] - 13s 8ms/step - loss: 0.1487 - accuracy: 0.9490 - val_loss: 0.5315 - val_accuracy: 0.8880 - lr: 0.0010\n",
            "Epoch 22/25\n",
            "1719/1719 [==============================] - 13s 7ms/step - loss: 0.1389 - accuracy: 0.9531 - val_loss: 0.5520 - val_accuracy: 0.8894 - lr: 8.9125e-04\n",
            "Epoch 23/25\n",
            "1719/1719 [==============================] - 13s 7ms/step - loss: 0.1321 - accuracy: 0.9571 - val_loss: 0.5454 - val_accuracy: 0.8886 - lr: 7.9433e-04\n",
            "Epoch 24/25\n",
            "1719/1719 [==============================] - 12s 7ms/step - loss: 0.1211 - accuracy: 0.9593 - val_loss: 0.6148 - val_accuracy: 0.8922 - lr: 7.0795e-04\n",
            "Epoch 25/25\n",
            "1719/1719 [==============================] - 13s 7ms/step - loss: 0.1149 - accuracy: 0.9615 - val_loss: 0.6273 - val_accuracy: 0.8894 - lr: 6.3096e-04\n"
          ]
        }
      ]
    },
    {
      "cell_type": "code",
      "source": [
        "plt.plot(history.epoch, history.history[\"lr\"], \"o-\")\n",
        "plt.axis([0, n_epochs - 1, 0, 0.011])\n",
        "plt.xlabel(\"Epoch\")\n",
        "plt.ylabel(\"Learning Rate\")\n",
        "plt.title(\"Exponential Scheduling\", fontsize=14)\n",
        "plt.grid(True)\n",
        "plt.show()"
      ],
      "metadata": {
        "id": "dnGz_B9Y2lu5",
        "colab": {
          "base_uri": "https://localhost:8080/",
          "height": 296
        },
        "outputId": "e80f84a8-1d7f-42bb-cfec-7975b4d4fc51"
      },
      "execution_count": 50,
      "outputs": [
        {
          "output_type": "display_data",
          "data": {
            "text/plain": [
              "<Figure size 432x288 with 1 Axes>"
            ],
            "image/png": "[encoded data removed]"
          },
          "metadata": {
            "needs_background": "light"
          }
        }
      ]
    },
    {
      "cell_type": "markdown",
      "source": [
        "\n",
        "\n",
        "The schedule function can take the current learning rate as a second argument:\n"
      ],
      "metadata": {
        "id": "8znavsgr35zS"
      }
    },
    {
      "cell_type": "code",
      "source": [
        "def exponential_decay_fn(epoch, lr):\n",
        "    return lr * 0.1**(1 / 20)"
      ],
      "metadata": {
        "id": "NG-CL0HC2-EO"
      },
      "execution_count": 51,
      "outputs": []
    },
    {
      "cell_type": "markdown",
      "source": [
        "\n",
        "\n",
        "If we want to update the learning rate at each iteration rather than at each epoch, we must write we own callback class:\n"
      ],
      "metadata": {
        "id": "wENFeE2s4CwV"
      }
    },
    {
      "cell_type": "code",
      "source": [
        "K = keras.backend\n",
        "\n",
        "class ExponentialDecay(keras.callbacks.Callback):\n",
        "    def __init__(self, s=40000):\n",
        "        super().__init__()\n",
        "        self.s = s\n",
        "\n",
        "    def on_batch_begin(self, batch, logs=None):\n",
        "        # Note: the `batch` argument is reset at each epoch\n",
        "        lr = K.get_value(self.model.optimizer.learning_rate)\n",
        "        K.set_value(self.model.optimizer.learning_rate, lr * 0.1**(1 / self.s))\n",
        "\n",
        "    def on_epoch_end(self, epoch, logs=None):\n",
        "        logs = logs or {}\n",
        "        logs['lr'] = K.get_value(self.model.optimizer.learning_rate)\n",
        "\n",
        "model = keras.models.Sequential([\n",
        "    keras.layers.Flatten(input_shape=[28, 28]),\n",
        "    keras.layers.Dense(300, activation=\"selu\", kernel_initializer=\"lecun_normal\"),\n",
        "    keras.layers.Dense(100, activation=\"selu\", kernel_initializer=\"lecun_normal\"),\n",
        "    keras.layers.Dense(10, activation=\"softmax\")\n",
        "])\n",
        "lr0 = 0.01\n",
        "optimizer = keras.optimizers.Nadam(learning_rate=lr0)\n",
        "model.compile(loss=\"sparse_categorical_crossentropy\", optimizer=optimizer, metrics=[\"accuracy\"])\n",
        "n_epochs = 25\n",
        "\n",
        "s = 20 * len(X_train) // 32 # number of steps in 20 epochs (batch size = 32)\n",
        "exp_decay = ExponentialDecay(s)\n",
        "history = model.fit(X_train_scaled, y_train, epochs=n_epochs,\n",
        "                    validation_data=(X_valid_scaled, y_valid),\n",
        "                    callbacks=[exp_decay])"
      ],
      "metadata": {
        "id": "a6Nl-ph53_FJ",
        "colab": {
          "base_uri": "https://localhost:8080/"
        },
        "outputId": "72c11260-c53b-4e6a-f4a3-59f93c0baf66"
      },
      "execution_count": 52,
      "outputs": [
        {
          "output_type": "stream",
          "name": "stdout",
          "text": [
            "Epoch 1/25\n",
            "1719/1719 [==============================] - 15s 8ms/step - loss: 0.8082 - accuracy: 0.7620 - val_loss: 0.9582 - val_accuracy: 0.7690 - lr: 0.0089\n",
            "Epoch 2/25\n",
            "1719/1719 [==============================] - 14s 8ms/step - loss: 0.6669 - accuracy: 0.7979 - val_loss: 0.5285 - val_accuracy: 0.8336 - lr: 0.0079\n",
            "Epoch 3/25\n",
            "1719/1719 [==============================] - 13s 8ms/step - loss: 0.6080 - accuracy: 0.8151 - val_loss: 0.8994 - val_accuracy: 0.7156 - lr: 0.0071\n",
            "Epoch 4/25\n",
            "1719/1719 [==============================] - 14s 8ms/step - loss: 0.5005 - accuracy: 0.8413 - val_loss: 0.4545 - val_accuracy: 0.8598 - lr: 0.0063\n",
            "Epoch 5/25\n",
            "1719/1719 [==============================] - 13s 8ms/step - loss: 0.4673 - accuracy: 0.8531 - val_loss: 0.4943 - val_accuracy: 0.8620 - lr: 0.0056\n",
            "Epoch 6/25\n",
            "1719/1719 [==============================] - 13s 8ms/step - loss: 0.4218 - accuracy: 0.8659 - val_loss: 0.4853 - val_accuracy: 0.8660 - lr: 0.0050\n",
            "Epoch 7/25\n",
            "1719/1719 [==============================] - 14s 8ms/step - loss: 0.3927 - accuracy: 0.8731 - val_loss: 0.4795 - val_accuracy: 0.8658 - lr: 0.0045\n",
            "Epoch 8/25\n",
            "1719/1719 [==============================] - 14s 8ms/step - loss: 0.3556 - accuracy: 0.8813 - val_loss: 0.4809 - val_accuracy: 0.8552 - lr: 0.0040\n",
            "Epoch 9/25\n",
            "1719/1719 [==============================] - 14s 8ms/step - loss: 0.3396 - accuracy: 0.8872 - val_loss: 0.4737 - val_accuracy: 0.8636 - lr: 0.0035\n",
            "Epoch 10/25\n",
            "1719/1719 [==============================] - 14s 8ms/step - loss: 0.3177 - accuracy: 0.8937 - val_loss: 0.5084 - val_accuracy: 0.8804 - lr: 0.0032\n",
            "Epoch 11/25\n",
            "1719/1719 [==============================] - 14s 8ms/step - loss: 0.2909 - accuracy: 0.9021 - val_loss: 0.4180 - val_accuracy: 0.8690 - lr: 0.0028\n",
            "Epoch 12/25\n",
            "1719/1719 [==============================] - 14s 8ms/step - loss: 0.2677 - accuracy: 0.9078 - val_loss: 0.4496 - val_accuracy: 0.8792 - lr: 0.0025\n",
            "Epoch 13/25\n",
            "1719/1719 [==============================] - 14s 8ms/step - loss: 0.2489 - accuracy: 0.9145 - val_loss: 0.4498 - val_accuracy: 0.8816 - lr: 0.0022\n",
            "Epoch 14/25\n",
            "1719/1719 [==============================] - 21s 12ms/step - loss: 0.2378 - accuracy: 0.9199 - val_loss: 0.4655 - val_accuracy: 0.8744 - lr: 0.0020\n",
            "Epoch 15/25\n",
            "1719/1719 [==============================] - 13s 8ms/step - loss: 0.2168 - accuracy: 0.9249 - val_loss: 0.4530 - val_accuracy: 0.8858 - lr: 0.0018\n",
            "Epoch 16/25\n",
            "1719/1719 [==============================] - 14s 8ms/step - loss: 0.1993 - accuracy: 0.9317 - val_loss: 0.4563 - val_accuracy: 0.8914 - lr: 0.0016\n",
            "Epoch 17/25\n",
            "1719/1719 [==============================] - 14s 8ms/step - loss: 0.1857 - accuracy: 0.9359 - val_loss: 0.4958 - val_accuracy: 0.8870 - lr: 0.0014\n",
            "Epoch 18/25\n",
            "1719/1719 [==============================] - 14s 8ms/step - loss: 0.1732 - accuracy: 0.9403 - val_loss: 0.4914 - val_accuracy: 0.8864 - lr: 0.0013\n",
            "Epoch 19/25\n",
            "1719/1719 [==============================] - 14s 8ms/step - loss: 0.1618 - accuracy: 0.9455 - val_loss: 0.4814 - val_accuracy: 0.8912 - lr: 0.0011\n",
            "Epoch 20/25\n",
            "1719/1719 [==============================] - 14s 8ms/step - loss: 0.1485 - accuracy: 0.9501 - val_loss: 0.5208 - val_accuracy: 0.8912 - lr: 9.9967e-04\n",
            "Epoch 21/25\n",
            "1719/1719 [==============================] - 14s 8ms/step - loss: 0.1409 - accuracy: 0.9526 - val_loss: 0.5572 - val_accuracy: 0.8866 - lr: 8.9094e-04\n",
            "Epoch 22/25\n",
            "1719/1719 [==============================] - 14s 8ms/step - loss: 0.1288 - accuracy: 0.9578 - val_loss: 0.5700 - val_accuracy: 0.8946 - lr: 7.9404e-04\n",
            "Epoch 23/25\n",
            "1719/1719 [==============================] - 15s 9ms/step - loss: 0.1213 - accuracy: 0.9603 - val_loss: 0.5984 - val_accuracy: 0.8928 - lr: 7.0767e-04\n",
            "Epoch 24/25\n",
            "1719/1719 [==============================] - 14s 8ms/step - loss: 0.1158 - accuracy: 0.9625 - val_loss: 0.5955 - val_accuracy: 0.8890 - lr: 6.3071e-04\n",
            "Epoch 25/25\n",
            "1719/1719 [==============================] - 15s 9ms/step - loss: 0.1084 - accuracy: 0.9649 - val_loss: 0.6212 - val_accuracy: 0.8922 - lr: 5.6211e-04\n"
          ]
        }
      ]
    },
    {
      "cell_type": "code",
      "source": [
        "n_steps = n_epochs * len(X_train) // 32\n",
        "steps = np.arange(n_steps)\n",
        "lrs = lr0 * 0.1**(steps / s)"
      ],
      "metadata": {
        "id": "yig5n9tx4ePR"
      },
      "execution_count": 53,
      "outputs": []
    },
    {
      "cell_type": "code",
      "source": [
        "plt.plot(steps, lrs, \"-\", linewidth=2)\n",
        "plt.axis([0, n_steps - 1, 0, lr0 * 1.1])\n",
        "plt.xlabel(\"Batch\")\n",
        "plt.ylabel(\"Learning Rate\")\n",
        "plt.title(\"Exponential Scheduling (per batch)\", fontsize=14)\n",
        "plt.grid(True)\n",
        "plt.show()"
      ],
      "metadata": {
        "id": "1pfdygIT5Kes",
        "colab": {
          "base_uri": "https://localhost:8080/",
          "height": 296
        },
        "outputId": "9b541a93-b3a0-4b9b-e85b-216040cfd214"
      },
      "execution_count": 54,
      "outputs": [
        {
          "output_type": "display_data",
          "data": {
            "text/plain": [
              "<Figure size 432x288 with 1 Axes>"
            ],
            "image/png": "[encoded data removed]"
          },
          "metadata": {
            "needs_background": "light"
          }
        }
      ]
    },
    {
      "cell_type": "markdown",
      "source": [
        "## Piecewise Constant Scheduling"
      ],
      "metadata": {
        "id": "HA9D8CWd5muk"
      }
    },
    {
      "cell_type": "code",
      "source": [
        "def piecewise_constant_fn(epoch):\n",
        "    if epoch < 5:\n",
        "        return 0.01\n",
        "    elif epoch < 15:\n",
        "        return 0.005\n",
        "    else:\n",
        "        return 0.001"
      ],
      "metadata": {
        "id": "X0LzrvlO5PZH"
      },
      "execution_count": 55,
      "outputs": []
    },
    {
      "cell_type": "code",
      "source": [
        "def piecewise_constant(boundaries, values):\n",
        "    boundaries = np.array([0] + boundaries)\n",
        "    values = np.array(values)\n",
        "    def piecewise_constant_fn(epoch):\n",
        "        return values[np.argmax(boundaries > epoch) - 1]\n",
        "    return piecewise_constant_fn\n",
        "\n",
        "piecewise_constant_fn = piecewise_constant([5, 15], [0.01, 0.005, 0.001])"
      ],
      "metadata": {
        "id": "yvNuJNDJ5rwK"
      },
      "execution_count": 56,
      "outputs": []
    },
    {
      "cell_type": "code",
      "source": [
        "lr_scheduler = keras.callbacks.LearningRateScheduler(piecewise_constant_fn)\n",
        "\n",
        "model = keras.models.Sequential([\n",
        "    keras.layers.Flatten(input_shape=[28, 28]),\n",
        "    keras.layers.Dense(300, activation=\"selu\", kernel_initializer=\"lecun_normal\"),\n",
        "    keras.layers.Dense(100, activation=\"selu\", kernel_initializer=\"lecun_normal\"),\n",
        "    keras.layers.Dense(10, activation=\"softmax\")\n",
        "])\n",
        "model.compile(loss=\"sparse_categorical_crossentropy\", optimizer=\"nadam\", metrics=[\"accuracy\"])\n",
        "n_epochs = 25\n",
        "history = model.fit(X_train_scaled, y_train, epochs=n_epochs,\n",
        "                    validation_data=(X_valid_scaled, y_valid),\n",
        "                    callbacks=[lr_scheduler])"
      ],
      "metadata": {
        "id": "vnb19eYs6bvl",
        "colab": {
          "base_uri": "https://localhost:8080/"
        },
        "outputId": "e6b631f2-72b7-4779-e678-9c905b9e154c"
      },
      "execution_count": 57,
      "outputs": [
        {
          "output_type": "stream",
          "name": "stdout",
          "text": [
            "Epoch 1/25\n",
            "1719/1719 [==============================] - 14s 7ms/step - loss: 0.8369 - accuracy: 0.7566 - val_loss: 0.8026 - val_accuracy: 0.7464 - lr: 0.0100\n",
            "Epoch 2/25\n",
            "1719/1719 [==============================] - 13s 7ms/step - loss: 0.8054 - accuracy: 0.7678 - val_loss: 0.8051 - val_accuracy: 0.7840 - lr: 0.0100\n",
            "Epoch 3/25\n",
            "1719/1719 [==============================] - 12s 7ms/step - loss: 0.9554 - accuracy: 0.7198 - val_loss: 1.5560 - val_accuracy: 0.5516 - lr: 0.0100\n",
            "Epoch 4/25\n",
            "1719/1719 [==============================] - 12s 7ms/step - loss: 1.0785 - accuracy: 0.6704 - val_loss: 0.9651 - val_accuracy: 0.6364 - lr: 0.0100\n",
            "Epoch 5/25\n",
            "1719/1719 [==============================] - 13s 7ms/step - loss: 1.0249 - accuracy: 0.6683 - val_loss: 1.1693 - val_accuracy: 0.6470 - lr: 0.0100\n",
            "Epoch 6/25\n",
            "1719/1719 [==============================] - 12s 7ms/step - loss: 0.7260 - accuracy: 0.7377 - val_loss: 0.6760 - val_accuracy: 0.7602 - lr: 0.0050\n",
            "Epoch 7/25\n",
            "1719/1719 [==============================] - 13s 8ms/step - loss: 0.6759 - accuracy: 0.7547 - val_loss: 0.7919 - val_accuracy: 0.7348 - lr: 0.0050\n",
            "Epoch 8/25\n",
            "1719/1719 [==============================] - 14s 8ms/step - loss: 0.6591 - accuracy: 0.7598 - val_loss: 0.7932 - val_accuracy: 0.7426 - lr: 0.0050\n",
            "Epoch 9/25\n",
            "1719/1719 [==============================] - 13s 8ms/step - loss: 0.6508 - accuracy: 0.7623 - val_loss: 0.8040 - val_accuracy: 0.7738 - lr: 0.0050\n",
            "Epoch 10/25\n",
            "1719/1719 [==============================] - 13s 8ms/step - loss: 0.6249 - accuracy: 0.7701 - val_loss: 0.7005 - val_accuracy: 0.7832 - lr: 0.0050\n",
            "Epoch 11/25\n",
            "1719/1719 [==============================] - 13s 8ms/step - loss: 0.6169 - accuracy: 0.7708 - val_loss: 0.7999 - val_accuracy: 0.7420 - lr: 0.0050\n",
            "Epoch 12/25\n",
            "1719/1719 [==============================] - 13s 8ms/step - loss: 0.6068 - accuracy: 0.7766 - val_loss: 0.8125 - val_accuracy: 0.7330 - lr: 0.0050\n",
            "Epoch 13/25\n",
            "1719/1719 [==============================] - 13s 8ms/step - loss: 0.5948 - accuracy: 0.7785 - val_loss: 0.7808 - val_accuracy: 0.7702 - lr: 0.0050\n",
            "Epoch 14/25\n",
            "1719/1719 [==============================] - 13s 8ms/step - loss: 0.6039 - accuracy: 0.7783 - val_loss: 0.7645 - val_accuracy: 0.8054 - lr: 0.0050\n",
            "Epoch 15/25\n",
            "1719/1719 [==============================] - 13s 8ms/step - loss: 0.5524 - accuracy: 0.8448 - val_loss: 0.6663 - val_accuracy: 0.8422 - lr: 0.0050\n",
            "Epoch 16/25\n",
            "1719/1719 [==============================] - 13s 8ms/step - loss: 0.3705 - accuracy: 0.8878 - val_loss: 0.5084 - val_accuracy: 0.8626 - lr: 0.0010\n",
            "Epoch 17/25\n",
            "1719/1719 [==============================] - 13s 8ms/step - loss: 0.3398 - accuracy: 0.8954 - val_loss: 0.5206 - val_accuracy: 0.8678 - lr: 0.0010\n",
            "Epoch 18/25\n",
            "1719/1719 [==============================] - 13s 8ms/step - loss: 0.3239 - accuracy: 0.9009 - val_loss: 0.4839 - val_accuracy: 0.8712 - lr: 0.0010\n",
            "Epoch 19/25\n",
            "1719/1719 [==============================] - 13s 8ms/step - loss: 0.3098 - accuracy: 0.9047 - val_loss: 0.4932 - val_accuracy: 0.8740 - lr: 0.0010\n",
            "Epoch 20/25\n",
            "1719/1719 [==============================] - 13s 7ms/step - loss: 0.2985 - accuracy: 0.9073 - val_loss: 0.4959 - val_accuracy: 0.8716 - lr: 0.0010\n",
            "Epoch 21/25\n",
            "1719/1719 [==============================] - 13s 8ms/step - loss: 0.2862 - accuracy: 0.9106 - val_loss: 0.5227 - val_accuracy: 0.8722 - lr: 0.0010\n",
            "Epoch 22/25\n",
            "1719/1719 [==============================] - 13s 8ms/step - loss: 0.2751 - accuracy: 0.9150 - val_loss: 0.5181 - val_accuracy: 0.8776 - lr: 0.0010\n",
            "Epoch 23/25\n",
            "1719/1719 [==============================] - 13s 7ms/step - loss: 0.2655 - accuracy: 0.9169 - val_loss: 0.5308 - val_accuracy: 0.8768 - lr: 0.0010\n",
            "Epoch 24/25\n",
            "1719/1719 [==============================] - 13s 7ms/step - loss: 0.2555 - accuracy: 0.9210 - val_loss: 0.5729 - val_accuracy: 0.8778 - lr: 0.0010\n",
            "Epoch 25/25\n",
            "1719/1719 [==============================] - 13s 7ms/step - loss: 0.2500 - accuracy: 0.9214 - val_loss: 0.5543 - val_accuracy: 0.8750 - lr: 0.0010\n"
          ]
        }
      ]
    },
    {
      "cell_type": "code",
      "source": [
        "plt.plot(history.epoch, [piecewise_constant_fn(epoch) for epoch in history.epoch], \"o-\")\n",
        "plt.axis([0, n_epochs - 1, 0, 0.011])\n",
        "plt.xlabel(\"Epoch\")\n",
        "plt.ylabel(\"Learning Rate\")\n",
        "plt.title(\"Piecewise Constant Scheduling\", fontsize=14)\n",
        "plt.grid(True)\n",
        "plt.show()"
      ],
      "metadata": {
        "id": "RM3dj-Qw7Ex9",
        "colab": {
          "base_uri": "https://localhost:8080/",
          "height": 296
        },
        "outputId": "e3bc1151-7fc7-4cda-9f04-2ff9670c1b67"
      },
      "execution_count": 58,
      "outputs": [
        {
          "output_type": "display_data",
          "data": {
            "text/plain": [
              "<Figure size 432x288 with 1 Axes>"
            ],
            "image/png": "[encoded data removed]"
          },
          "metadata": {
            "needs_background": "light"
          }
        }
      ]
    },
    {
      "cell_type": "markdown",
      "source": [
        "## Performance Scheduling"
      ],
      "metadata": {
        "id": "r0nPdBwYHY_A"
      }
    },
    {
      "cell_type": "code",
      "source": [
        "tf.random.set_seed(42)\n",
        "np.random.seed(42)"
      ],
      "metadata": {
        "id": "Cy-wM61uHDcI"
      },
      "execution_count": 59,
      "outputs": []
    },
    {
      "cell_type": "code",
      "source": [
        "lr_scheduler = keras.callbacks.ReduceLROnPlateau(factor=0.5, patience=5)\n",
        "\n",
        "model = keras.models.Sequential([\n",
        "    keras.layers.Flatten(input_shape=[28, 28]),\n",
        "    keras.layers.Dense(300, activation=\"selu\", kernel_initializer=\"lecun_normal\"),\n",
        "    keras.layers.Dense(100, activation=\"selu\", kernel_initializer=\"lecun_normal\"),\n",
        "    keras.layers.Dense(10, activation=\"softmax\")\n",
        "])\n",
        "optimizer = keras.optimizers.SGD(learning_rate=0.02, momentum=0.9)\n",
        "model.compile(loss=\"sparse_categorical_crossentropy\", optimizer=optimizer, metrics=[\"accuracy\"])\n",
        "n_epochs = 25\n",
        "history = model.fit(X_train_scaled, y_train, epochs=n_epochs,\n",
        "                    validation_data=(X_valid_scaled, y_valid),\n",
        "                    callbacks=[lr_scheduler])"
      ],
      "metadata": {
        "id": "4us1P7wVHgNT",
        "colab": {
          "base_uri": "https://localhost:8080/"
        },
        "outputId": "ec94a0e8-bd89-46c4-b38f-fd0a14ff9d53"
      },
      "execution_count": 60,
      "outputs": [
        {
          "output_type": "stream",
          "name": "stdout",
          "text": [
            "Epoch 1/25\n",
            "1719/1719 [==============================] - 9s 5ms/step - loss: 0.5908 - accuracy: 0.8070 - val_loss: 0.4863 - val_accuracy: 0.8474 - lr: 0.0200\n",
            "Epoch 2/25\n",
            "1719/1719 [==============================] - 8s 5ms/step - loss: 0.4939 - accuracy: 0.8393 - val_loss: 0.6034 - val_accuracy: 0.8374 - lr: 0.0200\n",
            "Epoch 3/25\n",
            "1719/1719 [==============================] - 8s 5ms/step - loss: 0.5016 - accuracy: 0.8439 - val_loss: 0.4986 - val_accuracy: 0.8544 - lr: 0.0200\n",
            "Epoch 4/25\n",
            "1719/1719 [==============================] - 8s 5ms/step - loss: 0.5030 - accuracy: 0.8486 - val_loss: 0.5206 - val_accuracy: 0.8588 - lr: 0.0200\n",
            "Epoch 5/25\n",
            "1719/1719 [==============================] - 8s 5ms/step - loss: 0.5136 - accuracy: 0.8504 - val_loss: 0.4708 - val_accuracy: 0.8560 - lr: 0.0200\n",
            "Epoch 6/25\n",
            "1719/1719 [==============================] - 8s 5ms/step - loss: 0.5028 - accuracy: 0.8559 - val_loss: 0.5840 - val_accuracy: 0.8518 - lr: 0.0200\n",
            "Epoch 7/25\n",
            "1719/1719 [==============================] - 8s 5ms/step - loss: 0.5166 - accuracy: 0.8557 - val_loss: 0.5435 - val_accuracy: 0.8446 - lr: 0.0200\n",
            "Epoch 8/25\n",
            "1719/1719 [==============================] - 8s 4ms/step - loss: 0.5143 - accuracy: 0.8575 - val_loss: 0.7547 - val_accuracy: 0.8116 - lr: 0.0200\n",
            "Epoch 9/25\n",
            "1719/1719 [==============================] - 8s 5ms/step - loss: 0.5324 - accuracy: 0.8549 - val_loss: 0.7432 - val_accuracy: 0.8218 - lr: 0.0200\n",
            "Epoch 10/25\n",
            "1719/1719 [==============================] - 8s 4ms/step - loss: 0.5493 - accuracy: 0.8551 - val_loss: 0.8416 - val_accuracy: 0.8510 - lr: 0.0200\n",
            "Epoch 11/25\n",
            "1719/1719 [==============================] - 7s 4ms/step - loss: 0.3009 - accuracy: 0.8971 - val_loss: 0.4460 - val_accuracy: 0.8766 - lr: 0.0100\n",
            "Epoch 12/25\n",
            "1719/1719 [==============================] - 7s 4ms/step - loss: 0.2560 - accuracy: 0.9092 - val_loss: 0.5003 - val_accuracy: 0.8666 - lr: 0.0100\n",
            "Epoch 13/25\n",
            "1719/1719 [==============================] - 7s 4ms/step - loss: 0.2250 - accuracy: 0.9177 - val_loss: 0.4521 - val_accuracy: 0.8800 - lr: 0.0100\n",
            "Epoch 14/25\n",
            "1719/1719 [==============================] - 7s 4ms/step - loss: 0.2115 - accuracy: 0.9233 - val_loss: 0.4812 - val_accuracy: 0.8778 - lr: 0.0100\n",
            "Epoch 15/25\n",
            "1719/1719 [==============================] - 7s 4ms/step - loss: 0.2035 - accuracy: 0.9259 - val_loss: 0.4526 - val_accuracy: 0.8878 - lr: 0.0100\n",
            "Epoch 16/25\n",
            "1719/1719 [==============================] - 7s 4ms/step - loss: 0.1886 - accuracy: 0.9299 - val_loss: 0.5097 - val_accuracy: 0.8884 - lr: 0.0100\n",
            "Epoch 17/25\n",
            "1719/1719 [==============================] - 7s 4ms/step - loss: 0.1323 - accuracy: 0.9486 - val_loss: 0.4773 - val_accuracy: 0.8888 - lr: 0.0050\n",
            "Epoch 18/25\n",
            "1719/1719 [==============================] - 7s 4ms/step - loss: 0.1184 - accuracy: 0.9533 - val_loss: 0.4903 - val_accuracy: 0.8900 - lr: 0.0050\n",
            "Epoch 19/25\n",
            "1719/1719 [==============================] - 7s 4ms/step - loss: 0.1095 - accuracy: 0.9576 - val_loss: 0.5034 - val_accuracy: 0.8918 - lr: 0.0050\n",
            "Epoch 20/25\n",
            "1719/1719 [==============================] - 7s 4ms/step - loss: 0.1031 - accuracy: 0.9598 - val_loss: 0.5103 - val_accuracy: 0.8952 - lr: 0.0050\n",
            "Epoch 21/25\n",
            "1719/1719 [==============================] - 7s 4ms/step - loss: 0.0967 - accuracy: 0.9613 - val_loss: 0.5480 - val_accuracy: 0.8934 - lr: 0.0050\n",
            "Epoch 22/25\n",
            "1719/1719 [==============================] - 8s 4ms/step - loss: 0.0784 - accuracy: 0.9694 - val_loss: 0.5436 - val_accuracy: 0.8960 - lr: 0.0025\n",
            "Epoch 23/25\n",
            "1719/1719 [==============================] - 7s 4ms/step - loss: 0.0728 - accuracy: 0.9719 - val_loss: 0.5420 - val_accuracy: 0.8936 - lr: 0.0025\n",
            "Epoch 24/25\n",
            "1719/1719 [==============================] - 7s 4ms/step - loss: 0.0687 - accuracy: 0.9740 - val_loss: 0.5517 - val_accuracy: 0.8948 - lr: 0.0025\n",
            "Epoch 25/25\n",
            "1719/1719 [==============================] - 7s 4ms/step - loss: 0.0661 - accuracy: 0.9751 - val_loss: 0.5570 - val_accuracy: 0.8948 - lr: 0.0025\n"
          ]
        }
      ]
    },
    {
      "cell_type": "code",
      "source": [
        "plt.plot(history.epoch, history.history[\"lr\"], \"bo-\")\n",
        "plt.xlabel(\"Epoch\")\n",
        "plt.ylabel(\"Learning Rate\", color='b')\n",
        "plt.tick_params('y', colors='b')\n",
        "plt.gca().set_xlim(0, n_epochs - 1)\n",
        "plt.grid(True)\n",
        "\n",
        "ax2 = plt.gca().twinx()\n",
        "ax2.plot(history.epoch, history.history[\"val_loss\"], \"r^-\")\n",
        "ax2.set_ylabel('Validation Loss', color='r')\n",
        "ax2.tick_params('y', colors='r')\n",
        "\n",
        "plt.title(\"Reduce LR on Plateau\", fontsize=14)\n",
        "plt.show()"
      ],
      "metadata": {
        "id": "4puuJkE9H6J1",
        "colab": {
          "base_uri": "https://localhost:8080/",
          "height": 296
        },
        "outputId": "f918b8c4-c17e-4879-9b6f-2c17ff471848"
      },
      "execution_count": 61,
      "outputs": [
        {
          "output_type": "display_data",
          "data": {
            "text/plain": [
              "<Figure size 432x288 with 2 Axes>"
            ],
            "image/png": "[encoded data removed]"
          },
          "metadata": {
            "needs_background": "light"
          }
        }
      ]
    },
    {
      "cell_type": "markdown",
      "source": [
        "\n",
        "## tf.keras schedulers"
      ],
      "metadata": {
        "id": "lxb7Ba-uIWWk"
      }
    },
    {
      "cell_type": "code",
      "source": [
        "model = keras.models.Sequential([\n",
        "    keras.layers.Flatten(input_shape=[28, 28]),\n",
        "    keras.layers.Dense(300, activation=\"selu\", kernel_initializer=\"lecun_normal\"),\n",
        "    keras.layers.Dense(100, activation=\"selu\", kernel_initializer=\"lecun_normal\"),\n",
        "    keras.layers.Dense(10, activation=\"softmax\")\n",
        "])\n",
        "s = 20 * len(X_train) // 32 # number of steps in 20 epochs (batch size = 32)\n",
        "learning_rate = keras.optimizers.schedules.ExponentialDecay(0.01, s, 0.1)\n",
        "optimizer = keras.optimizers.SGD(learning_rate)\n",
        "model.compile(loss=\"sparse_categorical_crossentropy\", optimizer=optimizer, metrics=[\"accuracy\"])\n",
        "n_epochs = 25\n",
        "history = model.fit(X_train_scaled, y_train, epochs=n_epochs,\n",
        "                    validation_data=(X_valid_scaled, y_valid))"
      ],
      "metadata": {
        "id": "xvhrqCPrIJPZ",
        "colab": {
          "base_uri": "https://localhost:8080/"
        },
        "outputId": "edc1bc2b-cbe1-4a9c-a411-9ecf2f795ecc"
      },
      "execution_count": 62,
      "outputs": [
        {
          "output_type": "stream",
          "name": "stdout",
          "text": [
            "Epoch 1/25\n",
            "1719/1719 [==============================] - 7s 4ms/step - loss: 0.4894 - accuracy: 0.8273 - val_loss: 0.4096 - val_accuracy: 0.8604\n",
            "Epoch 2/25\n",
            "1719/1719 [==============================] - 7s 4ms/step - loss: 0.3820 - accuracy: 0.8651 - val_loss: 0.3740 - val_accuracy: 0.8708\n",
            "Epoch 3/25\n",
            "1719/1719 [==============================] - 7s 4ms/step - loss: 0.3486 - accuracy: 0.8763 - val_loss: 0.3730 - val_accuracy: 0.8684\n",
            "Epoch 4/25\n",
            "1719/1719 [==============================] - 7s 4ms/step - loss: 0.3264 - accuracy: 0.8838 - val_loss: 0.3492 - val_accuracy: 0.8802\n",
            "Epoch 5/25\n",
            "1719/1719 [==============================] - 7s 4ms/step - loss: 0.3103 - accuracy: 0.8896 - val_loss: 0.3428 - val_accuracy: 0.8794\n",
            "Epoch 6/25\n",
            "1719/1719 [==============================] - 7s 4ms/step - loss: 0.2957 - accuracy: 0.8952 - val_loss: 0.3410 - val_accuracy: 0.8822\n",
            "Epoch 7/25\n",
            "1719/1719 [==============================] - 7s 4ms/step - loss: 0.2853 - accuracy: 0.8988 - val_loss: 0.3352 - val_accuracy: 0.8806\n",
            "Epoch 8/25\n",
            "1719/1719 [==============================] - 7s 4ms/step - loss: 0.2759 - accuracy: 0.9017 - val_loss: 0.3361 - val_accuracy: 0.8810\n",
            "Epoch 9/25\n",
            "1719/1719 [==============================] - 7s 4ms/step - loss: 0.2677 - accuracy: 0.9053 - val_loss: 0.3261 - val_accuracy: 0.8850\n",
            "Epoch 10/25\n",
            "1719/1719 [==============================] - 7s 4ms/step - loss: 0.2607 - accuracy: 0.9072 - val_loss: 0.3237 - val_accuracy: 0.8852\n",
            "Epoch 11/25\n",
            "1719/1719 [==============================] - 7s 4ms/step - loss: 0.2550 - accuracy: 0.9089 - val_loss: 0.3246 - val_accuracy: 0.8858\n",
            "Epoch 12/25\n",
            "1719/1719 [==============================] - 7s 4ms/step - loss: 0.2496 - accuracy: 0.9127 - val_loss: 0.3295 - val_accuracy: 0.8826\n",
            "Epoch 13/25\n",
            "1719/1719 [==============================] - 7s 4ms/step - loss: 0.2448 - accuracy: 0.9134 - val_loss: 0.3215 - val_accuracy: 0.8866\n",
            "Epoch 14/25\n",
            "1719/1719 [==============================] - 7s 4ms/step - loss: 0.2414 - accuracy: 0.9147 - val_loss: 0.3218 - val_accuracy: 0.8864\n",
            "Epoch 15/25\n",
            "1719/1719 [==============================] - 7s 4ms/step - loss: 0.2374 - accuracy: 0.9168 - val_loss: 0.3205 - val_accuracy: 0.8874\n",
            "Epoch 16/25\n",
            "1719/1719 [==============================] - 7s 4ms/step - loss: 0.2342 - accuracy: 0.9180 - val_loss: 0.3180 - val_accuracy: 0.8894\n",
            "Epoch 17/25\n",
            "1719/1719 [==============================] - 7s 4ms/step - loss: 0.2315 - accuracy: 0.9185 - val_loss: 0.3194 - val_accuracy: 0.8900\n",
            "Epoch 18/25\n",
            "1719/1719 [==============================] - 7s 4ms/step - loss: 0.2290 - accuracy: 0.9196 - val_loss: 0.3166 - val_accuracy: 0.8916\n",
            "Epoch 19/25\n",
            "1719/1719 [==============================] - 7s 4ms/step - loss: 0.2268 - accuracy: 0.9205 - val_loss: 0.3195 - val_accuracy: 0.8894\n",
            "Epoch 20/25\n",
            "1719/1719 [==============================] - 7s 4ms/step - loss: 0.2249 - accuracy: 0.9220 - val_loss: 0.3166 - val_accuracy: 0.8898\n",
            "Epoch 21/25\n",
            "1719/1719 [==============================] - 7s 4ms/step - loss: 0.2228 - accuracy: 0.9225 - val_loss: 0.3177 - val_accuracy: 0.8896\n",
            "Epoch 22/25\n",
            "1719/1719 [==============================] - 7s 4ms/step - loss: 0.2215 - accuracy: 0.9224 - val_loss: 0.3161 - val_accuracy: 0.8920\n",
            "Epoch 23/25\n",
            "1719/1719 [==============================] - 7s 4ms/step - loss: 0.2200 - accuracy: 0.9232 - val_loss: 0.3168 - val_accuracy: 0.8906\n",
            "Epoch 24/25\n",
            "1719/1719 [==============================] - 7s 4ms/step - loss: 0.2187 - accuracy: 0.9243 - val_loss: 0.3164 - val_accuracy: 0.8902\n",
            "Epoch 25/25\n",
            "1719/1719 [==============================] - 7s 4ms/step - loss: 0.2178 - accuracy: 0.9240 - val_loss: 0.3163 - val_accuracy: 0.8916\n"
          ]
        }
      ]
    },
    {
      "cell_type": "markdown",
      "source": [
        "## 1Cycle scheduling"
      ],
      "metadata": {
        "id": "ycUB72ypI6WC"
      }
    },
    {
      "cell_type": "code",
      "source": [
        "K = keras.backend\n",
        "\n",
        "class ExponentialLearningRate(keras.callbacks.Callback):\n",
        "    def __init__(self, factor):\n",
        "        self.factor = factor\n",
        "        self.rates = []\n",
        "        self.losses = []\n",
        "    def on_batch_end(self, batch, logs):\n",
        "        self.rates.append(K.get_value(self.model.optimizer.learning_rate))\n",
        "        self.losses.append(logs[\"loss\"])\n",
        "        K.set_value(self.model.optimizer.learning_rate, self.model.optimizer.learning_rate * self.factor)\n",
        "\n",
        "def find_learning_rate(model, X, y, epochs=1, batch_size=32, min_rate=10**-5, max_rate=10):\n",
        "    init_weights = model.get_weights()\n",
        "    iterations = math.ceil(len(X) / batch_size) * epochs\n",
        "    factor = np.exp(np.log(max_rate / min_rate) / iterations)\n",
        "    init_lr = K.get_value(model.optimizer.learning_rate)\n",
        "    K.set_value(model.optimizer.learning_rate, min_rate)\n",
        "    exp_lr = ExponentialLearningRate(factor)\n",
        "    history = model.fit(X, y, epochs=epochs, batch_size=batch_size,\n",
        "                        callbacks=[exp_lr])\n",
        "    K.set_value(model.optimizer.learning_rate, init_lr)\n",
        "    model.set_weights(init_weights)\n",
        "    return exp_lr.rates, exp_lr.losses\n",
        "\n",
        "def plot_lr_vs_loss(rates, losses):\n",
        "    plt.plot(rates, losses)\n",
        "    plt.gca().set_xscale('log')\n",
        "    plt.hlines(min(losses), min(rates), max(rates))\n",
        "    plt.axis([min(rates), max(rates), min(losses), (losses[0] + min(losses)) / 2])\n",
        "    plt.xlabel(\"Learning rate\")\n",
        "    plt.ylabel(\"Loss\")"
      ],
      "metadata": {
        "id": "xYdcYDgdI0Kx"
      },
      "execution_count": 63,
      "outputs": []
    },
    {
      "cell_type": "code",
      "source": [
        "tf.random.set_seed(42)\n",
        "np.random.seed(42)\n",
        "\n",
        "model = keras.models.Sequential([\n",
        "    keras.layers.Flatten(input_shape=[28, 28]),\n",
        "    keras.layers.Dense(300, activation=\"selu\", kernel_initializer=\"lecun_normal\"),\n",
        "    keras.layers.Dense(100, activation=\"selu\", kernel_initializer=\"lecun_normal\"),\n",
        "    keras.layers.Dense(10, activation=\"softmax\")\n",
        "])\n",
        "model.compile(loss=\"sparse_categorical_crossentropy\",\n",
        "              optimizer=keras.optimizers.SGD(learning_rate=1e-3),\n",
        "              metrics=[\"accuracy\"])"
      ],
      "metadata": {
        "id": "wLVIPSbdJzjM"
      },
      "execution_count": 64,
      "outputs": []
    },
    {
      "cell_type": "code",
      "source": [
        "batch_size = 128\n",
        "rates, losses = find_learning_rate(model, X_train_scaled, y_train, epochs=1, batch_size=batch_size)\n",
        "plot_lr_vs_loss(rates, losses)"
      ],
      "metadata": {
        "id": "kVMS207DJ1Ye",
        "colab": {
          "base_uri": "https://localhost:8080/",
          "height": 300
        },
        "outputId": "7c59f078-e69e-4f96-8d90-25b413bdaf28"
      },
      "execution_count": 65,
      "outputs": [
        {
          "output_type": "stream",
          "name": "stdout",
          "text": [
            "430/430 [==============================] - 4s 8ms/step - loss: nan - accuracy: 0.3855\n"
          ]
        },
        {
          "output_type": "display_data",
          "data": {
            "text/plain": [
              "<Figure size 432x288 with 1 Axes>"
            ],
            "image/png": "[encoded data removed]"
          },
          "metadata": {
            "needs_background": "light"
          }
        }
      ]
    },
    {
      "cell_type": "code",
      "source": [
        "class OneCycleScheduler(keras.callbacks.Callback):\n",
        "    def __init__(self, iterations, max_rate, start_rate=None,\n",
        "                 last_iterations=None, last_rate=None):\n",
        "        self.iterations = iterations\n",
        "        self.max_rate = max_rate\n",
        "        self.start_rate = start_rate or max_rate / 10\n",
        "        self.last_iterations = last_iterations or iterations // 10 + 1\n",
        "        self.half_iteration = (iterations - self.last_iterations) // 2\n",
        "        self.last_rate = last_rate or self.start_rate / 1000\n",
        "        self.iteration = 0\n",
        "    def _interpolate(self, iter1, iter2, rate1, rate2):\n",
        "        return ((rate2 - rate1) * (self.iteration - iter1)\n",
        "                / (iter2 - iter1) + rate1)\n",
        "    def on_batch_begin(self, batch, logs):\n",
        "        if self.iteration < self.half_iteration:\n",
        "            rate = self._interpolate(0, self.half_iteration, self.start_rate, self.max_rate)\n",
        "        elif self.iteration < 2 * self.half_iteration:\n",
        "            rate = self._interpolate(self.half_iteration, 2 * self.half_iteration,\n",
        "                                     self.max_rate, self.start_rate)\n",
        "        else:\n",
        "            rate = self._interpolate(2 * self.half_iteration, self.iterations,\n",
        "                                     self.start_rate, self.last_rate)\n",
        "        self.iteration += 1\n",
        "        K.set_value(self.model.optimizer.learning_rate, rate)"
      ],
      "metadata": {
        "id": "3y3xA_IFKCUv"
      },
      "execution_count": 66,
      "outputs": []
    },
    {
      "cell_type": "code",
      "source": [
        "n_epochs = 25\n",
        "onecycle = OneCycleScheduler(math.ceil(len(X_train) / batch_size) * n_epochs, max_rate=0.05)\n",
        "history = model.fit(X_train_scaled, y_train, epochs=n_epochs, batch_size=batch_size,\n",
        "                    validation_data=(X_valid_scaled, y_valid),\n",
        "                    callbacks=[onecycle])"
      ],
      "metadata": {
        "id": "WuXEi7WwKMbm",
        "colab": {
          "base_uri": "https://localhost:8080/"
        },
        "outputId": "731ee92e-113a-4812-c607-8edbba2171a6"
      },
      "execution_count": 67,
      "outputs": [
        {
          "output_type": "stream",
          "name": "stdout",
          "text": [
            "Epoch 1/25\n",
            "430/430 [==============================] - 4s 8ms/step - loss: 0.6572 - accuracy: 0.7739 - val_loss: 0.4872 - val_accuracy: 0.8336\n",
            "Epoch 2/25\n",
            "430/430 [==============================] - 4s 8ms/step - loss: 0.4581 - accuracy: 0.8396 - val_loss: 0.4275 - val_accuracy: 0.8522\n",
            "Epoch 3/25\n",
            "430/430 [==============================] - 4s 8ms/step - loss: 0.4122 - accuracy: 0.8547 - val_loss: 0.4114 - val_accuracy: 0.8584\n",
            "Epoch 4/25\n",
            "430/430 [==============================] - 4s 8ms/step - loss: 0.3837 - accuracy: 0.8643 - val_loss: 0.3870 - val_accuracy: 0.8684\n",
            "Epoch 5/25\n",
            "430/430 [==============================] - 4s 8ms/step - loss: 0.3640 - accuracy: 0.8718 - val_loss: 0.3765 - val_accuracy: 0.8684\n",
            "Epoch 6/25\n",
            "430/430 [==============================] - 3s 8ms/step - loss: 0.3457 - accuracy: 0.8775 - val_loss: 0.3746 - val_accuracy: 0.8710\n",
            "Epoch 7/25\n",
            "430/430 [==============================] - 3s 8ms/step - loss: 0.3330 - accuracy: 0.8812 - val_loss: 0.3636 - val_accuracy: 0.8716\n",
            "Epoch 8/25\n",
            "430/430 [==============================] - 3s 8ms/step - loss: 0.3185 - accuracy: 0.8864 - val_loss: 0.3963 - val_accuracy: 0.8606\n",
            "Epoch 9/25\n",
            "430/430 [==============================] - 3s 8ms/step - loss: 0.3066 - accuracy: 0.8891 - val_loss: 0.3486 - val_accuracy: 0.8758\n",
            "Epoch 10/25\n",
            "430/430 [==============================] - 4s 8ms/step - loss: 0.2945 - accuracy: 0.8929 - val_loss: 0.3400 - val_accuracy: 0.8812\n",
            "Epoch 11/25\n",
            "430/430 [==============================] - 3s 8ms/step - loss: 0.2841 - accuracy: 0.8960 - val_loss: 0.3466 - val_accuracy: 0.8808\n",
            "Epoch 12/25\n",
            "430/430 [==============================] - 4s 8ms/step - loss: 0.2710 - accuracy: 0.9023 - val_loss: 0.3651 - val_accuracy: 0.8690\n",
            "Epoch 13/25\n",
            "430/430 [==============================] - 4s 8ms/step - loss: 0.2539 - accuracy: 0.9082 - val_loss: 0.3356 - val_accuracy: 0.8832\n",
            "Epoch 14/25\n",
            "430/430 [==============================] - 3s 8ms/step - loss: 0.2406 - accuracy: 0.9138 - val_loss: 0.3462 - val_accuracy: 0.8810\n",
            "Epoch 15/25\n",
            "430/430 [==============================] - 3s 8ms/step - loss: 0.2282 - accuracy: 0.9177 - val_loss: 0.3262 - val_accuracy: 0.8850\n",
            "Epoch 16/25\n",
            "430/430 [==============================] - 4s 8ms/step - loss: 0.2160 - accuracy: 0.9231 - val_loss: 0.3297 - val_accuracy: 0.8836\n",
            "Epoch 17/25\n",
            "430/430 [==============================] - 3s 8ms/step - loss: 0.2063 - accuracy: 0.9263 - val_loss: 0.3344 - val_accuracy: 0.8870\n",
            "Epoch 18/25\n",
            "430/430 [==============================] - 3s 8ms/step - loss: 0.1979 - accuracy: 0.9303 - val_loss: 0.3240 - val_accuracy: 0.8904\n",
            "Epoch 19/25\n",
            "430/430 [==============================] - 3s 8ms/step - loss: 0.1893 - accuracy: 0.9339 - val_loss: 0.3228 - val_accuracy: 0.8898\n",
            "Epoch 20/25\n",
            "430/430 [==============================] - 3s 8ms/step - loss: 0.1822 - accuracy: 0.9364 - val_loss: 0.3219 - val_accuracy: 0.8934\n",
            "Epoch 21/25\n",
            "430/430 [==============================] - 3s 8ms/step - loss: 0.1753 - accuracy: 0.9399 - val_loss: 0.3209 - val_accuracy: 0.8916\n",
            "Epoch 22/25\n",
            "430/430 [==============================] - 3s 8ms/step - loss: 0.1701 - accuracy: 0.9417 - val_loss: 0.3174 - val_accuracy: 0.8950\n",
            "Epoch 23/25\n",
            "430/430 [==============================] - 4s 8ms/step - loss: 0.1655 - accuracy: 0.9440 - val_loss: 0.3181 - val_accuracy: 0.8944\n",
            "Epoch 24/25\n",
            "430/430 [==============================] - 3s 8ms/step - loss: 0.1627 - accuracy: 0.9454 - val_loss: 0.3172 - val_accuracy: 0.8934\n",
            "Epoch 25/25\n",
            "430/430 [==============================] - 3s 8ms/step - loss: 0.1610 - accuracy: 0.9462 - val_loss: 0.3165 - val_accuracy: 0.8940\n"
          ]
        }
      ]
    },
    {
      "cell_type": "markdown",
      "source": [
        "\n",
        "# Avoiding Overfitting Through Regularization\n",
        "## $l1$ and $l2$ regularization"
      ],
      "metadata": {
        "id": "0wZ18fv_m3rf"
      }
    },
    {
      "cell_type": "code",
      "source": [
        "layer = keras.layers.Dense(300, activation=\"relu\",\n",
        "                           kernel_initializer=\"he_normal\",\n",
        "                           kernel_regularizer=keras.regularizers.l2(0.01))\n",
        "# or l1(0.1) for ℓ1 regularization with a factor of 0.1\n",
        "# or l1_l2(0.1, 0.01) for both ℓ1 and ℓ2 regularization, with factors 0.1 and 0.01 respectively"
      ],
      "metadata": {
        "id": "jUHblChHKf1o"
      },
      "execution_count": 68,
      "outputs": []
    },
    {
      "cell_type": "code",
      "source": [
        "model = keras.models.Sequential([\n",
        "    keras.layers.Flatten(input_shape=[28, 28]),\n",
        "    keras.layers.Dense(300, activation=\"elu\",\n",
        "                       kernel_initializer=\"he_normal\",\n",
        "                       kernel_regularizer=keras.regularizers.l2(0.01)),\n",
        "    keras.layers.Dense(100, activation=\"elu\",\n",
        "                       kernel_initializer=\"he_normal\",\n",
        "                       kernel_regularizer=keras.regularizers.l2(0.01)),\n",
        "    keras.layers.Dense(10, activation=\"softmax\",\n",
        "                       kernel_regularizer=keras.regularizers.l2(0.01))\n",
        "])\n",
        "model.compile(loss=\"sparse_categorical_crossentropy\", optimizer=\"nadam\", metrics=[\"accuracy\"])\n",
        "n_epochs = 2\n",
        "history = model.fit(X_train_scaled, y_train, epochs=n_epochs,\n",
        "                    validation_data=(X_valid_scaled, y_valid))"
      ],
      "metadata": {
        "colab": {
          "base_uri": "https://localhost:8080/"
        },
        "id": "gjHJ_GZ4nn_f",
        "outputId": "b2a1cafe-94f7-42ed-edf6-e828fd74f672"
      },
      "execution_count": 69,
      "outputs": [
        {
          "output_type": "stream",
          "name": "stdout",
          "text": [
            "Epoch 1/2\n",
            "1719/1719 [==============================] - 16s 9ms/step - loss: 1.5956 - accuracy: 0.8124 - val_loss: 0.7169 - val_accuracy: 0.8340\n",
            "Epoch 2/2\n",
            "1719/1719 [==============================] - 15s 9ms/step - loss: 0.7197 - accuracy: 0.8274 - val_loss: 0.6850 - val_accuracy: 0.8376\n"
          ]
        }
      ]
    },
    {
      "cell_type": "code",
      "source": [
        "RegularizedDense = partial(keras.layers.Dense,\n",
        "                           activation=\"elu\",\n",
        "                           kernel_initializer=\"he_normal\",\n",
        "                           kernel_regularizer=keras.regularizers.l2(0.01))\n",
        "\n",
        "model = keras.models.Sequential([\n",
        "    keras.layers.Flatten(input_shape=[28, 28]),\n",
        "    RegularizedDense(300),\n",
        "    RegularizedDense(100),\n",
        "    RegularizedDense(10, activation=\"softmax\")\n",
        "])\n",
        "\n",
        "model.compile(loss=\"sparse_categorical_crossentropy\",\n",
        "              optimizer=\"nadam\",\n",
        "              metrics=[\"accuracy\"])\n",
        "\n",
        "n_epochs = 2\n",
        "history = model.fit(X_train_scaled, y_train, epochs=n_epochs,\n",
        "                    validation_data=(X_valid_scaled, y_valid))"
      ],
      "metadata": {
        "colab": {
          "base_uri": "https://localhost:8080/"
        },
        "id": "tiSDfNyEnxq5",
        "outputId": "04ea2a0c-f0e8-4791-c82c-9b724e918883"
      },
      "execution_count": 70,
      "outputs": [
        {
          "output_type": "stream",
          "name": "stdout",
          "text": [
            "Epoch 1/2\n",
            "1719/1719 [==============================] - 16s 9ms/step - loss: 1.6313 - accuracy: 0.8113 - val_loss: 0.7218 - val_accuracy: 0.8310\n",
            "Epoch 2/2\n",
            "1719/1719 [==============================] - 14s 8ms/step - loss: 0.7187 - accuracy: 0.8273 - val_loss: 0.6826 - val_accuracy: 0.8382\n"
          ]
        }
      ]
    },
    {
      "cell_type": "markdown",
      "source": [
        "## Dropout"
      ],
      "metadata": {
        "id": "7vdCLzTgtyWY"
      }
    },
    {
      "cell_type": "code",
      "source": [
        "model = keras.models.Sequential([\n",
        "    keras.layers.Flatten(input_shape=[28, 28]),\n",
        "    keras.layers.Dropout(rate=0.2),\n",
        "    keras.layers.Dense(300, activation=\"elu\", kernel_initializer=\"he_normal\"),\n",
        "    keras.layers.Dropout(rate=0.2),\n",
        "    keras.layers.Dense(100, activation=\"elu\", kernel_initializer=\"he_normal\"),\n",
        "    keras.layers.Dropout(rate=0.2),\n",
        "    keras.layers.Dense(10, activation=\"softmax\")\n",
        "])\n",
        "\n",
        "model.compile(loss=\"sparse_categorical_crossentropy\",\n",
        "              optimizer=\"nadam\",\n",
        "              metrics=[\"accuracy\"])\n",
        "\n",
        "n_epochs = 2\n",
        "history = model.fit(X_train_scaled, y_train, epochs=n_epochs,\n",
        "                    validation_data=(X_valid_scaled, y_valid))"
      ],
      "metadata": {
        "colab": {
          "base_uri": "https://localhost:8080/"
        },
        "id": "JbLgeIE6ofOq",
        "outputId": "188b5b49-b500-4626-8e6e-de8086c2f9bf"
      },
      "execution_count": 71,
      "outputs": [
        {
          "output_type": "stream",
          "name": "stdout",
          "text": [
            "Epoch 1/2\n",
            "1719/1719 [==============================] - 14s 8ms/step - loss: 0.5838 - accuracy: 0.7997 - val_loss: 0.3730 - val_accuracy: 0.8644\n",
            "Epoch 2/2\n",
            "1719/1719 [==============================] - 13s 8ms/step - loss: 0.4209 - accuracy: 0.8443 - val_loss: 0.3396 - val_accuracy: 0.8714\n"
          ]
        }
      ]
    },
    {
      "cell_type": "markdown",
      "source": [
        "\n",
        "## Alpha Dropout"
      ],
      "metadata": {
        "id": "7JD1K9Dsx3u5"
      }
    },
    {
      "cell_type": "code",
      "source": [
        "model = keras.models.Sequential([\n",
        "    keras.layers.Flatten(input_shape=[28, 28]),\n",
        "    keras.layers.AlphaDropout(rate=0.2),\n",
        "    keras.layers.Dense(300, activation=\"selu\", kernel_initializer=\"lecun_normal\"),\n",
        "    keras.layers.AlphaDropout(rate=0.2),\n",
        "    keras.layers.Dense(100, activation=\"selu\", kernel_initializer=\"lecun_normal\"),\n",
        "    keras.layers.AlphaDropout(rate=0.2),\n",
        "    keras.layers.Dense(10, activation=\"softmax\")\n",
        "])\n",
        "optimizer = keras.optimizers.SGD(learning_rate=0.01, momentum=0.9, nesterov=True)\n",
        "model.compile(loss=\"sparse_categorical_crossentropy\", optimizer=optimizer, metrics=[\"accuracy\"])\n",
        "n_epochs = 20\n",
        "history = model.fit(X_train_scaled, y_train, epochs=n_epochs,\n",
        "                    validation_data=(X_valid_scaled, y_valid))"
      ],
      "metadata": {
        "colab": {
          "base_uri": "https://localhost:8080/"
        },
        "id": "sq_W74dBt72k",
        "outputId": "1dae7041-7f19-44ad-ce9b-eec9d7ff820c"
      },
      "execution_count": 72,
      "outputs": [
        {
          "output_type": "stream",
          "name": "stdout",
          "text": [
            "Epoch 1/20\n",
            "1719/1719 [==============================] - 10s 5ms/step - loss: 0.6654 - accuracy: 0.7594 - val_loss: 0.6056 - val_accuracy: 0.8412\n",
            "Epoch 2/20\n",
            "1719/1719 [==============================] - 9s 6ms/step - loss: 0.5590 - accuracy: 0.7946 - val_loss: 0.5543 - val_accuracy: 0.8496\n",
            "Epoch 3/20\n",
            "1719/1719 [==============================] - 9s 5ms/step - loss: 0.5263 - accuracy: 0.8062 - val_loss: 0.5000 - val_accuracy: 0.8554\n",
            "Epoch 4/20\n",
            "1719/1719 [==============================] - 10s 6ms/step - loss: 0.5050 - accuracy: 0.8123 - val_loss: 0.4488 - val_accuracy: 0.8662\n",
            "Epoch 5/20\n",
            "1719/1719 [==============================] - 10s 6ms/step - loss: 0.4942 - accuracy: 0.8176 - val_loss: 0.4598 - val_accuracy: 0.8590\n",
            "Epoch 6/20\n",
            "1719/1719 [==============================] - 10s 6ms/step - loss: 0.4816 - accuracy: 0.8232 - val_loss: 0.4706 - val_accuracy: 0.8630\n",
            "Epoch 7/20\n",
            "1719/1719 [==============================] - 10s 6ms/step - loss: 0.4684 - accuracy: 0.8269 - val_loss: 0.4736 - val_accuracy: 0.8576\n",
            "Epoch 8/20\n",
            "1719/1719 [==============================] - 10s 6ms/step - loss: 0.4663 - accuracy: 0.8280 - val_loss: 0.4550 - val_accuracy: 0.8608\n",
            "Epoch 9/20\n",
            "1719/1719 [==============================] - 10s 6ms/step - loss: 0.4590 - accuracy: 0.8303 - val_loss: 0.4468 - val_accuracy: 0.8668\n",
            "Epoch 10/20\n",
            "1719/1719 [==============================] - 10s 6ms/step - loss: 0.4517 - accuracy: 0.8325 - val_loss: 0.4396 - val_accuracy: 0.8642\n",
            "Epoch 11/20\n",
            "1719/1719 [==============================] - 10s 6ms/step - loss: 0.4463 - accuracy: 0.8345 - val_loss: 0.4290 - val_accuracy: 0.8688\n",
            "Epoch 12/20\n",
            "1719/1719 [==============================] - 10s 6ms/step - loss: 0.4436 - accuracy: 0.8348 - val_loss: 0.5201 - val_accuracy: 0.8528\n",
            "Epoch 13/20\n",
            "1719/1719 [==============================] - 10s 6ms/step - loss: 0.4408 - accuracy: 0.8366 - val_loss: 0.4079 - val_accuracy: 0.8794\n",
            "Epoch 14/20\n",
            "1719/1719 [==============================] - 10s 6ms/step - loss: 0.4376 - accuracy: 0.8382 - val_loss: 0.4550 - val_accuracy: 0.8576\n",
            "Epoch 15/20\n",
            "1719/1719 [==============================] - 10s 6ms/step - loss: 0.4347 - accuracy: 0.8393 - val_loss: 0.4316 - val_accuracy: 0.8726\n",
            "Epoch 16/20\n",
            "1719/1719 [==============================] - 9s 5ms/step - loss: 0.4325 - accuracy: 0.8391 - val_loss: 0.4403 - val_accuracy: 0.8690\n",
            "Epoch 17/20\n",
            "1719/1719 [==============================] - 10s 6ms/step - loss: 0.4255 - accuracy: 0.8428 - val_loss: 0.5712 - val_accuracy: 0.8594\n",
            "Epoch 18/20\n",
            "1719/1719 [==============================] - 9s 5ms/step - loss: 0.4255 - accuracy: 0.8419 - val_loss: 0.5130 - val_accuracy: 0.8704\n",
            "Epoch 19/20\n",
            "1719/1719 [==============================] - 9s 5ms/step - loss: 0.4261 - accuracy: 0.8428 - val_loss: 0.4537 - val_accuracy: 0.8744\n",
            "Epoch 20/20\n",
            "1719/1719 [==============================] - 9s 5ms/step - loss: 0.4219 - accuracy: 0.8431 - val_loss: 0.4070 - val_accuracy: 0.8748\n"
          ]
        }
      ]
    },
    {
      "cell_type": "code",
      "source": [
        "model.evaluate(X_test_scaled, y_test)"
      ],
      "metadata": {
        "colab": {
          "base_uri": "https://localhost:8080/"
        },
        "id": "rdQ3guUKyMzF",
        "outputId": "8313e0e0-e335-406f-ee38-e21a5779d858"
      },
      "execution_count": 73,
      "outputs": [
        {
          "output_type": "stream",
          "name": "stdout",
          "text": [
            "313/313 [==============================] - 1s 3ms/step - loss: 0.4666 - accuracy: 0.8622\n"
          ]
        },
        {
          "output_type": "execute_result",
          "data": {
            "text/plain": [
              "[0.46663960814476013, 0.8622000217437744]"
            ]
          },
          "metadata": {},
          "execution_count": 73
        }
      ]
    },
    {
      "cell_type": "code",
      "source": [
        "model.evaluate(X_train_scaled, y_train)"
      ],
      "metadata": {
        "colab": {
          "base_uri": "https://localhost:8080/"
        },
        "id": "GUORKykIyb_j",
        "outputId": "97422f0a-a28e-40ce-941f-3d30e5f85eac"
      },
      "execution_count": 74,
      "outputs": [
        {
          "output_type": "stream",
          "name": "stdout",
          "text": [
            "1719/1719 [==============================] - 4s 2ms/step - loss: 0.3426 - accuracy: 0.8831\n"
          ]
        },
        {
          "output_type": "execute_result",
          "data": {
            "text/plain": [
              "[0.3426359295845032, 0.8831454515457153]"
            ]
          },
          "metadata": {},
          "execution_count": 74
        }
      ]
    },
    {
      "cell_type": "code",
      "source": [
        "history = model.fit(X_train_scaled, y_train)"
      ],
      "metadata": {
        "colab": {
          "base_uri": "https://localhost:8080/"
        },
        "id": "dcHMyMZhye_M",
        "outputId": "8c4cead6-ae70-4fd1-a16c-96636c435ab9"
      },
      "execution_count": 75,
      "outputs": [
        {
          "output_type": "stream",
          "name": "stdout",
          "text": [
            "1719/1719 [==============================] - 9s 5ms/step - loss: 0.4178 - accuracy: 0.8459\n"
          ]
        }
      ]
    },
    {
      "cell_type": "markdown",
      "source": [
        "## MC Dropout"
      ],
      "metadata": {
        "id": "nXcm7qboymJG"
      }
    },
    {
      "cell_type": "code",
      "source": [
        "y_probas = np.stack([model(X_test_scaled, training=True) for sample in range(100)])\n",
        "y_proba = np.mean(y_probas, axis=0)\n",
        "y_std = y_probas.std(axis=0)"
      ],
      "metadata": {
        "id": "OKsZhaO0yi1b"
      },
      "execution_count": 76,
      "outputs": []
    },
    {
      "cell_type": "code",
      "source": [
        "np.round(model.predict(X_test_scaled[:1]), 2)"
      ],
      "metadata": {
        "colab": {
          "base_uri": "https://localhost:8080/"
        },
        "id": "tDFTvahjzJgs",
        "outputId": "8f6d24ea-b407-4d51-ba2b-be6adf42aaaf"
      },
      "execution_count": 77,
      "outputs": [
        {
          "output_type": "execute_result",
          "data": {
            "text/plain": [
              "array([[0., 0., 0., 0., 0., 0., 0., 0., 0., 1.]], dtype=float32)"
            ]
          },
          "metadata": {},
          "execution_count": 77
        }
      ]
    },
    {
      "cell_type": "code",
      "source": [
        "np.round(y_probas[:, :1], 2)"
      ],
      "metadata": {
        "colab": {
          "base_uri": "https://localhost:8080/"
        },
        "id": "ExyN9RtRzWy2",
        "outputId": "82e04f55-ae9f-45b1-ba3a-a24efca7171b"
      },
      "execution_count": 78,
      "outputs": [
        {
          "output_type": "execute_result",
          "data": {
            "text/plain": [
              "array([[[0.  , 0.  , 0.  , 0.  , 0.  , 0.43, 0.  , 0.27, 0.  , 0.3 ]],\n",
              "\n",
              "       [[0.  , 0.  , 0.  , 0.  , 0.  , 0.  , 0.  , 0.01, 0.  , 0.99]],\n",
              "\n",
              "       [[0.  , 0.  , 0.  , 0.  , 0.  , 0.1 , 0.  , 0.04, 0.  , 0.86]],\n",
              "\n",
              "       [[0.  , 0.  , 0.  , 0.  , 0.  , 0.01, 0.  , 0.03, 0.  , 0.96]],\n",
              "\n",
              "       [[0.  , 0.  , 0.  , 0.  , 0.  , 0.  , 0.  , 0.04, 0.  , 0.96]],\n",
              "\n",
              "       [[0.  , 0.  , 0.  , 0.  , 0.  , 0.09, 0.  , 0.02, 0.  , 0.9 ]],\n",
              "\n",
              "       [[0.  , 0.  , 0.  , 0.  , 0.  , 0.29, 0.  , 0.22, 0.  , 0.49]],\n",
              "\n",
              "       [[0.  , 0.  , 0.  , 0.  , 0.  , 0.55, 0.  , 0.  , 0.  , 0.45]],\n",
              "\n",
              "       [[0.  , 0.  , 0.  , 0.  , 0.  , 0.  , 0.  , 0.  , 0.  , 0.99]],\n",
              "\n",
              "       [[0.  , 0.  , 0.  , 0.  , 0.  , 0.04, 0.  , 0.85, 0.  , 0.11]],\n",
              "\n",
              "       [[0.  , 0.  , 0.  , 0.  , 0.  , 0.03, 0.  , 0.86, 0.  , 0.11]],\n",
              "\n",
              "       [[0.  , 0.  , 0.  , 0.  , 0.  , 0.02, 0.  , 0.01, 0.  , 0.97]],\n",
              "\n",
              "       [[0.  , 0.  , 0.  , 0.  , 0.  , 0.  , 0.  , 0.03, 0.  , 0.96]],\n",
              "\n",
              "       [[0.  , 0.  , 0.  , 0.  , 0.  , 0.94, 0.  , 0.04, 0.  , 0.03]],\n",
              "\n",
              "       [[0.  , 0.  , 0.  , 0.  , 0.  , 0.17, 0.  , 0.38, 0.  , 0.45]],\n",
              "\n",
              "       [[0.  , 0.  , 0.  , 0.  , 0.  , 0.33, 0.  , 0.21, 0.  , 0.46]],\n",
              "\n",
              "       [[0.  , 0.  , 0.  , 0.  , 0.  , 0.95, 0.  , 0.02, 0.  , 0.03]],\n",
              "\n",
              "       [[0.  , 0.  , 0.  , 0.  , 0.  , 0.01, 0.  , 0.03, 0.  , 0.96]],\n",
              "\n",
              "       [[0.  , 0.  , 0.  , 0.  , 0.  , 0.03, 0.  , 0.05, 0.  , 0.92]],\n",
              "\n",
              "       [[0.  , 0.  , 0.  , 0.  , 0.  , 0.  , 0.  , 0.18, 0.  , 0.81]],\n",
              "\n",
              "       [[0.  , 0.  , 0.  , 0.  , 0.  , 0.09, 0.  , 0.13, 0.  , 0.78]],\n",
              "\n",
              "       [[0.  , 0.  , 0.  , 0.  , 0.  , 0.14, 0.  , 0.28, 0.  , 0.58]],\n",
              "\n",
              "       [[0.  , 0.  , 0.  , 0.  , 0.  , 0.03, 0.  , 0.02, 0.  , 0.94]],\n",
              "\n",
              "       [[0.  , 0.  , 0.  , 0.  , 0.  , 0.01, 0.  , 0.16, 0.  , 0.82]],\n",
              "\n",
              "       [[0.  , 0.  , 0.  , 0.  , 0.  , 0.07, 0.  , 0.83, 0.  , 0.11]],\n",
              "\n",
              "       [[0.  , 0.  , 0.  , 0.  , 0.  , 0.  , 0.  , 0.12, 0.  , 0.88]],\n",
              "\n",
              "       [[0.  , 0.  , 0.  , 0.  , 0.  , 0.5 , 0.  , 0.16, 0.  , 0.33]],\n",
              "\n",
              "       [[0.  , 0.  , 0.  , 0.  , 0.  , 0.03, 0.  , 0.13, 0.  , 0.84]],\n",
              "\n",
              "       [[0.  , 0.  , 0.  , 0.  , 0.  , 0.13, 0.  , 0.04, 0.  , 0.83]],\n",
              "\n",
              "       [[0.  , 0.  , 0.  , 0.  , 0.  , 0.01, 0.  , 0.01, 0.  , 0.99]],\n",
              "\n",
              "       [[0.  , 0.  , 0.  , 0.  , 0.  , 0.  , 0.  , 0.03, 0.  , 0.97]],\n",
              "\n",
              "       [[0.  , 0.  , 0.  , 0.  , 0.  , 0.  , 0.  , 0.44, 0.  , 0.56]],\n",
              "\n",
              "       [[0.  , 0.  , 0.  , 0.  , 0.  , 0.03, 0.  , 0.05, 0.  , 0.92]],\n",
              "\n",
              "       [[0.  , 0.  , 0.  , 0.  , 0.  , 0.04, 0.  , 0.05, 0.  , 0.92]],\n",
              "\n",
              "       [[0.  , 0.  , 0.  , 0.  , 0.  , 0.  , 0.  , 0.01, 0.  , 0.99]],\n",
              "\n",
              "       [[0.  , 0.  , 0.  , 0.01, 0.  , 0.13, 0.  , 0.22, 0.  , 0.64]],\n",
              "\n",
              "       [[0.  , 0.  , 0.  , 0.  , 0.  , 0.18, 0.  , 0.68, 0.  , 0.15]],\n",
              "\n",
              "       [[0.  , 0.  , 0.  , 0.  , 0.  , 0.01, 0.  , 0.  , 0.  , 0.99]],\n",
              "\n",
              "       [[0.  , 0.  , 0.  , 0.  , 0.  , 0.  , 0.  , 0.02, 0.  , 0.98]],\n",
              "\n",
              "       [[0.  , 0.  , 0.  , 0.  , 0.  , 0.11, 0.  , 0.33, 0.  , 0.56]],\n",
              "\n",
              "       [[0.  , 0.  , 0.  , 0.  , 0.  , 0.04, 0.  , 0.05, 0.  , 0.91]],\n",
              "\n",
              "       [[0.  , 0.  , 0.  , 0.  , 0.  , 0.19, 0.  , 0.09, 0.  , 0.72]],\n",
              "\n",
              "       [[0.  , 0.  , 0.  , 0.  , 0.  , 0.27, 0.  , 0.49, 0.  , 0.23]],\n",
              "\n",
              "       [[0.  , 0.  , 0.  , 0.  , 0.  , 0.08, 0.  , 0.34, 0.  , 0.58]],\n",
              "\n",
              "       [[0.  , 0.  , 0.  , 0.  , 0.  , 0.16, 0.  , 0.03, 0.  , 0.81]],\n",
              "\n",
              "       [[0.  , 0.  , 0.  , 0.  , 0.  , 0.08, 0.  , 0.05, 0.  , 0.87]],\n",
              "\n",
              "       [[0.  , 0.  , 0.  , 0.  , 0.  , 0.02, 0.  , 0.09, 0.  , 0.89]],\n",
              "\n",
              "       [[0.  , 0.  , 0.  , 0.  , 0.  , 0.03, 0.  , 0.66, 0.  , 0.31]],\n",
              "\n",
              "       [[0.  , 0.  , 0.  , 0.  , 0.  , 0.01, 0.  , 0.06, 0.  , 0.93]],\n",
              "\n",
              "       [[0.  , 0.  , 0.  , 0.  , 0.  , 0.05, 0.  , 0.08, 0.  , 0.87]],\n",
              "\n",
              "       [[0.  , 0.  , 0.  , 0.  , 0.  , 0.  , 0.  , 0.01, 0.  , 0.98]],\n",
              "\n",
              "       [[0.  , 0.  , 0.  , 0.  , 0.  , 0.  , 0.  , 0.04, 0.  , 0.96]],\n",
              "\n",
              "       [[0.  , 0.  , 0.  , 0.  , 0.  , 0.07, 0.  , 0.03, 0.  , 0.9 ]],\n",
              "\n",
              "       [[0.  , 0.  , 0.  , 0.  , 0.  , 0.07, 0.  , 0.17, 0.  , 0.76]],\n",
              "\n",
              "       [[0.  , 0.  , 0.  , 0.  , 0.  , 0.03, 0.  , 0.09, 0.  , 0.88]],\n",
              "\n",
              "       [[0.  , 0.  , 0.  , 0.  , 0.  , 0.  , 0.  , 0.01, 0.  , 0.99]],\n",
              "\n",
              "       [[0.  , 0.  , 0.  , 0.  , 0.  , 0.05, 0.  , 0.22, 0.  , 0.73]],\n",
              "\n",
              "       [[0.  , 0.  , 0.  , 0.  , 0.  , 0.01, 0.  , 0.75, 0.  , 0.24]],\n",
              "\n",
              "       [[0.  , 0.  , 0.  , 0.  , 0.  , 0.03, 0.  , 0.07, 0.  , 0.9 ]],\n",
              "\n",
              "       [[0.  , 0.  , 0.  , 0.  , 0.  , 0.04, 0.  , 0.28, 0.  , 0.68]],\n",
              "\n",
              "       [[0.  , 0.  , 0.  , 0.  , 0.  , 0.85, 0.  , 0.08, 0.  , 0.07]],\n",
              "\n",
              "       [[0.  , 0.  , 0.  , 0.  , 0.  , 0.19, 0.  , 0.14, 0.  , 0.67]],\n",
              "\n",
              "       [[0.  , 0.  , 0.  , 0.  , 0.  , 0.07, 0.  , 0.07, 0.  , 0.86]],\n",
              "\n",
              "       [[0.  , 0.  , 0.  , 0.  , 0.  , 0.07, 0.  , 0.06, 0.  , 0.86]],\n",
              "\n",
              "       [[0.  , 0.  , 0.  , 0.  , 0.  , 0.  , 0.  , 0.02, 0.  , 0.98]],\n",
              "\n",
              "       [[0.  , 0.  , 0.  , 0.  , 0.  , 0.15, 0.  , 0.34, 0.  , 0.51]],\n",
              "\n",
              "       [[0.  , 0.  , 0.  , 0.  , 0.  , 0.02, 0.  , 0.  , 0.  , 0.98]],\n",
              "\n",
              "       [[0.  , 0.  , 0.  , 0.  , 0.  , 0.27, 0.  , 0.11, 0.  , 0.62]],\n",
              "\n",
              "       [[0.  , 0.  , 0.  , 0.  , 0.  , 0.76, 0.  , 0.02, 0.  , 0.22]],\n",
              "\n",
              "       [[0.  , 0.  , 0.  , 0.  , 0.  , 0.  , 0.  , 0.04, 0.  , 0.96]],\n",
              "\n",
              "       [[0.  , 0.  , 0.  , 0.  , 0.  , 0.05, 0.  , 0.08, 0.  , 0.87]],\n",
              "\n",
              "       [[0.  , 0.  , 0.  , 0.  , 0.  , 0.9 , 0.  , 0.08, 0.  , 0.02]],\n",
              "\n",
              "       [[0.  , 0.  , 0.  , 0.  , 0.  , 0.3 , 0.  , 0.1 , 0.  , 0.6 ]],\n",
              "\n",
              "       [[0.  , 0.  , 0.  , 0.  , 0.  , 0.11, 0.  , 0.37, 0.  , 0.52]],\n",
              "\n",
              "       [[0.  , 0.  , 0.  , 0.  , 0.  , 0.15, 0.  , 0.1 , 0.  , 0.75]],\n",
              "\n",
              "       [[0.  , 0.  , 0.  , 0.  , 0.  , 0.13, 0.  , 0.25, 0.  , 0.62]],\n",
              "\n",
              "       [[0.  , 0.  , 0.  , 0.  , 0.  , 0.01, 0.  , 0.11, 0.  , 0.89]],\n",
              "\n",
              "       [[0.  , 0.  , 0.  , 0.  , 0.  , 0.  , 0.  , 0.05, 0.  , 0.94]],\n",
              "\n",
              "       [[0.  , 0.  , 0.  , 0.  , 0.  , 0.  , 0.  , 0.04, 0.  , 0.96]],\n",
              "\n",
              "       [[0.  , 0.  , 0.  , 0.  , 0.  , 0.  , 0.  , 0.01, 0.  , 0.99]],\n",
              "\n",
              "       [[0.  , 0.  , 0.  , 0.  , 0.  , 0.12, 0.  , 0.17, 0.  , 0.71]],\n",
              "\n",
              "       [[0.  , 0.  , 0.  , 0.  , 0.  , 0.03, 0.  , 0.32, 0.  , 0.66]],\n",
              "\n",
              "       [[0.  , 0.  , 0.  , 0.  , 0.  , 0.19, 0.  , 0.02, 0.  , 0.79]],\n",
              "\n",
              "       [[0.  , 0.  , 0.  , 0.  , 0.  , 0.02, 0.  , 0.01, 0.  , 0.97]],\n",
              "\n",
              "       [[0.  , 0.  , 0.  , 0.  , 0.  , 0.03, 0.  , 0.79, 0.  , 0.18]],\n",
              "\n",
              "       [[0.  , 0.  , 0.  , 0.  , 0.  , 0.01, 0.  , 0.01, 0.  , 0.97]],\n",
              "\n",
              "       [[0.  , 0.  , 0.  , 0.  , 0.  , 0.08, 0.  , 0.14, 0.  , 0.79]],\n",
              "\n",
              "       [[0.  , 0.  , 0.  , 0.  , 0.  , 0.05, 0.  , 0.05, 0.  , 0.89]],\n",
              "\n",
              "       [[0.  , 0.  , 0.  , 0.  , 0.  , 0.04, 0.  , 0.1 , 0.  , 0.86]],\n",
              "\n",
              "       [[0.  , 0.  , 0.  , 0.  , 0.  , 0.08, 0.  , 0.11, 0.  , 0.81]],\n",
              "\n",
              "       [[0.  , 0.  , 0.  , 0.  , 0.  , 0.01, 0.  , 0.16, 0.  , 0.84]],\n",
              "\n",
              "       [[0.  , 0.  , 0.  , 0.  , 0.  , 0.06, 0.  , 0.14, 0.  , 0.8 ]],\n",
              "\n",
              "       [[0.  , 0.  , 0.  , 0.  , 0.  , 0.11, 0.  , 0.14, 0.  , 0.75]],\n",
              "\n",
              "       [[0.  , 0.  , 0.  , 0.  , 0.  , 0.39, 0.  , 0.05, 0.  , 0.56]],\n",
              "\n",
              "       [[0.  , 0.  , 0.  , 0.  , 0.  , 0.09, 0.  , 0.73, 0.  , 0.18]],\n",
              "\n",
              "       [[0.  , 0.  , 0.  , 0.  , 0.  , 0.03, 0.  , 0.04, 0.  , 0.93]],\n",
              "\n",
              "       [[0.  , 0.  , 0.  , 0.  , 0.  , 0.28, 0.  , 0.37, 0.  , 0.35]],\n",
              "\n",
              "       [[0.  , 0.  , 0.  , 0.  , 0.  , 0.01, 0.  , 0.03, 0.  , 0.96]],\n",
              "\n",
              "       [[0.  , 0.  , 0.  , 0.  , 0.  , 0.01, 0.  , 0.01, 0.  , 0.98]],\n",
              "\n",
              "       [[0.  , 0.  , 0.  , 0.  , 0.  , 0.03, 0.  , 0.3 , 0.  , 0.67]]],\n",
              "      dtype=float32)"
            ]
          },
          "metadata": {},
          "execution_count": 78
        }
      ]
    },
    {
      "cell_type": "code",
      "source": [
        "np.round(y_proba[:1], 2)"
      ],
      "metadata": {
        "colab": {
          "base_uri": "https://localhost:8080/"
        },
        "id": "f9GC1KiMzw8Y",
        "outputId": "1a1e732b-7522-48b5-90e2-24aaa22333ec"
      },
      "execution_count": 79,
      "outputs": [
        {
          "output_type": "execute_result",
          "data": {
            "text/plain": [
              "array([[0.  , 0.  , 0.  , 0.  , 0.  , 0.12, 0.  , 0.16, 0.  , 0.71]],\n",
              "      dtype=float32)"
            ]
          },
          "metadata": {},
          "execution_count": 79
        }
      ]
    },
    {
      "cell_type": "code",
      "source": [
        "np.round(y_std[:1], 2)"
      ],
      "metadata": {
        "colab": {
          "base_uri": "https://localhost:8080/"
        },
        "id": "Gx8kh31pz1qY",
        "outputId": "393aed3a-f712-4e71-fb67-4935f95bec4f"
      },
      "execution_count": 80,
      "outputs": [
        {
          "output_type": "execute_result",
          "data": {
            "text/plain": [
              "array([[0.  , 0.  , 0.  , 0.  , 0.  , 0.21, 0.  , 0.21, 0.  , 0.29]],\n",
              "      dtype=float32)"
            ]
          },
          "metadata": {},
          "execution_count": 80
        }
      ]
    },
    {
      "cell_type": "code",
      "source": [
        "y_pred = np.argmax(y_proba, axis=1)"
      ],
      "metadata": {
        "id": "qbl8ABPXz7oU"
      },
      "execution_count": 81,
      "outputs": []
    },
    {
      "cell_type": "code",
      "source": [
        "accuracy = np.sum(y_pred == y_test) / len(y_test)\n",
        "accuracy"
      ],
      "metadata": {
        "colab": {
          "base_uri": "https://localhost:8080/"
        },
        "id": "7x7n_Hy30JeD",
        "outputId": "b30f91aa-f563-4084-a8c9-cd3bfc0ff518"
      },
      "execution_count": 82,
      "outputs": [
        {
          "output_type": "execute_result",
          "data": {
            "text/plain": [
              "0.8713"
            ]
          },
          "metadata": {},
          "execution_count": 82
        }
      ]
    },
    {
      "cell_type": "code",
      "source": [
        "class MCDropout(keras.layers.Dropout):\n",
        "    def call(self, inputs):\n",
        "        return super().call(inputs, training=True)\n",
        "\n",
        "class MCAlphaDropout(keras.layers.AlphaDropout):\n",
        "    def call(self, inputs):\n",
        "        return super().call(inputs, training=True)"
      ],
      "metadata": {
        "id": "gtlUskuk0M0m"
      },
      "execution_count": 83,
      "outputs": []
    },
    {
      "cell_type": "code",
      "source": [
        "mc_model = keras.models.Sequential([\n",
        "              MCAlphaDropout(layer.rate) if isinstance(layer, keras.layers.AlphaDropout) else layer\n",
        "              for layer in model.layers\n",
        "])"
      ],
      "metadata": {
        "id": "bHptMJHR0keh"
      },
      "execution_count": 84,
      "outputs": []
    },
    {
      "cell_type": "code",
      "source": [
        "mc_model.summary()"
      ],
      "metadata": {
        "colab": {
          "base_uri": "https://localhost:8080/"
        },
        "id": "OZqK7EIt1OGN",
        "outputId": "eea99e32-5c76-439b-f93b-cf921971348e"
      },
      "execution_count": 85,
      "outputs": [
        {
          "output_type": "stream",
          "name": "stdout",
          "text": [
            "Model: \"sequential_21\"\n",
            "_________________________________________________________________\n",
            " Layer (type)                Output Shape              Param #   \n",
            "=================================================================\n",
            " flatten_18 (Flatten)        (None, 784)               0         \n",
            "                                                                 \n",
            " mc_alpha_dropout (MCAlphaDr  (None, 784)              0         \n",
            " opout)                                                          \n",
            "                                                                 \n",
            " dense_261 (Dense)           (None, 300)               235500    \n",
            "                                                                 \n",
            " mc_alpha_dropout_1 (MCAlpha  (None, 300)              0         \n",
            " Dropout)                                                        \n",
            "                                                                 \n",
            " dense_262 (Dense)           (None, 100)               30100     \n",
            "                                                                 \n",
            " mc_alpha_dropout_2 (MCAlpha  (None, 100)              0         \n",
            " Dropout)                                                        \n",
            "                                                                 \n",
            " dense_263 (Dense)           (None, 10)                1010      \n",
            "                                                                 \n",
            "=================================================================\n",
            "Total params: 266,610\n",
            "Trainable params: 266,610\n",
            "Non-trainable params: 0\n",
            "_________________________________________________________________\n"
          ]
        }
      ]
    },
    {
      "cell_type": "code",
      "source": [
        "optimizer = keras.optimizers.SGD(learning_rate=0.01, momentum=0.9, nesterov=True)\n",
        "mc_model.compile(loss=\"sparse_categorical_crossentropy\", optimizer=optimizer, metrics=[\"accuracy\"])"
      ],
      "metadata": {
        "id": "F4L7AZuT1XvX"
      },
      "execution_count": 86,
      "outputs": []
    },
    {
      "cell_type": "code",
      "source": [
        "mc_model.set_weights(model.get_weights())"
      ],
      "metadata": {
        "id": "oJXcsUpv1ncs"
      },
      "execution_count": 87,
      "outputs": []
    },
    {
      "cell_type": "markdown",
      "source": [
        "\n",
        "\n",
        "Now we can use the model with MC Dropout:\n"
      ],
      "metadata": {
        "id": "pa6BquEF11Wh"
      }
    },
    {
      "cell_type": "code",
      "source": [
        "np.round(np.mean([mc_model.predict(X_test_scaled[:1]) for sample in range(100)], axis=0), 2)"
      ],
      "metadata": {
        "colab": {
          "base_uri": "https://localhost:8080/"
        },
        "id": "eyVO20Bt1soj",
        "outputId": "35e3b3f4-5882-4679-cd0b-6b311e506999"
      },
      "execution_count": 88,
      "outputs": [
        {
          "output_type": "execute_result",
          "data": {
            "text/plain": [
              "array([[0.  , 0.  , 0.  , 0.  , 0.  , 0.15, 0.  , 0.15, 0.  , 0.71]],\n",
              "      dtype=float32)"
            ]
          },
          "metadata": {},
          "execution_count": 88
        }
      ]
    },
    {
      "cell_type": "markdown",
      "source": [
        "## Max-Norm Regularization"
      ],
      "metadata": {
        "id": "PfSo6dkw4BSM"
      }
    },
    {
      "cell_type": "code",
      "source": [
        "layer = keras.layers.Dense(100, activation=\"selu\", kernel_initializer=\"lecun_normal\",\n",
        "                           kernel_constraint=keras.constraints.max_norm(1.))"
      ],
      "metadata": {
        "id": "hi-Y21sZ16Dc"
      },
      "execution_count": 89,
      "outputs": []
    },
    {
      "cell_type": "code",
      "source": [
        "MaxNormDense = partial(keras.layers.Dense,\n",
        "                       activation=\"selu\", kernel_initializer=\"lecun_normal\",\n",
        "                       kernel_constraint=keras.constraints.max_norm(1.))\n",
        "\n",
        "model = keras.models.Sequential([\n",
        "    keras.layers.Flatten(input_shape=[28, 28]),\n",
        "    MaxNormDense(300),\n",
        "    MaxNormDense(100),\n",
        "    keras.layers.Dense(10, activation=\"softmax\")\n",
        "])\n",
        "model.compile(loss=\"sparse_categorical_crossentropy\", optimizer=\"nadam\", metrics=[\"accuracy\"])\n",
        "n_epochs = 2\n",
        "history = model.fit(X_train_scaled, y_train, epochs=n_epochs,\n",
        "                    validation_data=(X_valid_scaled, y_valid))"
      ],
      "metadata": {
        "colab": {
          "base_uri": "https://localhost:8080/"
        },
        "id": "U6TQ_jXf4QFb",
        "outputId": "2d77bc6b-3ea8-4db8-e37b-195075086eec"
      },
      "execution_count": 90,
      "outputs": [
        {
          "output_type": "stream",
          "name": "stdout",
          "text": [
            "Epoch 1/2\n",
            "1719/1719 [==============================] - 16s 9ms/step - loss: 0.4804 - accuracy: 0.8331 - val_loss: 0.3847 - val_accuracy: 0.8632\n",
            "Epoch 2/2\n",
            "1719/1719 [==============================] - 14s 8ms/step - loss: 0.3554 - accuracy: 0.8712 - val_loss: 0.3754 - val_accuracy: 0.8660\n"
          ]
        }
      ]
    },
    {
      "cell_type": "markdown",
      "source": [
        "\n",
        "# Exercise no. 8. Deep Learning on CIFAR10\n",
        "## a.\n",
        "\n",
        "*Exercise: Build a DNN with 20 hidden layers of 100 neurons each (that's too many, but it's the point of this exercise). Use He initialization and the ELU activation function.*"
      ],
      "metadata": {
        "id": "n7kKpXw4Ar-n"
      }
    },
    {
      "cell_type": "code",
      "source": [
        "keras.backend.clear_session()\n",
        "tf.random.set_seed(42)\n",
        "np.random.seed(42)\n",
        "\n",
        "model = keras.models.Sequential()\n",
        "model.add(keras.layers.Flatten(input_shape=[32, 32, 3]))\n",
        "for _ in range(20):\n",
        "  model.add(keras.layers.Dense(100, activation=\"elu\", kernel_initializer=\"he_normal\"))"
      ],
      "metadata": {
        "id": "KFkCWrp-4jFZ"
      },
      "execution_count": 91,
      "outputs": []
    },
    {
      "cell_type": "markdown",
      "source": [
        "## b.\n",
        "\n",
        "*Exercise: Using Nadam optimization and early stopping, train the network on the CIFAR10 dataset. You can load it with `keras.datasets.cifar10.load_data()`. The dataset is composed of 60,000 32 × 32–pixel color images (50,000 for training, 10,000 for testing) with 10 classes, so you'll need a softmax output layer with 10 neurons. Remember to search for the right learning rate each time you change the model's architecture or hyperparameters.*\n",
        "\n",
        "Let's add the output layer to the model:"
      ],
      "metadata": {
        "id": "cnfyA-3C1hz0"
      }
    },
    {
      "cell_type": "code",
      "source": [
        "model.add(keras.layers.Dense(10, activation=\"softmax\"))"
      ],
      "metadata": {
        "id": "UHEtODdtBnFr"
      },
      "execution_count": 92,
      "outputs": []
    },
    {
      "cell_type": "markdown",
      "source": [
        "\n",
        "\n",
        "Let's use a Nadam optimizer with a learning rate of 5e-5."
      ],
      "metadata": {
        "id": "RdkrnDBW2jvl"
      }
    },
    {
      "cell_type": "code",
      "source": [
        "model.compile(loss=\"sparse_categorical_crossentropy\",\n",
        "              optimizer=keras.optimizers.Nadam(learning_rate=5e-5),\n",
        "              metrics=[\"accuracy\"])"
      ],
      "metadata": {
        "id": "RDWZ8zjI2Vk3"
      },
      "execution_count": 93,
      "outputs": []
    },
    {
      "cell_type": "markdown",
      "source": [
        "\n",
        "\n",
        "Let's load the CIFAR10 dataset. We also want to use early stopping, so we need a validation set. Let's use the first 5,000 images of the original training set as the validation set:\n"
      ],
      "metadata": {
        "id": "S_7f3xie23at"
      }
    },
    {
      "cell_type": "code",
      "source": [
        "(X_train_full, y_train_full), (X_test, y_test) = keras.datasets.cifar10.load_data()\n",
        "\n",
        "X_valid, X_train = X_train_full[:5000], X_train_full[5000:]\n",
        "y_valid, y_train = y_train_full[:5000], y_train_full[5000:]"
      ],
      "metadata": {
        "id": "mM53m83w2w_L"
      },
      "execution_count": 94,
      "outputs": []
    },
    {
      "cell_type": "markdown",
      "source": [
        "\n",
        "\n",
        "Now we can create the callbacks we need and train the model:\n"
      ],
      "metadata": {
        "id": "zRAKpaYz3ZV3"
      }
    },
    {
      "cell_type": "code",
      "source": [
        "early_stopping_cb = keras.callbacks.EarlyStopping(patience=20)\n",
        "model_checkpoint_cb = keras.callbacks.ModelCheckpoint(\"my_cifar10_model.h5\", save_best_only=True)\n",
        "run_index = 1 # increment every time you train the model\n",
        "run_logdir = os.path.join(os.curdir, \"my_cifar10_logs\", \"run_{:03d}\".format(run_index))\n",
        "tensorboard_cb = keras.callbacks.TensorBoard(run_logdir)\n",
        "callbacks = [early_stopping_cb, model_checkpoint_cb, tensorboard_cb]"
      ],
      "metadata": {
        "id": "lUcaHddS3VR_"
      },
      "execution_count": 95,
      "outputs": []
    },
    {
      "cell_type": "code",
      "source": [
        "%load_ext tensorboard"
      ],
      "metadata": {
        "id": "j5EhGYLA461T"
      },
      "execution_count": 96,
      "outputs": []
    },
    {
      "cell_type": "code",
      "source": [
        "%tensorboard --logdir=./my_cifar10_logs --port=6006"
      ],
      "metadata": {
        "colab": {
          "base_uri": "https://localhost:8080/",
          "height": 838
        },
        "id": "EIwshiDl4dgl",
        "outputId": "fcd66621-cbf7-4f77-9cd6-979a4e6bbba9"
      },
      "execution_count": 97,
      "outputs": [
        {
          "output_type": "display_data",
          "data": {
            "text/plain": [
              "Reusing TensorBoard on port 6006 (pid 325), started 1:42:05 ago. (Use '!kill 325' to kill it.)"
            ]
          },
          "metadata": {}
        },
        {
          "output_type": "display_data",
          "data": {
            "text/plain": [
              "<IPython.core.display.Javascript object>"
            ],
            "application/javascript": [
              "\n",
              "        (async () => {\n",
              "            const url = new URL(await google.colab.kernel.proxyPort(6006, {'cache': true}));\n",
              "            url.searchParams.set('tensorboardColab', 'true');\n",
              "            const iframe = document.createElement('iframe');\n",
              "            iframe.src = url;\n",
              "            iframe.setAttribute('width', '100%');\n",
              "            iframe.setAttribute('height', '800');\n",
              "            iframe.setAttribute('frameborder', 0);\n",
              "            document.body.appendChild(iframe);\n",
              "        })();\n",
              "    "
            ]
          },
          "metadata": {}
        }
      ]
    },
    {
      "cell_type": "code",
      "source": [
        "model.fit(X_train, y_train, epochs=100,\n",
        "          validation_data=(X_valid, y_valid),\n",
        "          callbacks=callbacks)"
      ],
      "metadata": {
        "colab": {
          "base_uri": "https://localhost:8080/"
        },
        "id": "2n4quhgn4pRz",
        "outputId": "a3db7b3d-e308-4258-d44b-3e866405f09f"
      },
      "execution_count": 98,
      "outputs": [
        {
          "output_type": "stream",
          "name": "stdout",
          "text": [
            "Epoch 1/100\n",
            "1407/1407 [==============================] - 26s 16ms/step - loss: 3.9882 - accuracy: 0.1750 - val_loss: 2.1041 - val_accuracy: 0.2368\n",
            "Epoch 2/100\n",
            "1407/1407 [==============================] - 20s 14ms/step - loss: 2.0415 - accuracy: 0.2551 - val_loss: 2.1067 - val_accuracy: 0.2406\n",
            "Epoch 3/100\n",
            "1407/1407 [==============================] - 20s 14ms/step - loss: 1.9307 - accuracy: 0.2952 - val_loss: 1.9628 - val_accuracy: 0.2804\n",
            "Epoch 4/100\n",
            "1407/1407 [==============================] - 20s 14ms/step - loss: 1.8526 - accuracy: 0.3225 - val_loss: 1.8137 - val_accuracy: 0.3412\n",
            "Epoch 5/100\n",
            "1407/1407 [==============================] - 20s 14ms/step - loss: 1.7864 - accuracy: 0.3496 - val_loss: 1.8074 - val_accuracy: 0.3374\n",
            "Epoch 6/100\n",
            "1407/1407 [==============================] - 20s 14ms/step - loss: 1.7375 - accuracy: 0.3695 - val_loss: 1.7179 - val_accuracy: 0.3798\n",
            "Epoch 7/100\n",
            "1407/1407 [==============================] - 20s 14ms/step - loss: 1.6983 - accuracy: 0.3864 - val_loss: 1.7286 - val_accuracy: 0.3726\n",
            "Epoch 8/100\n",
            "1407/1407 [==============================] - 20s 14ms/step - loss: 1.6603 - accuracy: 0.4007 - val_loss: 1.6506 - val_accuracy: 0.4078\n",
            "Epoch 9/100\n",
            "1407/1407 [==============================] - 20s 14ms/step - loss: 1.6316 - accuracy: 0.4096 - val_loss: 1.6569 - val_accuracy: 0.4046\n",
            "Epoch 10/100\n",
            "1407/1407 [==============================] - 20s 14ms/step - loss: 1.6065 - accuracy: 0.4223 - val_loss: 1.7023 - val_accuracy: 0.3868\n",
            "Epoch 11/100\n",
            "1407/1407 [==============================] - 20s 14ms/step - loss: 1.5855 - accuracy: 0.4306 - val_loss: 1.6611 - val_accuracy: 0.3980\n",
            "Epoch 12/100\n",
            "1407/1407 [==============================] - 20s 14ms/step - loss: 1.5656 - accuracy: 0.4377 - val_loss: 1.6067 - val_accuracy: 0.4190\n",
            "Epoch 13/100\n",
            "1407/1407 [==============================] - 20s 14ms/step - loss: 1.5413 - accuracy: 0.4455 - val_loss: 1.6562 - val_accuracy: 0.4110\n",
            "Epoch 14/100\n",
            "1407/1407 [==============================] - 20s 15ms/step - loss: 1.5322 - accuracy: 0.4483 - val_loss: 1.5883 - val_accuracy: 0.4214\n",
            "Epoch 15/100\n",
            "1407/1407 [==============================] - 21s 15ms/step - loss: 1.5091 - accuracy: 0.4580 - val_loss: 1.5885 - val_accuracy: 0.4298\n",
            "Epoch 16/100\n",
            "1407/1407 [==============================] - 21s 15ms/step - loss: 1.4935 - accuracy: 0.4623 - val_loss: 1.5593 - val_accuracy: 0.4472\n",
            "Epoch 17/100\n",
            "1407/1407 [==============================] - 20s 14ms/step - loss: 1.4792 - accuracy: 0.4717 - val_loss: 1.5737 - val_accuracy: 0.4378\n",
            "Epoch 18/100\n",
            "1407/1407 [==============================] - 20s 14ms/step - loss: 1.4613 - accuracy: 0.4767 - val_loss: 1.5810 - val_accuracy: 0.4404\n",
            "Epoch 19/100\n",
            "1407/1407 [==============================] - 20s 14ms/step - loss: 1.4520 - accuracy: 0.4804 - val_loss: 1.5534 - val_accuracy: 0.4460\n",
            "Epoch 20/100\n",
            "1407/1407 [==============================] - 20s 14ms/step - loss: 1.4363 - accuracy: 0.4848 - val_loss: 1.5357 - val_accuracy: 0.4544\n",
            "Epoch 21/100\n",
            "1407/1407 [==============================] - 21s 15ms/step - loss: 1.4258 - accuracy: 0.4874 - val_loss: 1.5442 - val_accuracy: 0.4524\n",
            "Epoch 22/100\n",
            "1407/1407 [==============================] - 21s 15ms/step - loss: 1.4152 - accuracy: 0.4930 - val_loss: 1.5188 - val_accuracy: 0.4626\n",
            "Epoch 23/100\n",
            "1407/1407 [==============================] - 21s 15ms/step - loss: 1.3996 - accuracy: 0.4997 - val_loss: 1.5674 - val_accuracy: 0.4394\n",
            "Epoch 24/100\n",
            "1407/1407 [==============================] - 21s 15ms/step - loss: 1.3938 - accuracy: 0.5016 - val_loss: 1.5256 - val_accuracy: 0.4552\n",
            "Epoch 25/100\n",
            "1407/1407 [==============================] - 21s 15ms/step - loss: 1.3789 - accuracy: 0.5072 - val_loss: 1.5248 - val_accuracy: 0.4550\n",
            "Epoch 26/100\n",
            "1407/1407 [==============================] - 21s 15ms/step - loss: 1.3699 - accuracy: 0.5113 - val_loss: 1.5305 - val_accuracy: 0.4514\n",
            "Epoch 27/100\n",
            "1407/1407 [==============================] - 21s 15ms/step - loss: 1.3598 - accuracy: 0.5120 - val_loss: 1.5222 - val_accuracy: 0.4642\n",
            "Epoch 28/100\n",
            "1407/1407 [==============================] - 20s 14ms/step - loss: 1.3496 - accuracy: 0.5160 - val_loss: 1.5164 - val_accuracy: 0.4666\n",
            "Epoch 29/100\n",
            "1407/1407 [==============================] - 20s 14ms/step - loss: 1.3418 - accuracy: 0.5204 - val_loss: 1.5185 - val_accuracy: 0.4638\n",
            "Epoch 30/100\n",
            "1407/1407 [==============================] - 20s 14ms/step - loss: 1.3286 - accuracy: 0.5244 - val_loss: 1.5454 - val_accuracy: 0.4704\n",
            "Epoch 31/100\n",
            "1407/1407 [==============================] - 20s 14ms/step - loss: 1.3190 - accuracy: 0.5288 - val_loss: 1.5797 - val_accuracy: 0.4522\n",
            "Epoch 32/100\n",
            "1407/1407 [==============================] - 23s 16ms/step - loss: 1.3107 - accuracy: 0.5326 - val_loss: 1.5320 - val_accuracy: 0.4688\n",
            "Epoch 33/100\n",
            "1407/1407 [==============================] - 20s 14ms/step - loss: 1.3044 - accuracy: 0.5330 - val_loss: 1.5524 - val_accuracy: 0.4720\n",
            "Epoch 34/100\n",
            "1407/1407 [==============================] - 20s 14ms/step - loss: 1.2925 - accuracy: 0.5391 - val_loss: 1.5319 - val_accuracy: 0.4722\n",
            "Epoch 35/100\n",
            "1407/1407 [==============================] - 20s 14ms/step - loss: 1.2876 - accuracy: 0.5370 - val_loss: 1.5447 - val_accuracy: 0.4684\n",
            "Epoch 36/100\n",
            "1407/1407 [==============================] - 20s 14ms/step - loss: 1.2774 - accuracy: 0.5444 - val_loss: 1.5484 - val_accuracy: 0.4640\n",
            "Epoch 37/100\n",
            "1407/1407 [==============================] - 20s 14ms/step - loss: 1.2688 - accuracy: 0.5447 - val_loss: 1.5203 - val_accuracy: 0.4718\n",
            "Epoch 38/100\n",
            "1407/1407 [==============================] - 20s 14ms/step - loss: 1.2615 - accuracy: 0.5480 - val_loss: 1.5360 - val_accuracy: 0.4702\n",
            "Epoch 39/100\n",
            "1407/1407 [==============================] - 20s 14ms/step - loss: 1.2557 - accuracy: 0.5496 - val_loss: 1.5498 - val_accuracy: 0.4676\n",
            "Epoch 40/100\n",
            "1407/1407 [==============================] - 20s 14ms/step - loss: 1.2465 - accuracy: 0.5550 - val_loss: 1.5285 - val_accuracy: 0.4712\n",
            "Epoch 41/100\n",
            "1407/1407 [==============================] - 20s 14ms/step - loss: 1.2390 - accuracy: 0.5552 - val_loss: 1.5795 - val_accuracy: 0.4520\n",
            "Epoch 42/100\n",
            "1407/1407 [==============================] - 20s 14ms/step - loss: 1.2286 - accuracy: 0.5607 - val_loss: 1.5237 - val_accuracy: 0.4768\n",
            "Epoch 43/100\n",
            "1407/1407 [==============================] - 20s 14ms/step - loss: 1.2242 - accuracy: 0.5611 - val_loss: 1.5424 - val_accuracy: 0.4710\n",
            "Epoch 44/100\n",
            "1407/1407 [==============================] - 21s 15ms/step - loss: 1.2198 - accuracy: 0.5634 - val_loss: 1.5500 - val_accuracy: 0.4664\n",
            "Epoch 45/100\n",
            "1407/1407 [==============================] - 21s 15ms/step - loss: 1.2075 - accuracy: 0.5669 - val_loss: 1.5484 - val_accuracy: 0.4726\n",
            "Epoch 46/100\n",
            "1407/1407 [==============================] - 21s 15ms/step - loss: 1.2019 - accuracy: 0.5705 - val_loss: 1.5154 - val_accuracy: 0.4812\n",
            "Epoch 47/100\n",
            "1407/1407 [==============================] - 21s 15ms/step - loss: 1.1923 - accuracy: 0.5748 - val_loss: 1.5459 - val_accuracy: 0.4728\n",
            "Epoch 48/100\n",
            "1407/1407 [==============================] - 20s 14ms/step - loss: 1.1880 - accuracy: 0.5740 - val_loss: 1.5457 - val_accuracy: 0.4702\n",
            "Epoch 49/100\n",
            "1407/1407 [==============================] - 20s 14ms/step - loss: 1.1804 - accuracy: 0.5762 - val_loss: 1.5475 - val_accuracy: 0.4690\n",
            "Epoch 50/100\n",
            "1407/1407 [==============================] - 21s 15ms/step - loss: 1.1692 - accuracy: 0.5796 - val_loss: 1.5445 - val_accuracy: 0.4804\n",
            "Epoch 51/100\n",
            "1407/1407 [==============================] - 21s 15ms/step - loss: 1.1658 - accuracy: 0.5810 - val_loss: 1.5780 - val_accuracy: 0.4668\n",
            "Epoch 52/100\n",
            "1407/1407 [==============================] - 21s 15ms/step - loss: 1.1569 - accuracy: 0.5847 - val_loss: 1.5531 - val_accuracy: 0.4758\n",
            "Epoch 53/100\n",
            "1407/1407 [==============================] - 21s 15ms/step - loss: 1.1497 - accuracy: 0.5874 - val_loss: 1.5415 - val_accuracy: 0.4746\n",
            "Epoch 54/100\n",
            "1407/1407 [==============================] - 21s 15ms/step - loss: 1.1456 - accuracy: 0.5904 - val_loss: 1.5599 - val_accuracy: 0.4838\n",
            "Epoch 55/100\n",
            "1407/1407 [==============================] - 21s 15ms/step - loss: 1.1392 - accuracy: 0.5942 - val_loss: 1.5720 - val_accuracy: 0.4724\n",
            "Epoch 56/100\n",
            "1407/1407 [==============================] - 20s 14ms/step - loss: 1.1327 - accuracy: 0.5936 - val_loss: 1.6125 - val_accuracy: 0.4532\n",
            "Epoch 57/100\n",
            "1407/1407 [==============================] - 20s 14ms/step - loss: 1.1255 - accuracy: 0.5980 - val_loss: 1.5511 - val_accuracy: 0.4820\n",
            "Epoch 58/100\n",
            "1407/1407 [==============================] - 20s 14ms/step - loss: 1.1205 - accuracy: 0.5978 - val_loss: 1.5838 - val_accuracy: 0.4586\n",
            "Epoch 59/100\n",
            "1407/1407 [==============================] - 20s 14ms/step - loss: 1.1135 - accuracy: 0.6021 - val_loss: 1.5641 - val_accuracy: 0.4840\n",
            "Epoch 60/100\n",
            "1407/1407 [==============================] - 20s 14ms/step - loss: 1.1067 - accuracy: 0.6039 - val_loss: 1.5795 - val_accuracy: 0.4744\n",
            "Epoch 61/100\n",
            "1407/1407 [==============================] - 22s 16ms/step - loss: 1.1034 - accuracy: 0.6055 - val_loss: 1.5880 - val_accuracy: 0.4652\n",
            "Epoch 62/100\n",
            "1407/1407 [==============================] - 24s 17ms/step - loss: 1.0935 - accuracy: 0.6088 - val_loss: 1.6225 - val_accuracy: 0.4656\n",
            "Epoch 63/100\n",
            "1407/1407 [==============================] - 21s 15ms/step - loss: 1.0910 - accuracy: 0.6090 - val_loss: 1.5543 - val_accuracy: 0.4766\n",
            "Epoch 64/100\n",
            "1407/1407 [==============================] - 21s 15ms/step - loss: 1.0812 - accuracy: 0.6134 - val_loss: 1.6184 - val_accuracy: 0.4666\n",
            "Epoch 65/100\n",
            "1407/1407 [==============================] - 21s 15ms/step - loss: 1.0783 - accuracy: 0.6127 - val_loss: 1.6179 - val_accuracy: 0.4786\n",
            "Epoch 66/100\n",
            "1407/1407 [==============================] - 21s 15ms/step - loss: 1.0692 - accuracy: 0.6194 - val_loss: 1.6204 - val_accuracy: 0.4686\n"
          ]
        },
        {
          "output_type": "execute_result",
          "data": {
            "text/plain": [
              "<keras.callbacks.History at 0x7fe4beda4e10>"
            ]
          },
          "metadata": {},
          "execution_count": 98
        }
      ]
    },
    {
      "cell_type": "code",
      "source": [
        "model = keras.models.load_model(\"my_cifar10_model.h5\")\n",
        "model.evaluate(X_valid, y_valid)"
      ],
      "metadata": {
        "colab": {
          "base_uri": "https://localhost:8080/"
        },
        "id": "Pltd-xie5LYp",
        "outputId": "981aadc5-1731-4277-e0b2-c35955aee95d"
      },
      "execution_count": 99,
      "outputs": [
        {
          "output_type": "stream",
          "name": "stdout",
          "text": [
            "157/157 [==============================] - 1s 4ms/step - loss: 1.5154 - accuracy: 0.4812\n"
          ]
        },
        {
          "output_type": "execute_result",
          "data": {
            "text/plain": [
              "[1.515366554260254, 0.4812000095844269]"
            ]
          },
          "metadata": {},
          "execution_count": 99
        }
      ]
    },
    {
      "cell_type": "markdown",
      "source": [
        "\n",
        "\n",
        "The model with the lowest validation loss gets about 48.1% accuracy on the validation set. It took 46 epochs to reach the lowest validation loss, with roughly 20 seconds per epoch on my laptop (without a GPU). Let's see if we can improve performance using Batch Normalization.\n"
      ],
      "metadata": {
        "id": "3KmvzF_58UOS"
      }
    },
    {
      "cell_type": "markdown",
      "source": [
        "\n",
        "## c.\n",
        "\n",
        "*Exercise: Now try adding Batch Normalization and compare the learning curves: Is it converging faster than before? Does it produce a better model? How does it affect training speed?*\n"
      ],
      "metadata": {
        "id": "r5qAKP0185MZ"
      }
    },
    {
      "cell_type": "code",
      "source": [
        "keras.backend.clear_session()\n",
        "tf.random.set_seed(42)\n",
        "np.random.seed(42)\n",
        "\n",
        "model = keras.models.Sequential()\n",
        "model.add(keras.layers.Flatten(input_shape=[32, 32, 3]))\n",
        "model.add(keras.layers.BatchNormalization())\n",
        "for _ in range(20):\n",
        "    model.add(keras.layers.Dense(100, kernel_initializer=\"he_normal\"))\n",
        "    model.add(keras.layers.BatchNormalization())\n",
        "    model.add(keras.layers.Activation(\"elu\"))\n",
        "model.add(keras.layers.Dense(10, activation=\"softmax\"))\n",
        "\n",
        "optimizer = keras.optimizers.Nadam(learning_rate=5e-4)\n",
        "model.compile(loss=\"sparse_categorical_crossentropy\",\n",
        "              optimizer=optimizer,\n",
        "              metrics=[\"accuracy\"])\n",
        "\n",
        "early_stopping_cb = keras.callbacks.EarlyStopping(patience=20)\n",
        "model_checkpoint_cb = keras.callbacks.ModelCheckpoint(\"my_cifar10_bn_model.h5\", save_best_only=True)\n",
        "run_index = 1 # increment every time you train the model\n",
        "run_logdir = os.path.join(os.curdir, \"my_cifar10_logs\", \"run_bn_{:03d}\".format(run_index))\n",
        "tensorboard_cb = keras.callbacks.TensorBoard(run_logdir)\n",
        "callbacks = [early_stopping_cb, model_checkpoint_cb, tensorboard_cb]\n",
        "\n",
        "model.fit(X_train, y_train, epochs=100,\n",
        "          validation_data=(X_valid, y_valid),\n",
        "          callbacks=callbacks)\n",
        "\n",
        "model = keras.models.load_model(\"my_cifar10_bn_model.h5\")\n",
        "model.evaluate(X_valid, y_valid)"
      ],
      "metadata": {
        "colab": {
          "base_uri": "https://localhost:8080/"
        },
        "id": "4yhJKA0H5VPW",
        "outputId": "ae1cfc6d-9bb3-4621-bc74-eab876aee237"
      },
      "execution_count": 100,
      "outputs": [
        {
          "output_type": "stream",
          "name": "stdout",
          "text": [
            "Epoch 1/100\n",
            "1407/1407 [==============================] - 42s 22ms/step - loss: 1.8413 - accuracy: 0.3402 - val_loss: 1.6842 - val_accuracy: 0.4020\n",
            "Epoch 2/100\n",
            "1407/1407 [==============================] - 31s 22ms/step - loss: 1.6668 - accuracy: 0.4061 - val_loss: 1.5830 - val_accuracy: 0.4306\n",
            "Epoch 3/100\n",
            "1407/1407 [==============================] - 30s 21ms/step - loss: 1.5999 - accuracy: 0.4310 - val_loss: 1.5545 - val_accuracy: 0.4324\n",
            "Epoch 4/100\n",
            "1407/1407 [==============================] - 30s 21ms/step - loss: 1.5471 - accuracy: 0.4491 - val_loss: 1.5217 - val_accuracy: 0.4604\n",
            "Epoch 5/100\n",
            "1407/1407 [==============================] - 30s 21ms/step - loss: 1.5047 - accuracy: 0.4664 - val_loss: 1.4417 - val_accuracy: 0.4806\n",
            "Epoch 6/100\n",
            "1407/1407 [==============================] - 30s 21ms/step - loss: 1.4668 - accuracy: 0.4791 - val_loss: 1.4049 - val_accuracy: 0.4938\n",
            "Epoch 7/100\n",
            "1407/1407 [==============================] - 31s 22ms/step - loss: 1.4333 - accuracy: 0.4912 - val_loss: 1.4180 - val_accuracy: 0.4908\n",
            "Epoch 8/100\n",
            "1407/1407 [==============================] - 30s 22ms/step - loss: 1.4051 - accuracy: 0.5012 - val_loss: 1.3936 - val_accuracy: 0.5064\n",
            "Epoch 9/100\n",
            "1407/1407 [==============================] - 30s 21ms/step - loss: 1.3804 - accuracy: 0.5121 - val_loss: 1.3826 - val_accuracy: 0.5060\n",
            "Epoch 10/100\n",
            "1407/1407 [==============================] - 30s 21ms/step - loss: 1.3613 - accuracy: 0.5179 - val_loss: 1.3509 - val_accuracy: 0.5106\n",
            "Epoch 11/100\n",
            "1407/1407 [==============================] - 30s 21ms/step - loss: 1.3393 - accuracy: 0.5240 - val_loss: 1.3554 - val_accuracy: 0.5200\n",
            "Epoch 12/100\n",
            "1407/1407 [==============================] - 30s 21ms/step - loss: 1.3156 - accuracy: 0.5361 - val_loss: 1.3814 - val_accuracy: 0.5042\n",
            "Epoch 13/100\n",
            "1407/1407 [==============================] - 30s 22ms/step - loss: 1.2992 - accuracy: 0.5419 - val_loss: 1.3803 - val_accuracy: 0.5162\n",
            "Epoch 14/100\n",
            "1407/1407 [==============================] - 29s 21ms/step - loss: 1.2778 - accuracy: 0.5476 - val_loss: 1.3518 - val_accuracy: 0.5242\n",
            "Epoch 15/100\n",
            "1407/1407 [==============================] - 29s 21ms/step - loss: 1.2620 - accuracy: 0.5520 - val_loss: 1.3788 - val_accuracy: 0.5126\n",
            "Epoch 16/100\n",
            "1407/1407 [==============================] - 29s 21ms/step - loss: 1.2490 - accuracy: 0.5577 - val_loss: 1.3750 - val_accuracy: 0.5172\n",
            "Epoch 17/100\n",
            "1407/1407 [==============================] - 29s 21ms/step - loss: 1.2290 - accuracy: 0.5638 - val_loss: 1.3213 - val_accuracy: 0.5354\n",
            "Epoch 18/100\n",
            "1407/1407 [==============================] - 31s 22ms/step - loss: 1.2092 - accuracy: 0.5708 - val_loss: 1.3473 - val_accuracy: 0.5226\n",
            "Epoch 19/100\n",
            "1407/1407 [==============================] - 31s 22ms/step - loss: 1.1964 - accuracy: 0.5768 - val_loss: 1.3074 - val_accuracy: 0.5362\n",
            "Epoch 20/100\n",
            "1407/1407 [==============================] - 29s 21ms/step - loss: 1.1856 - accuracy: 0.5848 - val_loss: 1.3709 - val_accuracy: 0.5238\n",
            "Epoch 21/100\n",
            "1407/1407 [==============================] - 30s 22ms/step - loss: 1.1760 - accuracy: 0.5834 - val_loss: 1.3682 - val_accuracy: 0.5212\n",
            "Epoch 22/100\n",
            "1407/1407 [==============================] - 30s 22ms/step - loss: 1.1572 - accuracy: 0.5908 - val_loss: 1.3280 - val_accuracy: 0.5352\n",
            "Epoch 23/100\n",
            "1407/1407 [==============================] - 30s 21ms/step - loss: 1.1485 - accuracy: 0.5955 - val_loss: 1.3112 - val_accuracy: 0.5474\n",
            "Epoch 24/100\n",
            "1407/1407 [==============================] - 30s 21ms/step - loss: 1.1340 - accuracy: 0.5997 - val_loss: 1.3096 - val_accuracy: 0.5394\n",
            "Epoch 25/100\n",
            "1407/1407 [==============================] - 30s 21ms/step - loss: 1.1194 - accuracy: 0.6072 - val_loss: 1.3278 - val_accuracy: 0.5388\n",
            "Epoch 26/100\n",
            "1407/1407 [==============================] - 30s 22ms/step - loss: 1.1083 - accuracy: 0.6094 - val_loss: 1.3407 - val_accuracy: 0.5320\n",
            "Epoch 27/100\n",
            "1407/1407 [==============================] - 30s 21ms/step - loss: 1.0960 - accuracy: 0.6131 - val_loss: 1.3573 - val_accuracy: 0.5358\n",
            "Epoch 28/100\n",
            "1407/1407 [==============================] - 30s 21ms/step - loss: 1.0954 - accuracy: 0.6154 - val_loss: 1.3614 - val_accuracy: 0.5240\n",
            "Epoch 29/100\n",
            "1407/1407 [==============================] - 30s 22ms/step - loss: 1.0812 - accuracy: 0.6182 - val_loss: 1.3321 - val_accuracy: 0.5356\n",
            "Epoch 30/100\n",
            "1407/1407 [==============================] - 30s 21ms/step - loss: 1.0671 - accuracy: 0.6227 - val_loss: 1.3500 - val_accuracy: 0.5408\n",
            "Epoch 31/100\n",
            "1407/1407 [==============================] - 31s 22ms/step - loss: 1.0575 - accuracy: 0.6270 - val_loss: 1.3512 - val_accuracy: 0.5358\n",
            "Epoch 32/100\n",
            "1407/1407 [==============================] - 30s 22ms/step - loss: 1.0462 - accuracy: 0.6308 - val_loss: 1.3639 - val_accuracy: 0.5430\n",
            "Epoch 33/100\n",
            "1407/1407 [==============================] - 30s 22ms/step - loss: 1.0349 - accuracy: 0.6313 - val_loss: 1.3471 - val_accuracy: 0.5454\n",
            "Epoch 34/100\n",
            "1407/1407 [==============================] - 31s 22ms/step - loss: 1.0233 - accuracy: 0.6372 - val_loss: 1.3447 - val_accuracy: 0.5508\n",
            "Epoch 35/100\n",
            "1407/1407 [==============================] - 31s 22ms/step - loss: 1.0201 - accuracy: 0.6377 - val_loss: 1.3361 - val_accuracy: 0.5474\n",
            "Epoch 36/100\n",
            "1407/1407 [==============================] - 31s 22ms/step - loss: 1.0106 - accuracy: 0.6428 - val_loss: 1.3585 - val_accuracy: 0.5406\n",
            "Epoch 37/100\n",
            "1407/1407 [==============================] - 31s 22ms/step - loss: 0.9935 - accuracy: 0.6511 - val_loss: 1.3698 - val_accuracy: 0.5372\n",
            "Epoch 38/100\n",
            "1407/1407 [==============================] - 31s 22ms/step - loss: 0.9934 - accuracy: 0.6516 - val_loss: 1.3726 - val_accuracy: 0.5422\n",
            "Epoch 39/100\n",
            "1407/1407 [==============================] - 31s 22ms/step - loss: 0.9754 - accuracy: 0.6555 - val_loss: 1.3589 - val_accuracy: 0.5476\n",
            "157/157 [==============================] - 1s 5ms/step - loss: 1.3074 - accuracy: 0.5362\n"
          ]
        },
        {
          "output_type": "execute_result",
          "data": {
            "text/plain": [
              "[1.3074175119400024, 0.5361999869346619]"
            ]
          },
          "metadata": {},
          "execution_count": 100
        }
      ]
    },
    {
      "cell_type": "markdown",
      "source": [
        "\n",
        "## d.\n",
        "\n",
        "*Exercise: Try replacing Batch Normalization with SELU, and make the necessary adjustements to ensure the network self-normalizes (i.e., standardize the input features, use LeCun normal initialization, make sure the DNN contains only a sequence of dense layers, etc.).*\n"
      ],
      "metadata": {
        "id": "90KSFyKe-dt5"
      }
    },
    {
      "cell_type": "code",
      "source": [
        "keras.backend.clear_session()\n",
        "tf.random.set_seed(42)\n",
        "np.random.seed(42)\n",
        "\n",
        "model = keras.models.Sequential()\n",
        "model.add(keras.layers.Flatten(input_shape=[32, 32, 3]))\n",
        "for _ in range(20):\n",
        "    model.add(keras.layers.Dense(100,\n",
        "                                 kernel_initializer=\"lecun_normal\",\n",
        "                                 activation=\"selu\"))\n",
        "model.add(keras.layers.Dense(10, activation=\"softmax\"))\n",
        "\n",
        "optimizer = keras.optimizers.Nadam(learning_rate=7e-4)\n",
        "model.compile(loss=\"sparse_categorical_crossentropy\",\n",
        "              optimizer=optimizer,\n",
        "              metrics=[\"accuracy\"])\n",
        "\n",
        "early_stopping_cb = keras.callbacks.EarlyStopping(patience=20)\n",
        "model_checkpoint_cb = keras.callbacks.ModelCheckpoint(\"my_cifar10_selu_model.h5\", save_best_only=True)\n",
        "run_index = 1 # increment every time you train the model\n",
        "run_logdir = os.path.join(os.curdir, \"my_cifar10_logs\", \"run_selu_{:03d}\".format(run_index))\n",
        "tensorboard_cb = keras.callbacks.TensorBoard(run_logdir)\n",
        "callbacks = [early_stopping_cb, model_checkpoint_cb, tensorboard_cb]\n",
        "\n",
        "X_means = X_train.mean(axis=0)\n",
        "X_stds = X_train.std(axis=0)\n",
        "X_train_scaled = (X_train - X_means) / X_stds\n",
        "X_valid_scaled = (X_valid - X_means) / X_stds\n",
        "X_test_scaled = (X_test - X_means) / X_stds\n",
        "\n",
        "model.fit(X_train_scaled, y_train, epochs=100,\n",
        "          validation_data=(X_valid_scaled, y_valid),\n",
        "          callbacks=callbacks)\n",
        "\n",
        "model = keras.models.load_model(\"my_cifar10_selu_model.h5\")\n",
        "model.evaluate(X_valid_scaled, y_valid)"
      ],
      "metadata": {
        "colab": {
          "base_uri": "https://localhost:8080/"
        },
        "id": "Src7FUp_97TU",
        "outputId": "612f4a62-d120-42eb-a5c6-0d5dc98f9b2b"
      },
      "execution_count": 101,
      "outputs": [
        {
          "output_type": "stream",
          "name": "stdout",
          "text": [
            "Epoch 1/100\n",
            "1407/1407 [==============================] - 25s 15ms/step - loss: 1.9176 - accuracy: 0.3125 - val_loss: 1.8557 - val_accuracy: 0.3402\n",
            "Epoch 2/100\n",
            "1407/1407 [==============================] - 20s 14ms/step - loss: 1.7046 - accuracy: 0.3943 - val_loss: 1.7404 - val_accuracy: 0.3784\n",
            "Epoch 3/100\n",
            "1407/1407 [==============================] - 20s 14ms/step - loss: 1.6085 - accuracy: 0.4348 - val_loss: 1.7106 - val_accuracy: 0.3906\n",
            "Epoch 4/100\n",
            "1407/1407 [==============================] - 20s 14ms/step - loss: 1.5486 - accuracy: 0.4558 - val_loss: 1.6228 - val_accuracy: 0.4376\n",
            "Epoch 5/100\n",
            "1407/1407 [==============================] - 20s 15ms/step - loss: 1.4902 - accuracy: 0.4764 - val_loss: 1.6360 - val_accuracy: 0.4288\n",
            "Epoch 6/100\n",
            "1407/1407 [==============================] - 21s 15ms/step - loss: 1.4453 - accuracy: 0.4922 - val_loss: 1.5338 - val_accuracy: 0.4578\n",
            "Epoch 7/100\n",
            "1407/1407 [==============================] - 21s 15ms/step - loss: 1.4072 - accuracy: 0.5069 - val_loss: 1.5670 - val_accuracy: 0.4546\n",
            "Epoch 8/100\n",
            "1407/1407 [==============================] - 21s 15ms/step - loss: 1.3681 - accuracy: 0.5220 - val_loss: 1.4677 - val_accuracy: 0.4924\n",
            "Epoch 9/100\n",
            "1407/1407 [==============================] - 20s 14ms/step - loss: 1.3350 - accuracy: 0.5354 - val_loss: 1.4917 - val_accuracy: 0.4802\n",
            "Epoch 10/100\n",
            "1407/1407 [==============================] - 20s 14ms/step - loss: 1.2991 - accuracy: 0.5463 - val_loss: 1.4928 - val_accuracy: 0.4892\n",
            "Epoch 11/100\n",
            "1407/1407 [==============================] - 20s 14ms/step - loss: 1.2714 - accuracy: 0.5580 - val_loss: 1.5010 - val_accuracy: 0.4952\n",
            "Epoch 12/100\n",
            "1407/1407 [==============================] - 20s 14ms/step - loss: 1.2473 - accuracy: 0.5666 - val_loss: 1.4967 - val_accuracy: 0.4866\n",
            "Epoch 13/100\n",
            "1407/1407 [==============================] - 20s 14ms/step - loss: 1.2225 - accuracy: 0.5737 - val_loss: 1.5072 - val_accuracy: 0.4948\n",
            "Epoch 14/100\n",
            "1407/1407 [==============================] - 20s 14ms/step - loss: 1.1953 - accuracy: 0.5877 - val_loss: 1.4629 - val_accuracy: 0.4978\n",
            "Epoch 15/100\n",
            "1407/1407 [==============================] - 20s 14ms/step - loss: 1.1714 - accuracy: 0.5960 - val_loss: 1.4936 - val_accuracy: 0.5032\n",
            "Epoch 16/100\n",
            "1407/1407 [==============================] - 20s 14ms/step - loss: 1.1453 - accuracy: 0.6051 - val_loss: 1.5237 - val_accuracy: 0.4946\n",
            "Epoch 17/100\n",
            "1407/1407 [==============================] - 20s 14ms/step - loss: 1.1255 - accuracy: 0.6100 - val_loss: 1.5271 - val_accuracy: 0.4992\n",
            "Epoch 18/100\n",
            "1407/1407 [==============================] - 20s 14ms/step - loss: 1.1052 - accuracy: 0.6193 - val_loss: 1.5183 - val_accuracy: 0.5020\n",
            "Epoch 19/100\n",
            "1407/1407 [==============================] - 20s 14ms/step - loss: 1.0896 - accuracy: 0.6230 - val_loss: 1.5875 - val_accuracy: 0.4932\n",
            "Epoch 20/100\n",
            "1407/1407 [==============================] - 21s 15ms/step - loss: 1.0667 - accuracy: 0.6302 - val_loss: 1.5335 - val_accuracy: 0.5026\n",
            "Epoch 21/100\n",
            "1407/1407 [==============================] - 20s 14ms/step - loss: 1.0431 - accuracy: 0.6399 - val_loss: 1.5707 - val_accuracy: 0.5082\n",
            "Epoch 22/100\n",
            "1407/1407 [==============================] - 20s 14ms/step - loss: 1.0252 - accuracy: 0.6444 - val_loss: 1.5599 - val_accuracy: 0.4992\n",
            "Epoch 23/100\n",
            "1407/1407 [==============================] - 20s 14ms/step - loss: 1.0128 - accuracy: 0.6524 - val_loss: 1.5523 - val_accuracy: 0.5090\n",
            "Epoch 24/100\n",
            "1407/1407 [==============================] - 20s 14ms/step - loss: 0.9892 - accuracy: 0.6612 - val_loss: 1.5586 - val_accuracy: 0.5060\n",
            "Epoch 25/100\n",
            "1407/1407 [==============================] - 23s 16ms/step - loss: 2.4942 - accuracy: 0.6091 - val_loss: 1.5552 - val_accuracy: 0.4902\n",
            "Epoch 26/100\n",
            "1407/1407 [==============================] - 20s 15ms/step - loss: 1.0787 - accuracy: 0.6244 - val_loss: 1.5474 - val_accuracy: 0.4908\n",
            "Epoch 27/100\n",
            "1407/1407 [==============================] - 20s 15ms/step - loss: 1.0159 - accuracy: 0.6467 - val_loss: 1.5210 - val_accuracy: 0.5032\n",
            "Epoch 28/100\n",
            "1407/1407 [==============================] - 21s 15ms/step - loss: 0.9740 - accuracy: 0.6641 - val_loss: 1.5643 - val_accuracy: 0.4964\n",
            "Epoch 29/100\n",
            "1407/1407 [==============================] - 20s 14ms/step - loss: 0.9427 - accuracy: 0.6729 - val_loss: 1.6226 - val_accuracy: 0.5084\n",
            "Epoch 30/100\n",
            "1407/1407 [==============================] - 20s 14ms/step - loss: 0.9787 - accuracy: 0.6614 - val_loss: 1.5922 - val_accuracy: 0.5040\n",
            "Epoch 31/100\n",
            "1407/1407 [==============================] - 20s 15ms/step - loss: 0.9193 - accuracy: 0.6829 - val_loss: 1.6214 - val_accuracy: 0.5124\n",
            "Epoch 32/100\n",
            "1407/1407 [==============================] - 20s 14ms/step - loss: 0.8939 - accuracy: 0.6938 - val_loss: 1.6711 - val_accuracy: 0.5088\n",
            "Epoch 33/100\n",
            "1407/1407 [==============================] - 20s 14ms/step - loss: 0.9747 - accuracy: 0.6668 - val_loss: 1.6003 - val_accuracy: 0.5060\n",
            "Epoch 34/100\n",
            "1407/1407 [==============================] - 21s 15ms/step - loss: 0.9300 - accuracy: 0.6815 - val_loss: 1.5894 - val_accuracy: 0.5032\n",
            "157/157 [==============================] - 1s 4ms/step - loss: 1.4629 - accuracy: 0.4978\n"
          ]
        },
        {
          "output_type": "execute_result",
          "data": {
            "text/plain": [
              "[1.4628735780715942, 0.49779999256134033]"
            ]
          },
          "metadata": {},
          "execution_count": 101
        }
      ]
    },
    {
      "cell_type": "code",
      "source": [
        "model = keras.models.load_model(\"my_cifar10_selu_model.h5\")\n",
        "model.evaluate(X_valid_scaled, y_valid)"
      ],
      "metadata": {
        "colab": {
          "base_uri": "https://localhost:8080/"
        },
        "id": "F1z9iQlq-wwl",
        "outputId": "7e31076f-52e1-4dde-c6fe-61e82575aa91"
      },
      "execution_count": 102,
      "outputs": [
        {
          "output_type": "stream",
          "name": "stdout",
          "text": [
            "157/157 [==============================] - 1s 4ms/step - loss: 1.4629 - accuracy: 0.4978\n"
          ]
        },
        {
          "output_type": "execute_result",
          "data": {
            "text/plain": [
              "[1.4628735780715942, 0.49779999256134033]"
            ]
          },
          "metadata": {},
          "execution_count": 102
        }
      ]
    },
    {
      "cell_type": "markdown",
      "source": [
        "\n",
        "\n",
        "We get 49.7% accuracy, which is much better than the original model (48.1%), and not as good as the model using batch normalization (53.6%). However, convergence was almost as fast as with the BN model, plus each epoch took only 20 seconds. So it's by far the fastest model to train so far.\n"
      ],
      "metadata": {
        "id": "ZeEts3dZ_Pcm"
      }
    },
    {
      "cell_type": "markdown",
      "source": [
        "\n",
        "## e.\n",
        "\n",
        "*Exercise: Try regularizing the model with alpha dropout. Then, without retraining your model, see if you can achieve better accuracy using MC Dropout.*\n"
      ],
      "metadata": {
        "id": "Ec3Ba6-k_fQ_"
      }
    },
    {
      "cell_type": "code",
      "source": [
        "keras.backend.clear_session()\n",
        "tf.random.set_seed(42)\n",
        "np.random.seed(42)\n",
        "\n",
        "model = keras.models.Sequential()\n",
        "model.add(keras.layers.Flatten(input_shape=[32, 32, 3]))\n",
        "for _ in range(20):\n",
        "    model.add(keras.layers.Dense(100,\n",
        "                                 kernel_initializer=\"lecun_normal\",\n",
        "                                 activation=\"selu\"))\n",
        "\n",
        "model.add(keras.layers.AlphaDropout(rate=0.1))\n",
        "model.add(keras.layers.Dense(10, activation=\"softmax\"))\n",
        "\n",
        "optimizer = keras.optimizers.Nadam(learning_rate=5e-4)\n",
        "model.compile(loss=\"sparse_categorical_crossentropy\",\n",
        "              optimizer=optimizer,\n",
        "              metrics=[\"accuracy\"])\n",
        "\n",
        "early_stopping_cb = keras.callbacks.EarlyStopping(patience=20)\n",
        "model_checkpoint_cb = keras.callbacks.ModelCheckpoint(\"my_cifar10_alpha_dropout_model.h5\", save_best_only=True)\n",
        "run_index = 1 # increment every time you train the model\n",
        "run_logdir = os.path.join(os.curdir, \"my_cifar10_logs\", \"run_alpha_dropout_{:03d}\".format(run_index))\n",
        "tensorboard_cb = keras.callbacks.TensorBoard(run_logdir)\n",
        "callbacks = [early_stopping_cb, model_checkpoint_cb, tensorboard_cb]\n",
        "\n",
        "X_means = X_train.mean(axis=0)\n",
        "X_stds = X_train.std(axis=0)\n",
        "X_train_scaled = (X_train - X_means) / X_stds\n",
        "X_valid_scaled = (X_valid - X_means) / X_stds\n",
        "X_test_scaled = (X_test - X_means) / X_stds\n",
        "\n",
        "model.fit(X_train_scaled, y_train, epochs=100,\n",
        "          validation_data=(X_valid_scaled, y_valid),\n",
        "          callbacks=callbacks)\n",
        "\n",
        "model = keras.models.load_model(\"my_cifar10_alpha_dropout_model.h5\")\n",
        "model.evaluate(X_valid_scaled, y_valid)"
      ],
      "metadata": {
        "colab": {
          "base_uri": "https://localhost:8080/"
        },
        "id": "4VjE5Wew-4nx",
        "outputId": "7a23c898-1e67-4f0b-894a-0e8701270420"
      },
      "execution_count": 103,
      "outputs": [
        {
          "output_type": "stream",
          "name": "stdout",
          "text": [
            "Epoch 1/100\n",
            "1407/1407 [==============================] - 25s 15ms/step - loss: 1.9022 - accuracy: 0.3237 - val_loss: 1.7034 - val_accuracy: 0.3894\n",
            "Epoch 2/100\n",
            "1407/1407 [==============================] - 20s 14ms/step - loss: 1.6717 - accuracy: 0.4070 - val_loss: 1.7202 - val_accuracy: 0.4034\n",
            "Epoch 3/100\n",
            "1407/1407 [==============================] - 20s 14ms/step - loss: 1.5773 - accuracy: 0.4488 - val_loss: 1.6244 - val_accuracy: 0.4290\n",
            "Epoch 4/100\n",
            "1407/1407 [==============================] - 20s 14ms/step - loss: 1.5122 - accuracy: 0.4718 - val_loss: 1.5603 - val_accuracy: 0.4674\n",
            "Epoch 5/100\n",
            "1407/1407 [==============================] - 20s 14ms/step - loss: 1.4565 - accuracy: 0.4900 - val_loss: 1.6625 - val_accuracy: 0.4594\n",
            "Epoch 6/100\n",
            "1407/1407 [==============================] - 20s 14ms/step - loss: 1.4054 - accuracy: 0.5113 - val_loss: 1.5159 - val_accuracy: 0.4774\n",
            "Epoch 7/100\n",
            "1407/1407 [==============================] - 20s 14ms/step - loss: 1.3612 - accuracy: 0.5250 - val_loss: 1.6035 - val_accuracy: 0.4640\n",
            "Epoch 8/100\n",
            "1407/1407 [==============================] - 20s 14ms/step - loss: 1.3255 - accuracy: 0.5369 - val_loss: 1.4959 - val_accuracy: 0.4836\n",
            "Epoch 9/100\n",
            "1407/1407 [==============================] - 20s 14ms/step - loss: 1.2911 - accuracy: 0.5531 - val_loss: 1.5138 - val_accuracy: 0.4940\n",
            "Epoch 10/100\n",
            "1407/1407 [==============================] - 20s 14ms/step - loss: 1.2583 - accuracy: 0.5612 - val_loss: 1.5507 - val_accuracy: 0.4918\n",
            "Epoch 11/100\n",
            "1407/1407 [==============================] - 21s 15ms/step - loss: 1.2213 - accuracy: 0.5752 - val_loss: 1.5625 - val_accuracy: 0.4962\n",
            "Epoch 12/100\n",
            "1407/1407 [==============================] - 20s 14ms/step - loss: 1.1886 - accuracy: 0.5883 - val_loss: 1.5253 - val_accuracy: 0.4940\n",
            "Epoch 13/100\n",
            "1407/1407 [==============================] - 20s 14ms/step - loss: 1.1683 - accuracy: 0.5970 - val_loss: 1.5345 - val_accuracy: 0.5118\n",
            "Epoch 14/100\n",
            "1407/1407 [==============================] - 20s 14ms/step - loss: 1.1445 - accuracy: 0.6039 - val_loss: 1.6061 - val_accuracy: 0.4962\n",
            "Epoch 15/100\n",
            "1407/1407 [==============================] - 20s 14ms/step - loss: 1.1128 - accuracy: 0.6152 - val_loss: 1.5903 - val_accuracy: 0.5048\n",
            "Epoch 16/100\n",
            "1407/1407 [==============================] - 20s 14ms/step - loss: 1.0859 - accuracy: 0.6272 - val_loss: 1.5862 - val_accuracy: 0.5058\n",
            "Epoch 17/100\n",
            "1407/1407 [==============================] - 20s 14ms/step - loss: 1.0658 - accuracy: 0.6334 - val_loss: 1.6401 - val_accuracy: 0.5092\n",
            "Epoch 18/100\n",
            "1407/1407 [==============================] - 20s 14ms/step - loss: 1.0486 - accuracy: 0.6408 - val_loss: 1.6306 - val_accuracy: 0.4956\n",
            "Epoch 19/100\n",
            "1407/1407 [==============================] - 20s 14ms/step - loss: 1.0193 - accuracy: 0.6513 - val_loss: 1.7016 - val_accuracy: 0.5128\n",
            "Epoch 20/100\n",
            "1407/1407 [==============================] - 20s 14ms/step - loss: 1.0016 - accuracy: 0.6578 - val_loss: 1.6018 - val_accuracy: 0.5130\n",
            "Epoch 21/100\n",
            "1407/1407 [==============================] - 23s 16ms/step - loss: 0.9805 - accuracy: 0.6640 - val_loss: 1.6856 - val_accuracy: 0.5042\n",
            "Epoch 22/100\n",
            "1407/1407 [==============================] - 20s 14ms/step - loss: 0.9634 - accuracy: 0.6706 - val_loss: 1.6940 - val_accuracy: 0.5024\n",
            "Epoch 23/100\n",
            "1407/1407 [==============================] - 20s 14ms/step - loss: 0.9370 - accuracy: 0.6818 - val_loss: 1.7505 - val_accuracy: 0.4918\n",
            "Epoch 24/100\n",
            "1407/1407 [==============================] - 20s 14ms/step - loss: 0.9242 - accuracy: 0.6871 - val_loss: 1.6598 - val_accuracy: 0.5168\n",
            "Epoch 25/100\n",
            "1407/1407 [==============================] - 20s 14ms/step - loss: 0.9123 - accuracy: 0.6906 - val_loss: 1.6851 - val_accuracy: 0.5106\n",
            "Epoch 26/100\n",
            "1407/1407 [==============================] - 21s 15ms/step - loss: 0.8867 - accuracy: 0.6994 - val_loss: 1.7238 - val_accuracy: 0.5038\n",
            "Epoch 27/100\n",
            "1407/1407 [==============================] - 20s 14ms/step - loss: 0.8755 - accuracy: 0.7024 - val_loss: 1.8202 - val_accuracy: 0.5070\n",
            "Epoch 28/100\n",
            "1407/1407 [==============================] - 21s 15ms/step - loss: 0.8621 - accuracy: 0.7092 - val_loss: 1.7774 - val_accuracy: 0.5072\n",
            "157/157 [==============================] - 1s 4ms/step - loss: 1.4959 - accuracy: 0.4836\n"
          ]
        },
        {
          "output_type": "execute_result",
          "data": {
            "text/plain": [
              "[1.4959455728530884, 0.483599990606308]"
            ]
          },
          "metadata": {},
          "execution_count": 103
        }
      ]
    },
    {
      "cell_type": "markdown",
      "source": [
        "The model reaches 48.4% accuracy on the validation set. That's very slightly better than without dropout (48.1%). With an extensive hyperparameter search, it might be possible to do better, but probably not much better in this case.\n",
        "\n",
        "Let's use MC Dropout now. We will need the MCAlphaDropout class we used earlier, so let's just copy it here for convenience:"
      ],
      "metadata": {
        "id": "gYT4r-5kARet"
      }
    },
    {
      "cell_type": "code",
      "source": [
        "class MCAlphaDropout(keras.layers.AlphaDropout):\n",
        "    def call(self, inputs):\n",
        "        return super().call(inputs, training=True)"
      ],
      "metadata": {
        "id": "GomItae7__Z1"
      },
      "execution_count": 104,
      "outputs": []
    },
    {
      "cell_type": "code",
      "source": [
        "mc_model = keras.models.Sequential([\n",
        "    MCAlphaDropout(layer.rate) if isinstance(layer, keras.layers.AlphaDropout) else layer\n",
        "    for layer in model.layers\n",
        "])"
      ],
      "metadata": {
        "id": "AVnCVmEbA4MS"
      },
      "execution_count": 105,
      "outputs": []
    },
    {
      "cell_type": "markdown",
      "source": [
        "Then let's add a couple utility functions. The first will run the model many times (10 by default) and it will return the mean predicted class probabilities. The second will use these mean probabilities to predict the most likely class for each instance:"
      ],
      "metadata": {
        "id": "ItsTTEtXBw3J"
      }
    },
    {
      "cell_type": "code",
      "source": [
        "def mc_dropout_predict_probas(mc_model, X, n_samples=10):\n",
        "    Y_probas = [mc_model.predict(X) for sample in range(n_samples)]\n",
        "    return np.mean(Y_probas, axis=0)\n",
        "\n",
        "def mc_dropout_predict_classes(mc_model, X, n_samples=10):\n",
        "    Y_probas = mc_dropout_predict_probas(mc_model, X, n_samples)\n",
        "    return np.argmax(Y_probas, axis=1)"
      ],
      "metadata": {
        "id": "g0b7cEZqBq4X"
      },
      "execution_count": 106,
      "outputs": []
    },
    {
      "cell_type": "markdown",
      "source": [
        "\n",
        "\n",
        "Now let's make predictions for all the instances in the validation set, and compute the accuracy:\n"
      ],
      "metadata": {
        "id": "HF-UYC52CaBN"
      }
    },
    {
      "cell_type": "code",
      "source": [
        "keras.backend.clear_session()\n",
        "tf.random.set_seed(42)\n",
        "np.random.seed(42)\n",
        "\n",
        "y_pred = mc_dropout_predict_classes(mc_model, X_valid_scaled)\n",
        "accuracy = np.mean(y_pred == y_valid[:, 0])\n",
        "accuracy"
      ],
      "metadata": {
        "colab": {
          "base_uri": "https://localhost:8080/"
        },
        "id": "6jg_18-bCVC1",
        "outputId": "d8a73bd2-54cf-4fa9-b841-e8f95373adef"
      },
      "execution_count": 107,
      "outputs": [
        {
          "output_type": "execute_result",
          "data": {
            "text/plain": [
              "0.4836"
            ]
          },
          "metadata": {},
          "execution_count": 107
        }
      ]
    },
    {
      "cell_type": "markdown",
      "source": [
        "\n",
        "\n",
        "We get no accuracy improvement in this case (we're still at 48.4% accuracy).\n",
        "\n",
        "So the best model we got in this exercise is the Batch Normalization model.\n"
      ],
      "metadata": {
        "id": "i6gb0Z0hCpOs"
      }
    },
    {
      "cell_type": "markdown",
      "source": [
        "## f.\n",
        "\n",
        "*Exercise: Retrain your model using 1cycle scheduling and see if it improves training speed and model accuracy.*\n"
      ],
      "metadata": {
        "id": "oJvJ3QoBDEuN"
      }
    },
    {
      "cell_type": "code",
      "source": [
        "keras.backend.clear_session()\n",
        "tf.random.set_seed(42)\n",
        "np.random.seed(42)\n",
        "\n",
        "model = keras.models.Sequential()\n",
        "model.add(keras.layers.Flatten(input_shape=[32, 32, 3]))\n",
        "for _ in range(20):\n",
        "    model.add(keras.layers.Dense(100,\n",
        "                                 kernel_initializer=\"lecun_normal\",\n",
        "                                 activation=\"selu\"))\n",
        "\n",
        "model.add(keras.layers.AlphaDropout(rate=0.1))\n",
        "model.add(keras.layers.Dense(10, activation=\"softmax\"))\n",
        "\n",
        "optimizer = keras.optimizers.SGD(learning_rate=1e-3)\n",
        "model.compile(loss=\"sparse_categorical_crossentropy\",\n",
        "              optimizer=optimizer,\n",
        "              metrics=[\"accuracy\"])"
      ],
      "metadata": {
        "id": "H2D0zPh3ClFs"
      },
      "execution_count": 108,
      "outputs": []
    },
    {
      "cell_type": "code",
      "source": [
        "batch_size = 128\n",
        "rates, losses = find_learning_rate(model, X_train_scaled, y_train, epochs=1, batch_size=batch_size)\n",
        "plot_lr_vs_loss(rates, losses)\n",
        "plt.axis([min(rates), max(rates), min(losses), (losses[0] + min(losses)) / 1.4])"
      ],
      "metadata": {
        "colab": {
          "base_uri": "https://localhost:8080/",
          "height": 372
        },
        "id": "U86gyYLCDUS0",
        "outputId": "7b9e631c-a71d-42dd-ab6d-bd0b8408dd97"
      },
      "execution_count": 109,
      "outputs": [
        {
          "output_type": "stream",
          "name": "stdout",
          "text": [
            "352/352 [==============================] - 6s 16ms/step - loss: nan - accuracy: 0.1379\n"
          ]
        },
        {
          "output_type": "execute_result",
          "data": {
            "text/plain": [
              "(9.999999747378752e-06,\n",
              " 9.615227699279785,\n",
              " 2.6123197078704834,\n",
              " 4.0027943679264615)"
            ]
          },
          "metadata": {},
          "execution_count": 109
        },
        {
          "output_type": "display_data",
          "data": {
            "text/plain": [
              "<Figure size 432x288 with 1 Axes>"
            ],
            "image/png": "[encoded data removed]"
          },
          "metadata": {
            "needs_background": "light"
          }
        }
      ]
    },
    {
      "cell_type": "code",
      "source": [
        "keras.backend.clear_session()\n",
        "tf.random.set_seed(42)\n",
        "np.random.seed(42)\n",
        "\n",
        "model = keras.models.Sequential()\n",
        "model.add(keras.layers.Flatten(input_shape=[32, 32, 3]))\n",
        "for _ in range(20):\n",
        "    model.add(keras.layers.Dense(100,\n",
        "                                 kernel_initializer=\"lecun_normal\",\n",
        "                                 activation=\"selu\"))\n",
        "\n",
        "model.add(keras.layers.AlphaDropout(rate=0.1))\n",
        "model.add(keras.layers.Dense(10, activation=\"softmax\"))\n",
        "\n",
        "optimizer = keras.optimizers.SGD(learning_rate=1e-2)\n",
        "model.compile(loss=\"sparse_categorical_crossentropy\",\n",
        "              optimizer=optimizer,\n",
        "              metrics=[\"accuracy\"])"
      ],
      "metadata": {
        "id": "_eV4iQvoDoyV"
      },
      "execution_count": 110,
      "outputs": []
    },
    {
      "cell_type": "code",
      "source": [
        "n_epochs = 15\n",
        "onecycle = OneCycleScheduler(math.ceil(len(X_train_scaled) / batch_size) * n_epochs, max_rate=0.05)\n",
        "history = model.fit(X_train_scaled, y_train, epochs=n_epochs, batch_size=batch_size,\n",
        "                    validation_data=(X_valid_scaled, y_valid),\n",
        "                    callbacks=[onecycle])"
      ],
      "metadata": {
        "colab": {
          "base_uri": "https://localhost:8080/"
        },
        "id": "82qIoPywDubf",
        "outputId": "d9096b77-2bc0-474e-ee63-82e6afc10bba"
      },
      "execution_count": 111,
      "outputs": [
        {
          "output_type": "stream",
          "name": "stdout",
          "text": [
            "Epoch 1/15\n",
            "352/352 [==============================] - 7s 17ms/step - loss: 2.0517 - accuracy: 0.2866 - val_loss: 1.7439 - val_accuracy: 0.3886\n",
            "Epoch 2/15\n",
            "352/352 [==============================] - 6s 16ms/step - loss: 1.7630 - accuracy: 0.3756 - val_loss: 1.6773 - val_accuracy: 0.4146\n",
            "Epoch 3/15\n",
            "352/352 [==============================] - 6s 16ms/step - loss: 1.6187 - accuracy: 0.4246 - val_loss: 1.6202 - val_accuracy: 0.4270\n",
            "Epoch 4/15\n",
            "352/352 [==============================] - 6s 16ms/step - loss: 1.5396 - accuracy: 0.4549 - val_loss: 1.5883 - val_accuracy: 0.4528\n",
            "Epoch 5/15\n",
            "352/352 [==============================] - 6s 16ms/step - loss: 1.4904 - accuracy: 0.4733 - val_loss: 1.6234 - val_accuracy: 0.4366\n",
            "Epoch 6/15\n",
            "352/352 [==============================] - 6s 16ms/step - loss: 1.4478 - accuracy: 0.4874 - val_loss: 1.5639 - val_accuracy: 0.4498\n",
            "Epoch 7/15\n",
            "352/352 [==============================] - 6s 16ms/step - loss: 1.4115 - accuracy: 0.4996 - val_loss: 1.5837 - val_accuracy: 0.4502\n",
            "Epoch 8/15\n",
            "352/352 [==============================] - 6s 16ms/step - loss: 1.3446 - accuracy: 0.5224 - val_loss: 1.4836 - val_accuracy: 0.4976\n",
            "Epoch 9/15\n",
            "352/352 [==============================] - 6s 16ms/step - loss: 1.2710 - accuracy: 0.5478 - val_loss: 1.4948 - val_accuracy: 0.4934\n",
            "Epoch 10/15\n",
            "352/352 [==============================] - 6s 16ms/step - loss: 1.1997 - accuracy: 0.5730 - val_loss: 1.4944 - val_accuracy: 0.5100\n",
            "Epoch 11/15\n",
            "352/352 [==============================] - 6s 16ms/step - loss: 1.1314 - accuracy: 0.5974 - val_loss: 1.5413 - val_accuracy: 0.5048\n",
            "Epoch 12/15\n",
            "352/352 [==============================] - 6s 16ms/step - loss: 1.0658 - accuracy: 0.6181 - val_loss: 1.4834 - val_accuracy: 0.5208\n",
            "Epoch 13/15\n",
            "352/352 [==============================] - 6s 16ms/step - loss: 0.9953 - accuracy: 0.6446 - val_loss: 1.5069 - val_accuracy: 0.5312\n",
            "Epoch 14/15\n",
            "352/352 [==============================] - 6s 16ms/step - loss: 0.9298 - accuracy: 0.6679 - val_loss: 1.5273 - val_accuracy: 0.5306\n",
            "Epoch 15/15\n",
            "352/352 [==============================] - 6s 16ms/step - loss: 0.8900 - accuracy: 0.6835 - val_loss: 1.5539 - val_accuracy: 0.5276\n"
          ]
        }
      ]
    },
    {
      "cell_type": "markdown",
      "source": [
        "One cycle allowed us to train the model in just 15 epochs, each taking only 6 seconds (thanks to the larger batch size). This is several times faster than the fastest model we trained so far. Moreover, we improved the model's performance (from 48.1% to 52.0%). The batch normalized model reaches a slightly better performance (53.6%), but it's much slower to train."
      ],
      "metadata": {
        "id": "0u2EryU6D9Ry"
      }
    }
  ]
}